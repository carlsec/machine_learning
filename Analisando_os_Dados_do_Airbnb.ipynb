{
  "cells": [
    {
      "cell_type": "markdown",
      "metadata": {
        "id": "view-in-github",
        "colab_type": "text"
      },
      "source": [
        "<a href=\"https://colab.research.google.com/github/carlsec/machine_learning/blob/master/Analisando_os_Dados_do_Airbnb.ipynb\" target=\"_parent\"><img src=\"https://colab.research.google.com/assets/colab-badge.svg\" alt=\"Open In Colab\"/></a>"
      ]
    },
    {
      "cell_type": "markdown",
      "metadata": {
        "id": "kLI0gJtzDGuQ"
      },
      "source": [
        "<img alt=\"Colaboratory logo\" width=\"15%\" src=\"https://raw.githubusercontent.com/carlosfab/escola-data-science/master/img/novo_logo_bg_claro.png\">\n",
        "\n",
        "#### **Data Science na Prática 3.0**\n",
        "*by [sigmoidal.ai](https://sigmoidal.ai)*\n",
        "\n",
        "---\n",
        "\n",
        "# Análise dos Dados do Airbnb - *Columbus - Ohio - EUA*\n",
        "\n",
        "O [Airbnb](https://www.airbnb.com.br/) já é considerado como sendo a **maior empresa hoteleira da atualidade**. Ah, o detalhe é que ele **não possui nenhum hotel**!\n",
        "\n",
        "Conectando pessoas que querem viajar (e se hospedar) com anfitriões que querem alugar seus imóveis de maneira prática, o Airbnb fornece uma plataforma inovadora para tornar essa hospedagem alternativa.\n",
        "\n",
        "No final de 2018, a Startup fundada 10 anos atrás, já havia **hospedado mais de 300 milhões** de pessoas ao redor de todo o mundo, desafiando as redes hoteleiras tradicionais.\n",
        "\n",
        "Uma das iniciativas do Airbnb é disponibilizar dados do site, para algumas das principais cidades do mundo. Por meio do portal [Inside Airbnb](http://insideairbnb.com/get-the-data.html), é possível baixar uma grande quantidade de dados para desenvolver projetos e soluções de *Data Science*.\n",
        "\n",
        "<center><img alt=\"Analisando Airbnb\" width=\"10%\" src=\"https://www.area360.com.au/wp-content/uploads/2017/09/airbnb-logo.jpg\"></center>\n",
        "\n",
        "**Neste *notebook*, iremos analisar os dados referentes à cidade ohio, e ver quais insights podem ser extraídos a partir de dados brutos.**"
      ]
    },
    {
      "cell_type": "markdown",
      "metadata": {
        "id": "0zxQHhIUDF_2"
      },
      "source": [
        "## Obtenção dos Dados\n"
      ]
    },
    {
      "cell_type": "code",
      "execution_count": 22,
      "metadata": {
        "id": "Vhp2wMPgJ6zX"
      },
      "outputs": [],
      "source": [
        "# importar os pacotes necessarios\n",
        "import pandas as pd\n",
        "import numpy as np\n",
        "import matplotlib.pyplot as plt\n",
        "import seaborn as sns\n",
        "\n",
        "pd.set_option('display.max_rows', 500)\n",
        "pd.set_option('display.max_columns', 500)\n",
        "pd.set_option('display.width', 1000)"
      ]
    },
    {
      "cell_type": "code",
      "execution_count": 23,
      "metadata": {
        "id": "tUmoAT8DLQ5T"
      },
      "outputs": [],
      "source": [
        "# importar o arquivo listings.csv para um DataFrame\n",
        "df = pd.read_csv('http://data.insideairbnb.com/united-states/oh/columbus/2022-03-25/data/listings.csv.gz')"
      ]
    },
    {
      "cell_type": "markdown",
      "metadata": {
        "id": "qb5By2nIMS6m"
      },
      "source": [
        "## Análise dos Dados\n"
      ]
    },
    {
      "cell_type": "markdown",
      "metadata": {
        "id": "RYgvuebKNg8-"
      },
      "source": [
        "**Dicionário das variáveis**\n",
        "\n",
        " * 0   `id` - Id de cada registro                                            \n",
        " * 1   `listing_url` - Url do anuncio                                   \n",
        " * 2   `scrape_id` - Id do scraping                                     \n",
        " * 3   `last_scraped` - Data do scraping                                \n",
        " * 4   `name`- Titulo do anuncio                                          \n",
        " * 5   `description`- Descrição do anuncio                                  \n",
        " * 6   `neighborhood_overview` - Visão geral sobre o bairro                       \n",
        " * 7   `picture_url`- Url da foto do anuncio                                  \n",
        " * 8   `host_id` - Id do anfitrião                                      \n",
        " * 9   `host_url` - Link do perfil do anfitrião                                     \n",
        " * 10  `host_name` - Nome do anfitrião                                    \n",
        " * 11  `host_since` - Data que o anfitrião entrou na airbnb                                    \n",
        " * 12  `host_location` - Localização do anfitrião                                \n",
        " * 13  `host_about` - Sobre o anfitrião                                    \n",
        " * 14  `host_response_time` - Tempo de resposta do anfitrião                         \n",
        " * 15  `host_response_rate`- Taxa de avaliação do anfitrião                           \n",
        " * 16  `host_acceptance_rate` - Taxa de aceitação do anfitrião                    \n",
        " * 17  `host_is_superhost` - Um Superhost é alguém que vai além em suas funções de hospedagem e é um exemplo brilhante de como um anfitrião.                          \n",
        " * 18  `host_thumbnail_url` - Link do thumbnail do anfitrião                        \n",
        " * 19  `host_picture_url` - Link da foto do anfitrião                              \n",
        " * 20  `host_neighbourhood` - Bairro do anfitrião                           \n",
        " * 21  `host_listings_count`- Contagem postagens do anfitrião                           \n",
        " * 22  `host_total_listings_count` - Total de postagens do anfitrião                   \n",
        " * 23  `host_verifications` -                             \n",
        " * 24  `host_has_profile_pic` - Se o anfitrião tem foto de perfil                          \n",
        " * 25  `host_identity_verified` - Anfitrião possui identidade verificada                       \n",
        " * 26  `neighbourhood`- Bairro                                \n",
        " * 27  `neighbourhood_cleansed` Se o bairro e limpo                       \n",
        " * 28  `neighbourhood_group_cleansed` - Se o grupo do bairro e limpo                \n",
        " * 29  `latitude` - Latitude do imóvel                                      \n",
        " * 30  `longitude` - Latitude do imóvel                                          \n",
        " * 31  `property_type` - Tipo de propriedade                              \n",
        " * 32  `room_type` - Tipo de quarto                                    \n",
        " * 33  `accommodates` Acomoda quantas pessoas                                 \n",
        " * 34  `bathrooms` - Quantidade de banheiros                                \n",
        " * 35  `bathrooms_text` - banheiros texto ?                      \n",
        " * 36  `bedrooms` - Quantidade de quartos                                    \n",
        " * 37  `beds`- Quantidade de quartos                                          \n",
        " * 38  `amenities` - Facilidades do imovel                                   \n",
        " * 39  `price` - Preço                                        \n",
        " * 40  `minimum_nights` - Minimo de noites                               \n",
        " * 41  `maximum_nights` - Maximo de noites                       \n",
        " * 42  `minimum_minimum_nights` - Minimo de noites                 \n",
        " * 43  `maximum_minimum_nights` - Maximo de noites                   \n",
        " * 44  `minimum_maximum_nights` - Minimo de noites                \n",
        " * 45  `maximum_maximum_nights` - Maximo de noites                    \n",
        " * 46  `minimum_nights_avg_ntm` - Media de noites minimas                   \n",
        " * 47  `maximum_nights_avg_ntm` - Media de noites maximas                \n",
        " * 48  `calendar_updated` - E tudo nulo                      \n",
        " * 49  `has_availability` - Se tem disponibilidade                         \n",
        " * 50  `availability_30` - Disponibilidade 30 ?                             \n",
        " * 51  `availability_60` - Disponibilidade 60 ?\n",
        " * 52  `availability_90` - Disponibilidade 90 ?                             \n",
        " * 53  `availability_365` - Disponibilidade 365 ?                              \n",
        " * 54  `calendar_last_scraped`- Data do ultimo scraping dos dados                        \n",
        " * 55  `number_of_reviews` - Quantidade de comentarios                    \n",
        " * 56  `number_of_reviews_ltm` - Quantidade de comentarios                      \n",
        " * 57  `number_of_reviews_l30d` - Quantidade de comentarios dos ultimos 130 dias                       \n",
        " * 58  `first_review` - Data do primeiro comentario                                 \n",
        " * 59  `last_review` - Data do ultimo comentario                                  \n",
        " * 60  `review_scores_rating` - Avaliação de pontuação                         \n",
        " * 61  `review_scores_accuracy` - Accuracia das pontuações de revisão                  \n",
        " * 62  `review_scores_cleanliness` - Revisão pontuações limpeza\n",
        " * 63  `review_scores_checkin` - revisão de pontuação de check-in                       \n",
        " * 64  `review_scores_communication` - Comunicação de pontuação de revisão              \n",
        " * 65  `review_scores_location` - Rever a localização das pontuações            \n",
        " * 66  `review_scores_value`- Valor de pontuação de revisão  \n",
        " * 67  `license` - Licença \n",
        " * 68  `instant_bookable` - Reserva instantânea                              \n",
        " * 69  `calculated_host_listings_count` - Contagem calculada de listagens de anfitriões               \n",
        " * 70  `calculated_host_listings_count_entire_homes` - Anúncios calculados de anfitriões com casas inteiras     \n",
        " * 71  `calculated_host_listings_count_private_rooms` - Anúncios calculados de anfitriões com quartos privados  \n",
        " * 72  `calculated_host_listings_count_shared_rooms` - Listagens calculadas de anfitriões com quartos compartilhados  \n",
        " * 73  `reviews_per_month` - Revisões por mês\n",
        "\n",
        "Antes de iniciar qualquer análise, vamos verificar a cara do nosso *dataset*, analisando as 5 primeiras entradas."
      ]
    },
    {
      "cell_type": "code",
      "execution_count": 24,
      "metadata": {
        "colab": {
          "base_uri": "https://localhost:8080/",
          "height": 600
        },
        "id": "2iS_dae7YQtO",
        "outputId": "9eafb372-0ee5-42f7-c969-63e393926c30"
      },
      "outputs": [
        {
          "output_type": "execute_result",
          "data": {
            "text/plain": [
              "       id                          listing_url       scrape_id last_scraped                                              name                                        description                              neighborhood_overview                                        picture_url  host_id                                   host_url      host_name  host_since                  host_location                                         host_about  host_response_time host_response_rate host_acceptance_rate host_is_superhost                                 host_thumbnail_url                                   host_picture_url host_neighbourhood  host_listings_count  host_total_listings_count                                 host_verifications host_has_profile_pic host_identity_verified                  neighbourhood neighbourhood_cleansed  neighbourhood_group_cleansed  latitude  longitude                     property_type        room_type  accommodates  bathrooms  bathrooms_text  bedrooms  beds  \\\n",
              "0   90676   https://www.airbnb.com/rooms/90676  20220325043139   2022-03-25                  Short North - Italianate Cottage  Just steps from High Street and all the action...  The Short North Italianate Cottage is located ...  https://a0.muscache.com/pictures/950e43cd-53f3...   483306   https://www.airbnb.com/users/show/483306  Audra & Lacey  2011-04-04  Columbus, Ohio, United States  Active, young professionals who love to travel...      within an hour               100%                  99%                 t  https://a0.muscache.com/im/users/483306/profil...  https://a0.muscache.com/im/users/483306/profil...                NaN                    2                          2  ['email', 'phone', 'reviews', 'kba', 'work_ema...                    t                      t  Columbus, Ohio, United States  Near North/University                           NaN  39.98394  -83.00321           Entire residential home  Entire home/apt             6        NaN         2 baths       3.0   3.0   \n",
              "1  543140  https://www.airbnb.com/rooms/543140  20220325043139   2022-03-25                Private queen bedroom 1 - N.Campus  Private, second-floor queen bed with desk, ple...                   We are close to a lot of things!  https://a0.muscache.com/pictures/e720cdf0-e36b...  2350409  https://www.airbnb.com/users/show/2350409         Edward  2012-05-11  Columbus, Ohio, United States  Hello, hello.\\r\\n\\r\\nAbout me: pretty easy goi...  within a few hours               100%                  99%                 t  https://a0.muscache.com/im/users/2350409/profi...  https://a0.muscache.com/im/users/2350409/profi...                NaN                    3                          3  ['email', 'phone', 'facebook', 'reviews', 'kba...                    t                      f  Columbus, Ohio, United States  Near North/University                           NaN  40.01243  -83.00986  Private room in residential home     Private room             1        NaN   1 shared bath       1.0   1.0   \n",
              "2  591101  https://www.airbnb.com/rooms/591101  20220325043139   2022-03-25   The Bellows' Studio Loft  (3rd floor apartment)  Famous American artist George Bellows home wit...  A historic neighborhood of beautiful victorian...  https://a0.muscache.com/pictures/50177672/b02a...  2889677  https://www.airbnb.com/users/show/2889677           Gail  2012-07-10  Columbus, Ohio, United States  My husband Eric and I are both artists, sharin...      within an hour               100%                  96%                 t  https://a0.muscache.com/im/users/2889677/profi...  https://a0.muscache.com/im/users/2889677/profi...                NaN                    1                          1   ['email', 'phone', 'facebook', 'reviews', 'kba']                    t                      f  Columbus, Ohio, United States              Near East                           NaN  39.96086  -82.97968              Private room in loft     Private room             2        NaN  1 private bath       1.0   1.0   \n",
              "3  923248  https://www.airbnb.com/rooms/923248  20220325043139   2022-03-25  1 Single Bed in a Shared Coed Dorm at the Hostel  This is a shared dormitory room of up to 5 peo...  We are located in the vibrant University Distr...  https://a0.muscache.com/pictures/29aabf51-4e6f...  4965048  https://www.airbnb.com/users/show/4965048         Mathew  2013-02-04   Pāhoa, Hawaii, United States  I'm an outgoing type who values the experience...      within an hour               100%                  99%                 f  https://a0.muscache.com/im/pictures/user/65bb4...  https://a0.muscache.com/im/pictures/user/65bb4...               Hilo                   16                         16  ['email', 'phone', 'facebook', 'reviews', 'off...                    t                      t  Columbus, Ohio, United States  Near North/University                           NaN  40.01259  -83.00164             Shared room in hostel      Shared room             1        NaN  3 shared baths       1.0   5.0   \n",
              "4  927867  https://www.airbnb.com/rooms/927867  20220325043139   2022-03-25                   Full Private Room at the Hostel  The Wayfaring Buckeye Hostel is a social place...  We are located in the vibrant University Distr...  https://a0.muscache.com/pictures/08033ebe-286c...  4965048  https://www.airbnb.com/users/show/4965048         Mathew  2013-02-04   Pāhoa, Hawaii, United States  I'm an outgoing type who values the experience...      within an hour               100%                  99%                 f  https://a0.muscache.com/im/pictures/user/65bb4...  https://a0.muscache.com/im/pictures/user/65bb4...               Hilo                   16                         16  ['email', 'phone', 'facebook', 'reviews', 'off...                    t                      t  Columbus, Ohio, United States  Near North/University                           NaN  40.01259  -83.00164            Private room in hostel     Private room             2        NaN  3 shared baths       1.0   1.0   \n",
              "\n",
              "                                           amenities    price  minimum_nights  maximum_nights  minimum_minimum_nights  maximum_minimum_nights  minimum_maximum_nights  maximum_maximum_nights  minimum_nights_avg_ntm  maximum_nights_avg_ntm  calendar_updated has_availability  availability_30  availability_60  availability_90  availability_365 calendar_last_scraped  number_of_reviews  number_of_reviews_ltm  number_of_reviews_l30d first_review last_review  review_scores_rating  review_scores_accuracy  review_scores_cleanliness  review_scores_checkin  review_scores_communication  review_scores_location  review_scores_value    license instant_bookable  calculated_host_listings_count  calculated_host_listings_count_entire_homes  calculated_host_listings_count_private_rooms  calculated_host_listings_count_shared_rooms  reviews_per_month  \n",
              "0  [\"Essentials\", \"Breakfast\", \"Dishes and silver...  $140.00               1             365                       1                       1                     365                     365                     1.0                   365.0               NaN                t                7               26               46               124            2022-03-25                543                    109                       3   2011-10-11  2022-03-06                  4.82                    4.85                       4.84                   4.94                         4.88                    4.93                 4.78  2019-1568                f                               3                                            3                                             0                                            0               4.27  \n",
              "1  [\"Essentials\", \"Refrigerator\", \"Hot water\", \"F...   $25.00               3            1125                       3                       3                    1125                    1125                     3.0                  1125.0               NaN                t                0                4                4               134            2022-03-25                116                     16                       1   2012-07-31  2022-03-12                  4.68                    4.73                       4.29                   4.93                         4.88                    4.75                 4.78  2019-1344                f                               3                                            0                                             3                                            0               0.99  \n",
              "2  [\"Essentials\", \"Host greets you\", \"Dishes and ...  $100.00               2              30                       2                       2                    1125                    1125                     2.0                  1125.0               NaN                t               17               43               71               346            2022-03-25                252                     25                       0   2012-08-10  2022-02-13                  4.92                    4.92                       4.92                   4.96                         4.91                    4.88                 4.87  2019-1230                f                               1                                            0                                             1                                            0               2.15  \n",
              "3  [\"Essentials\", \"Breakfast\", \"Dishes and silver...   $35.00               1             365                       1                       1                      30                      30                     1.0                    30.0               NaN                t               28               58               88               363            2022-03-25                261                     38                       5   2013-02-26  2022-03-19                  4.77                    4.82                       4.80                   4.91                         4.90                    4.71                 4.87  2019-1314                f                               9                                            3                                             4                                            2               2.36  \n",
              "4  [\"Essentials\", \"Breakfast\", \"Dishes and silver...   $73.00               1             365                       1                       1                      30                      30                     1.0                    30.0               NaN                t               28               58               88               361            2022-03-25                 61                     13                       0   2013-09-11  2022-02-20                  4.68                    4.83                       4.63                   4.88                         4.88                    4.68                 4.70  2019-1314                f                               9                                            3                                             4                                            2               0.59  "
            ],
            "text/html": [
              "\n",
              "  <div id=\"df-c8220d41-1ed5-4ff9-9f1e-606782f3869b\">\n",
              "    <div class=\"colab-df-container\">\n",
              "      <div>\n",
              "<style scoped>\n",
              "    .dataframe tbody tr th:only-of-type {\n",
              "        vertical-align: middle;\n",
              "    }\n",
              "\n",
              "    .dataframe tbody tr th {\n",
              "        vertical-align: top;\n",
              "    }\n",
              "\n",
              "    .dataframe thead th {\n",
              "        text-align: right;\n",
              "    }\n",
              "</style>\n",
              "<table border=\"1\" class=\"dataframe\">\n",
              "  <thead>\n",
              "    <tr style=\"text-align: right;\">\n",
              "      <th></th>\n",
              "      <th>id</th>\n",
              "      <th>listing_url</th>\n",
              "      <th>scrape_id</th>\n",
              "      <th>last_scraped</th>\n",
              "      <th>name</th>\n",
              "      <th>description</th>\n",
              "      <th>neighborhood_overview</th>\n",
              "      <th>picture_url</th>\n",
              "      <th>host_id</th>\n",
              "      <th>host_url</th>\n",
              "      <th>host_name</th>\n",
              "      <th>host_since</th>\n",
              "      <th>host_location</th>\n",
              "      <th>host_about</th>\n",
              "      <th>host_response_time</th>\n",
              "      <th>host_response_rate</th>\n",
              "      <th>host_acceptance_rate</th>\n",
              "      <th>host_is_superhost</th>\n",
              "      <th>host_thumbnail_url</th>\n",
              "      <th>host_picture_url</th>\n",
              "      <th>host_neighbourhood</th>\n",
              "      <th>host_listings_count</th>\n",
              "      <th>host_total_listings_count</th>\n",
              "      <th>host_verifications</th>\n",
              "      <th>host_has_profile_pic</th>\n",
              "      <th>host_identity_verified</th>\n",
              "      <th>neighbourhood</th>\n",
              "      <th>neighbourhood_cleansed</th>\n",
              "      <th>neighbourhood_group_cleansed</th>\n",
              "      <th>latitude</th>\n",
              "      <th>longitude</th>\n",
              "      <th>property_type</th>\n",
              "      <th>room_type</th>\n",
              "      <th>accommodates</th>\n",
              "      <th>bathrooms</th>\n",
              "      <th>bathrooms_text</th>\n",
              "      <th>bedrooms</th>\n",
              "      <th>beds</th>\n",
              "      <th>amenities</th>\n",
              "      <th>price</th>\n",
              "      <th>minimum_nights</th>\n",
              "      <th>maximum_nights</th>\n",
              "      <th>minimum_minimum_nights</th>\n",
              "      <th>maximum_minimum_nights</th>\n",
              "      <th>minimum_maximum_nights</th>\n",
              "      <th>maximum_maximum_nights</th>\n",
              "      <th>minimum_nights_avg_ntm</th>\n",
              "      <th>maximum_nights_avg_ntm</th>\n",
              "      <th>calendar_updated</th>\n",
              "      <th>has_availability</th>\n",
              "      <th>availability_30</th>\n",
              "      <th>availability_60</th>\n",
              "      <th>availability_90</th>\n",
              "      <th>availability_365</th>\n",
              "      <th>calendar_last_scraped</th>\n",
              "      <th>number_of_reviews</th>\n",
              "      <th>number_of_reviews_ltm</th>\n",
              "      <th>number_of_reviews_l30d</th>\n",
              "      <th>first_review</th>\n",
              "      <th>last_review</th>\n",
              "      <th>review_scores_rating</th>\n",
              "      <th>review_scores_accuracy</th>\n",
              "      <th>review_scores_cleanliness</th>\n",
              "      <th>review_scores_checkin</th>\n",
              "      <th>review_scores_communication</th>\n",
              "      <th>review_scores_location</th>\n",
              "      <th>review_scores_value</th>\n",
              "      <th>license</th>\n",
              "      <th>instant_bookable</th>\n",
              "      <th>calculated_host_listings_count</th>\n",
              "      <th>calculated_host_listings_count_entire_homes</th>\n",
              "      <th>calculated_host_listings_count_private_rooms</th>\n",
              "      <th>calculated_host_listings_count_shared_rooms</th>\n",
              "      <th>reviews_per_month</th>\n",
              "    </tr>\n",
              "  </thead>\n",
              "  <tbody>\n",
              "    <tr>\n",
              "      <th>0</th>\n",
              "      <td>90676</td>\n",
              "      <td>https://www.airbnb.com/rooms/90676</td>\n",
              "      <td>20220325043139</td>\n",
              "      <td>2022-03-25</td>\n",
              "      <td>Short North - Italianate Cottage</td>\n",
              "      <td>Just steps from High Street and all the action...</td>\n",
              "      <td>The Short North Italianate Cottage is located ...</td>\n",
              "      <td>https://a0.muscache.com/pictures/950e43cd-53f3...</td>\n",
              "      <td>483306</td>\n",
              "      <td>https://www.airbnb.com/users/show/483306</td>\n",
              "      <td>Audra &amp; Lacey</td>\n",
              "      <td>2011-04-04</td>\n",
              "      <td>Columbus, Ohio, United States</td>\n",
              "      <td>Active, young professionals who love to travel...</td>\n",
              "      <td>within an hour</td>\n",
              "      <td>100%</td>\n",
              "      <td>99%</td>\n",
              "      <td>t</td>\n",
              "      <td>https://a0.muscache.com/im/users/483306/profil...</td>\n",
              "      <td>https://a0.muscache.com/im/users/483306/profil...</td>\n",
              "      <td>NaN</td>\n",
              "      <td>2</td>\n",
              "      <td>2</td>\n",
              "      <td>['email', 'phone', 'reviews', 'kba', 'work_ema...</td>\n",
              "      <td>t</td>\n",
              "      <td>t</td>\n",
              "      <td>Columbus, Ohio, United States</td>\n",
              "      <td>Near North/University</td>\n",
              "      <td>NaN</td>\n",
              "      <td>39.98394</td>\n",
              "      <td>-83.00321</td>\n",
              "      <td>Entire residential home</td>\n",
              "      <td>Entire home/apt</td>\n",
              "      <td>6</td>\n",
              "      <td>NaN</td>\n",
              "      <td>2 baths</td>\n",
              "      <td>3.0</td>\n",
              "      <td>3.0</td>\n",
              "      <td>[\"Essentials\", \"Breakfast\", \"Dishes and silver...</td>\n",
              "      <td>$140.00</td>\n",
              "      <td>1</td>\n",
              "      <td>365</td>\n",
              "      <td>1</td>\n",
              "      <td>1</td>\n",
              "      <td>365</td>\n",
              "      <td>365</td>\n",
              "      <td>1.0</td>\n",
              "      <td>365.0</td>\n",
              "      <td>NaN</td>\n",
              "      <td>t</td>\n",
              "      <td>7</td>\n",
              "      <td>26</td>\n",
              "      <td>46</td>\n",
              "      <td>124</td>\n",
              "      <td>2022-03-25</td>\n",
              "      <td>543</td>\n",
              "      <td>109</td>\n",
              "      <td>3</td>\n",
              "      <td>2011-10-11</td>\n",
              "      <td>2022-03-06</td>\n",
              "      <td>4.82</td>\n",
              "      <td>4.85</td>\n",
              "      <td>4.84</td>\n",
              "      <td>4.94</td>\n",
              "      <td>4.88</td>\n",
              "      <td>4.93</td>\n",
              "      <td>4.78</td>\n",
              "      <td>2019-1568</td>\n",
              "      <td>f</td>\n",
              "      <td>3</td>\n",
              "      <td>3</td>\n",
              "      <td>0</td>\n",
              "      <td>0</td>\n",
              "      <td>4.27</td>\n",
              "    </tr>\n",
              "    <tr>\n",
              "      <th>1</th>\n",
              "      <td>543140</td>\n",
              "      <td>https://www.airbnb.com/rooms/543140</td>\n",
              "      <td>20220325043139</td>\n",
              "      <td>2022-03-25</td>\n",
              "      <td>Private queen bedroom 1 - N.Campus</td>\n",
              "      <td>Private, second-floor queen bed with desk, ple...</td>\n",
              "      <td>We are close to a lot of things!</td>\n",
              "      <td>https://a0.muscache.com/pictures/e720cdf0-e36b...</td>\n",
              "      <td>2350409</td>\n",
              "      <td>https://www.airbnb.com/users/show/2350409</td>\n",
              "      <td>Edward</td>\n",
              "      <td>2012-05-11</td>\n",
              "      <td>Columbus, Ohio, United States</td>\n",
              "      <td>Hello, hello.\\r\\n\\r\\nAbout me: pretty easy goi...</td>\n",
              "      <td>within a few hours</td>\n",
              "      <td>100%</td>\n",
              "      <td>99%</td>\n",
              "      <td>t</td>\n",
              "      <td>https://a0.muscache.com/im/users/2350409/profi...</td>\n",
              "      <td>https://a0.muscache.com/im/users/2350409/profi...</td>\n",
              "      <td>NaN</td>\n",
              "      <td>3</td>\n",
              "      <td>3</td>\n",
              "      <td>['email', 'phone', 'facebook', 'reviews', 'kba...</td>\n",
              "      <td>t</td>\n",
              "      <td>f</td>\n",
              "      <td>Columbus, Ohio, United States</td>\n",
              "      <td>Near North/University</td>\n",
              "      <td>NaN</td>\n",
              "      <td>40.01243</td>\n",
              "      <td>-83.00986</td>\n",
              "      <td>Private room in residential home</td>\n",
              "      <td>Private room</td>\n",
              "      <td>1</td>\n",
              "      <td>NaN</td>\n",
              "      <td>1 shared bath</td>\n",
              "      <td>1.0</td>\n",
              "      <td>1.0</td>\n",
              "      <td>[\"Essentials\", \"Refrigerator\", \"Hot water\", \"F...</td>\n",
              "      <td>$25.00</td>\n",
              "      <td>3</td>\n",
              "      <td>1125</td>\n",
              "      <td>3</td>\n",
              "      <td>3</td>\n",
              "      <td>1125</td>\n",
              "      <td>1125</td>\n",
              "      <td>3.0</td>\n",
              "      <td>1125.0</td>\n",
              "      <td>NaN</td>\n",
              "      <td>t</td>\n",
              "      <td>0</td>\n",
              "      <td>4</td>\n",
              "      <td>4</td>\n",
              "      <td>134</td>\n",
              "      <td>2022-03-25</td>\n",
              "      <td>116</td>\n",
              "      <td>16</td>\n",
              "      <td>1</td>\n",
              "      <td>2012-07-31</td>\n",
              "      <td>2022-03-12</td>\n",
              "      <td>4.68</td>\n",
              "      <td>4.73</td>\n",
              "      <td>4.29</td>\n",
              "      <td>4.93</td>\n",
              "      <td>4.88</td>\n",
              "      <td>4.75</td>\n",
              "      <td>4.78</td>\n",
              "      <td>2019-1344</td>\n",
              "      <td>f</td>\n",
              "      <td>3</td>\n",
              "      <td>0</td>\n",
              "      <td>3</td>\n",
              "      <td>0</td>\n",
              "      <td>0.99</td>\n",
              "    </tr>\n",
              "    <tr>\n",
              "      <th>2</th>\n",
              "      <td>591101</td>\n",
              "      <td>https://www.airbnb.com/rooms/591101</td>\n",
              "      <td>20220325043139</td>\n",
              "      <td>2022-03-25</td>\n",
              "      <td>The Bellows' Studio Loft  (3rd floor apartment)</td>\n",
              "      <td>Famous American artist George Bellows home wit...</td>\n",
              "      <td>A historic neighborhood of beautiful victorian...</td>\n",
              "      <td>https://a0.muscache.com/pictures/50177672/b02a...</td>\n",
              "      <td>2889677</td>\n",
              "      <td>https://www.airbnb.com/users/show/2889677</td>\n",
              "      <td>Gail</td>\n",
              "      <td>2012-07-10</td>\n",
              "      <td>Columbus, Ohio, United States</td>\n",
              "      <td>My husband Eric and I are both artists, sharin...</td>\n",
              "      <td>within an hour</td>\n",
              "      <td>100%</td>\n",
              "      <td>96%</td>\n",
              "      <td>t</td>\n",
              "      <td>https://a0.muscache.com/im/users/2889677/profi...</td>\n",
              "      <td>https://a0.muscache.com/im/users/2889677/profi...</td>\n",
              "      <td>NaN</td>\n",
              "      <td>1</td>\n",
              "      <td>1</td>\n",
              "      <td>['email', 'phone', 'facebook', 'reviews', 'kba']</td>\n",
              "      <td>t</td>\n",
              "      <td>f</td>\n",
              "      <td>Columbus, Ohio, United States</td>\n",
              "      <td>Near East</td>\n",
              "      <td>NaN</td>\n",
              "      <td>39.96086</td>\n",
              "      <td>-82.97968</td>\n",
              "      <td>Private room in loft</td>\n",
              "      <td>Private room</td>\n",
              "      <td>2</td>\n",
              "      <td>NaN</td>\n",
              "      <td>1 private bath</td>\n",
              "      <td>1.0</td>\n",
              "      <td>1.0</td>\n",
              "      <td>[\"Essentials\", \"Host greets you\", \"Dishes and ...</td>\n",
              "      <td>$100.00</td>\n",
              "      <td>2</td>\n",
              "      <td>30</td>\n",
              "      <td>2</td>\n",
              "      <td>2</td>\n",
              "      <td>1125</td>\n",
              "      <td>1125</td>\n",
              "      <td>2.0</td>\n",
              "      <td>1125.0</td>\n",
              "      <td>NaN</td>\n",
              "      <td>t</td>\n",
              "      <td>17</td>\n",
              "      <td>43</td>\n",
              "      <td>71</td>\n",
              "      <td>346</td>\n",
              "      <td>2022-03-25</td>\n",
              "      <td>252</td>\n",
              "      <td>25</td>\n",
              "      <td>0</td>\n",
              "      <td>2012-08-10</td>\n",
              "      <td>2022-02-13</td>\n",
              "      <td>4.92</td>\n",
              "      <td>4.92</td>\n",
              "      <td>4.92</td>\n",
              "      <td>4.96</td>\n",
              "      <td>4.91</td>\n",
              "      <td>4.88</td>\n",
              "      <td>4.87</td>\n",
              "      <td>2019-1230</td>\n",
              "      <td>f</td>\n",
              "      <td>1</td>\n",
              "      <td>0</td>\n",
              "      <td>1</td>\n",
              "      <td>0</td>\n",
              "      <td>2.15</td>\n",
              "    </tr>\n",
              "    <tr>\n",
              "      <th>3</th>\n",
              "      <td>923248</td>\n",
              "      <td>https://www.airbnb.com/rooms/923248</td>\n",
              "      <td>20220325043139</td>\n",
              "      <td>2022-03-25</td>\n",
              "      <td>1 Single Bed in a Shared Coed Dorm at the Hostel</td>\n",
              "      <td>This is a shared dormitory room of up to 5 peo...</td>\n",
              "      <td>We are located in the vibrant University Distr...</td>\n",
              "      <td>https://a0.muscache.com/pictures/29aabf51-4e6f...</td>\n",
              "      <td>4965048</td>\n",
              "      <td>https://www.airbnb.com/users/show/4965048</td>\n",
              "      <td>Mathew</td>\n",
              "      <td>2013-02-04</td>\n",
              "      <td>Pāhoa, Hawaii, United States</td>\n",
              "      <td>I'm an outgoing type who values the experience...</td>\n",
              "      <td>within an hour</td>\n",
              "      <td>100%</td>\n",
              "      <td>99%</td>\n",
              "      <td>f</td>\n",
              "      <td>https://a0.muscache.com/im/pictures/user/65bb4...</td>\n",
              "      <td>https://a0.muscache.com/im/pictures/user/65bb4...</td>\n",
              "      <td>Hilo</td>\n",
              "      <td>16</td>\n",
              "      <td>16</td>\n",
              "      <td>['email', 'phone', 'facebook', 'reviews', 'off...</td>\n",
              "      <td>t</td>\n",
              "      <td>t</td>\n",
              "      <td>Columbus, Ohio, United States</td>\n",
              "      <td>Near North/University</td>\n",
              "      <td>NaN</td>\n",
              "      <td>40.01259</td>\n",
              "      <td>-83.00164</td>\n",
              "      <td>Shared room in hostel</td>\n",
              "      <td>Shared room</td>\n",
              "      <td>1</td>\n",
              "      <td>NaN</td>\n",
              "      <td>3 shared baths</td>\n",
              "      <td>1.0</td>\n",
              "      <td>5.0</td>\n",
              "      <td>[\"Essentials\", \"Breakfast\", \"Dishes and silver...</td>\n",
              "      <td>$35.00</td>\n",
              "      <td>1</td>\n",
              "      <td>365</td>\n",
              "      <td>1</td>\n",
              "      <td>1</td>\n",
              "      <td>30</td>\n",
              "      <td>30</td>\n",
              "      <td>1.0</td>\n",
              "      <td>30.0</td>\n",
              "      <td>NaN</td>\n",
              "      <td>t</td>\n",
              "      <td>28</td>\n",
              "      <td>58</td>\n",
              "      <td>88</td>\n",
              "      <td>363</td>\n",
              "      <td>2022-03-25</td>\n",
              "      <td>261</td>\n",
              "      <td>38</td>\n",
              "      <td>5</td>\n",
              "      <td>2013-02-26</td>\n",
              "      <td>2022-03-19</td>\n",
              "      <td>4.77</td>\n",
              "      <td>4.82</td>\n",
              "      <td>4.80</td>\n",
              "      <td>4.91</td>\n",
              "      <td>4.90</td>\n",
              "      <td>4.71</td>\n",
              "      <td>4.87</td>\n",
              "      <td>2019-1314</td>\n",
              "      <td>f</td>\n",
              "      <td>9</td>\n",
              "      <td>3</td>\n",
              "      <td>4</td>\n",
              "      <td>2</td>\n",
              "      <td>2.36</td>\n",
              "    </tr>\n",
              "    <tr>\n",
              "      <th>4</th>\n",
              "      <td>927867</td>\n",
              "      <td>https://www.airbnb.com/rooms/927867</td>\n",
              "      <td>20220325043139</td>\n",
              "      <td>2022-03-25</td>\n",
              "      <td>Full Private Room at the Hostel</td>\n",
              "      <td>The Wayfaring Buckeye Hostel is a social place...</td>\n",
              "      <td>We are located in the vibrant University Distr...</td>\n",
              "      <td>https://a0.muscache.com/pictures/08033ebe-286c...</td>\n",
              "      <td>4965048</td>\n",
              "      <td>https://www.airbnb.com/users/show/4965048</td>\n",
              "      <td>Mathew</td>\n",
              "      <td>2013-02-04</td>\n",
              "      <td>Pāhoa, Hawaii, United States</td>\n",
              "      <td>I'm an outgoing type who values the experience...</td>\n",
              "      <td>within an hour</td>\n",
              "      <td>100%</td>\n",
              "      <td>99%</td>\n",
              "      <td>f</td>\n",
              "      <td>https://a0.muscache.com/im/pictures/user/65bb4...</td>\n",
              "      <td>https://a0.muscache.com/im/pictures/user/65bb4...</td>\n",
              "      <td>Hilo</td>\n",
              "      <td>16</td>\n",
              "      <td>16</td>\n",
              "      <td>['email', 'phone', 'facebook', 'reviews', 'off...</td>\n",
              "      <td>t</td>\n",
              "      <td>t</td>\n",
              "      <td>Columbus, Ohio, United States</td>\n",
              "      <td>Near North/University</td>\n",
              "      <td>NaN</td>\n",
              "      <td>40.01259</td>\n",
              "      <td>-83.00164</td>\n",
              "      <td>Private room in hostel</td>\n",
              "      <td>Private room</td>\n",
              "      <td>2</td>\n",
              "      <td>NaN</td>\n",
              "      <td>3 shared baths</td>\n",
              "      <td>1.0</td>\n",
              "      <td>1.0</td>\n",
              "      <td>[\"Essentials\", \"Breakfast\", \"Dishes and silver...</td>\n",
              "      <td>$73.00</td>\n",
              "      <td>1</td>\n",
              "      <td>365</td>\n",
              "      <td>1</td>\n",
              "      <td>1</td>\n",
              "      <td>30</td>\n",
              "      <td>30</td>\n",
              "      <td>1.0</td>\n",
              "      <td>30.0</td>\n",
              "      <td>NaN</td>\n",
              "      <td>t</td>\n",
              "      <td>28</td>\n",
              "      <td>58</td>\n",
              "      <td>88</td>\n",
              "      <td>361</td>\n",
              "      <td>2022-03-25</td>\n",
              "      <td>61</td>\n",
              "      <td>13</td>\n",
              "      <td>0</td>\n",
              "      <td>2013-09-11</td>\n",
              "      <td>2022-02-20</td>\n",
              "      <td>4.68</td>\n",
              "      <td>4.83</td>\n",
              "      <td>4.63</td>\n",
              "      <td>4.88</td>\n",
              "      <td>4.88</td>\n",
              "      <td>4.68</td>\n",
              "      <td>4.70</td>\n",
              "      <td>2019-1314</td>\n",
              "      <td>f</td>\n",
              "      <td>9</td>\n",
              "      <td>3</td>\n",
              "      <td>4</td>\n",
              "      <td>2</td>\n",
              "      <td>0.59</td>\n",
              "    </tr>\n",
              "  </tbody>\n",
              "</table>\n",
              "</div>\n",
              "      <button class=\"colab-df-convert\" onclick=\"convertToInteractive('df-c8220d41-1ed5-4ff9-9f1e-606782f3869b')\"\n",
              "              title=\"Convert this dataframe to an interactive table.\"\n",
              "              style=\"display:none;\">\n",
              "        \n",
              "  <svg xmlns=\"http://www.w3.org/2000/svg\" height=\"24px\"viewBox=\"0 0 24 24\"\n",
              "       width=\"24px\">\n",
              "    <path d=\"M0 0h24v24H0V0z\" fill=\"none\"/>\n",
              "    <path d=\"M18.56 5.44l.94 2.06.94-2.06 2.06-.94-2.06-.94-.94-2.06-.94 2.06-2.06.94zm-11 1L8.5 8.5l.94-2.06 2.06-.94-2.06-.94L8.5 2.5l-.94 2.06-2.06.94zm10 10l.94 2.06.94-2.06 2.06-.94-2.06-.94-.94-2.06-.94 2.06-2.06.94z\"/><path d=\"M17.41 7.96l-1.37-1.37c-.4-.4-.92-.59-1.43-.59-.52 0-1.04.2-1.43.59L10.3 9.45l-7.72 7.72c-.78.78-.78 2.05 0 2.83L4 21.41c.39.39.9.59 1.41.59.51 0 1.02-.2 1.41-.59l7.78-7.78 2.81-2.81c.8-.78.8-2.07 0-2.86zM5.41 20L4 18.59l7.72-7.72 1.47 1.35L5.41 20z\"/>\n",
              "  </svg>\n",
              "      </button>\n",
              "      \n",
              "  <style>\n",
              "    .colab-df-container {\n",
              "      display:flex;\n",
              "      flex-wrap:wrap;\n",
              "      gap: 12px;\n",
              "    }\n",
              "\n",
              "    .colab-df-convert {\n",
              "      background-color: #E8F0FE;\n",
              "      border: none;\n",
              "      border-radius: 50%;\n",
              "      cursor: pointer;\n",
              "      display: none;\n",
              "      fill: #1967D2;\n",
              "      height: 32px;\n",
              "      padding: 0 0 0 0;\n",
              "      width: 32px;\n",
              "    }\n",
              "\n",
              "    .colab-df-convert:hover {\n",
              "      background-color: #E2EBFA;\n",
              "      box-shadow: 0px 1px 2px rgba(60, 64, 67, 0.3), 0px 1px 3px 1px rgba(60, 64, 67, 0.15);\n",
              "      fill: #174EA6;\n",
              "    }\n",
              "\n",
              "    [theme=dark] .colab-df-convert {\n",
              "      background-color: #3B4455;\n",
              "      fill: #D2E3FC;\n",
              "    }\n",
              "\n",
              "    [theme=dark] .colab-df-convert:hover {\n",
              "      background-color: #434B5C;\n",
              "      box-shadow: 0px 1px 3px 1px rgba(0, 0, 0, 0.15);\n",
              "      filter: drop-shadow(0px 1px 2px rgba(0, 0, 0, 0.3));\n",
              "      fill: #FFFFFF;\n",
              "    }\n",
              "  </style>\n",
              "\n",
              "      <script>\n",
              "        const buttonEl =\n",
              "          document.querySelector('#df-c8220d41-1ed5-4ff9-9f1e-606782f3869b button.colab-df-convert');\n",
              "        buttonEl.style.display =\n",
              "          google.colab.kernel.accessAllowed ? 'block' : 'none';\n",
              "\n",
              "        async function convertToInteractive(key) {\n",
              "          const element = document.querySelector('#df-c8220d41-1ed5-4ff9-9f1e-606782f3869b');\n",
              "          const dataTable =\n",
              "            await google.colab.kernel.invokeFunction('convertToInteractive',\n",
              "                                                     [key], {});\n",
              "          if (!dataTable) return;\n",
              "\n",
              "          const docLinkHtml = 'Like what you see? Visit the ' +\n",
              "            '<a target=\"_blank\" href=https://colab.research.google.com/notebooks/data_table.ipynb>data table notebook</a>'\n",
              "            + ' to learn more about interactive tables.';\n",
              "          element.innerHTML = '';\n",
              "          dataTable['output_type'] = 'display_data';\n",
              "          await google.colab.output.renderOutput(dataTable, element);\n",
              "          const docLink = document.createElement('div');\n",
              "          docLink.innerHTML = docLinkHtml;\n",
              "          element.appendChild(docLink);\n",
              "        }\n",
              "      </script>\n",
              "    </div>\n",
              "  </div>\n",
              "  "
            ]
          },
          "metadata": {},
          "execution_count": 24
        }
      ],
      "source": [
        "# mostrar as 5 primeiras entradas\n",
        "df.head(5)"
      ]
    },
    {
      "cell_type": "code",
      "execution_count": 25,
      "metadata": {
        "colab": {
          "base_uri": "https://localhost:8080/"
        },
        "id": "qlW1CGvlZD2J",
        "outputId": "cedebd72-4a92-49c2-ee81-b05298d066fe"
      },
      "outputs": [
        {
          "output_type": "stream",
          "name": "stdout",
          "text": [
            "<class 'pandas.core.frame.DataFrame'>\n",
            "RangeIndex: 1742 entries, 0 to 1741\n",
            "Data columns (total 74 columns):\n",
            " #   Column                                        Non-Null Count  Dtype  \n",
            "---  ------                                        --------------  -----  \n",
            " 0   id                                            1742 non-null   int64  \n",
            " 1   listing_url                                   1742 non-null   object \n",
            " 2   scrape_id                                     1742 non-null   int64  \n",
            " 3   last_scraped                                  1742 non-null   object \n",
            " 4   name                                          1742 non-null   object \n",
            " 5   description                                   1737 non-null   object \n",
            " 6   neighborhood_overview                         1254 non-null   object \n",
            " 7   picture_url                                   1742 non-null   object \n",
            " 8   host_id                                       1742 non-null   int64  \n",
            " 9   host_url                                      1742 non-null   object \n",
            " 10  host_name                                     1742 non-null   object \n",
            " 11  host_since                                    1742 non-null   object \n",
            " 12  host_location                                 1742 non-null   object \n",
            " 13  host_about                                    1173 non-null   object \n",
            " 14  host_response_time                            1653 non-null   object \n",
            " 15  host_response_rate                            1653 non-null   object \n",
            " 16  host_acceptance_rate                          1688 non-null   object \n",
            " 17  host_is_superhost                             1742 non-null   object \n",
            " 18  host_thumbnail_url                            1742 non-null   object \n",
            " 19  host_picture_url                              1742 non-null   object \n",
            " 20  host_neighbourhood                            1313 non-null   object \n",
            " 21  host_listings_count                           1742 non-null   int64  \n",
            " 22  host_total_listings_count                     1742 non-null   int64  \n",
            " 23  host_verifications                            1742 non-null   object \n",
            " 24  host_has_profile_pic                          1742 non-null   object \n",
            " 25  host_identity_verified                        1742 non-null   object \n",
            " 26  neighbourhood                                 1254 non-null   object \n",
            " 27  neighbourhood_cleansed                        1742 non-null   object \n",
            " 28  neighbourhood_group_cleansed                  0 non-null      float64\n",
            " 29  latitude                                      1742 non-null   float64\n",
            " 30  longitude                                     1742 non-null   float64\n",
            " 31  property_type                                 1742 non-null   object \n",
            " 32  room_type                                     1742 non-null   object \n",
            " 33  accommodates                                  1742 non-null   int64  \n",
            " 34  bathrooms                                     0 non-null      float64\n",
            " 35  bathrooms_text                                1742 non-null   object \n",
            " 36  bedrooms                                      1677 non-null   float64\n",
            " 37  beds                                          1728 non-null   float64\n",
            " 38  amenities                                     1742 non-null   object \n",
            " 39  price                                         1742 non-null   object \n",
            " 40  minimum_nights                                1742 non-null   int64  \n",
            " 41  maximum_nights                                1742 non-null   int64  \n",
            " 42  minimum_minimum_nights                        1742 non-null   int64  \n",
            " 43  maximum_minimum_nights                        1742 non-null   int64  \n",
            " 44  minimum_maximum_nights                        1742 non-null   int64  \n",
            " 45  maximum_maximum_nights                        1742 non-null   int64  \n",
            " 46  minimum_nights_avg_ntm                        1742 non-null   float64\n",
            " 47  maximum_nights_avg_ntm                        1742 non-null   float64\n",
            " 48  calendar_updated                              0 non-null      float64\n",
            " 49  has_availability                              1742 non-null   object \n",
            " 50  availability_30                               1742 non-null   int64  \n",
            " 51  availability_60                               1742 non-null   int64  \n",
            " 52  availability_90                               1742 non-null   int64  \n",
            " 53  availability_365                              1742 non-null   int64  \n",
            " 54  calendar_last_scraped                         1742 non-null   object \n",
            " 55  number_of_reviews                             1742 non-null   int64  \n",
            " 56  number_of_reviews_ltm                         1742 non-null   int64  \n",
            " 57  number_of_reviews_l30d                        1742 non-null   int64  \n",
            " 58  first_review                                  1540 non-null   object \n",
            " 59  last_review                                   1540 non-null   object \n",
            " 60  review_scores_rating                          1540 non-null   float64\n",
            " 61  review_scores_accuracy                        1540 non-null   float64\n",
            " 62  review_scores_cleanliness                     1540 non-null   float64\n",
            " 63  review_scores_checkin                         1540 non-null   float64\n",
            " 64  review_scores_communication                   1540 non-null   float64\n",
            " 65  review_scores_location                        1540 non-null   float64\n",
            " 66  review_scores_value                           1540 non-null   float64\n",
            " 67  license                                       1517 non-null   object \n",
            " 68  instant_bookable                              1742 non-null   object \n",
            " 69  calculated_host_listings_count                1742 non-null   int64  \n",
            " 70  calculated_host_listings_count_entire_homes   1742 non-null   int64  \n",
            " 71  calculated_host_listings_count_private_rooms  1742 non-null   int64  \n",
            " 72  calculated_host_listings_count_shared_rooms   1742 non-null   int64  \n",
            " 73  reviews_per_month                             1540 non-null   float64\n",
            "dtypes: float64(17), int64(23), object(34)\n",
            "memory usage: 1007.2+ KB\n"
          ]
        }
      ],
      "source": [
        "df.info()"
      ]
    },
    {
      "cell_type": "code",
      "execution_count": 26,
      "metadata": {
        "colab": {
          "base_uri": "https://localhost:8080/"
        },
        "id": "MyhRLA_Up7Zz",
        "outputId": "616d6056-4dd1-4f18-e098-dc2307815daf"
      },
      "outputs": [
        {
          "output_type": "execute_result",
          "data": {
            "text/plain": [
              "id                                              1742\n",
              "listing_url                                     1742\n",
              "scrape_id                                          1\n",
              "last_scraped                                       1\n",
              "name                                            1724\n",
              "description                                     1638\n",
              "neighborhood_overview                            918\n",
              "picture_url                                     1722\n",
              "host_id                                          675\n",
              "host_url                                         675\n",
              "host_name                                        516\n",
              "host_since                                       605\n",
              "host_location                                     96\n",
              "host_about                                       384\n",
              "host_response_time                                 4\n",
              "host_response_rate                                20\n",
              "host_acceptance_rate                              46\n",
              "host_is_superhost                                  2\n",
              "host_thumbnail_url                               673\n",
              "host_picture_url                                 673\n",
              "host_neighbourhood                               113\n",
              "host_listings_count                               37\n",
              "host_total_listings_count                         37\n",
              "host_verifications                               127\n",
              "host_has_profile_pic                               2\n",
              "host_identity_verified                             2\n",
              "neighbourhood                                     22\n",
              "neighbourhood_cleansed                            26\n",
              "neighbourhood_group_cleansed                       0\n",
              "latitude                                        1557\n",
              "longitude                                       1492\n",
              "property_type                                     31\n",
              "room_type                                          3\n",
              "accommodates                                      16\n",
              "bathrooms                                          0\n",
              "bathrooms_text                                    21\n",
              "bedrooms                                           9\n",
              "beds                                              13\n",
              "amenities                                       1565\n",
              "price                                            314\n",
              "minimum_nights                                    17\n",
              "maximum_nights                                    67\n",
              "minimum_minimum_nights                            18\n",
              "maximum_minimum_nights                            22\n",
              "minimum_maximum_nights                            55\n",
              "maximum_maximum_nights                            54\n",
              "minimum_nights_avg_ntm                            91\n",
              "maximum_nights_avg_ntm                            69\n",
              "calendar_updated                                   0\n",
              "has_availability                                   2\n",
              "availability_30                                   31\n",
              "availability_60                                   61\n",
              "availability_90                                   91\n",
              "availability_365                                 335\n",
              "calendar_last_scraped                              1\n",
              "number_of_reviews                                263\n",
              "number_of_reviews_ltm                            122\n",
              "number_of_reviews_l30d                            16\n",
              "first_review                                     793\n",
              "last_review                                      229\n",
              "review_scores_rating                             110\n",
              "review_scores_accuracy                            92\n",
              "review_scores_cleanliness                        123\n",
              "review_scores_checkin                             79\n",
              "review_scores_communication                       82\n",
              "review_scores_location                           120\n",
              "review_scores_value                              115\n",
              "license                                         1159\n",
              "instant_bookable                                   2\n",
              "calculated_host_listings_count                    27\n",
              "calculated_host_listings_count_entire_homes       26\n",
              "calculated_host_listings_count_private_rooms      12\n",
              "calculated_host_listings_count_shared_rooms        3\n",
              "reviews_per_month                                602\n",
              "dtype: int64"
            ]
          },
          "metadata": {},
          "execution_count": 26
        }
      ],
      "source": [
        "# Verificando valores unicos\n",
        "df.nunique()"
      ]
    },
    {
      "cell_type": "markdown",
      "metadata": {
        "id": "6-B_qtEaYEd-"
      },
      "source": [
        "### **Q1. Quantos atributos (variáveis) e quantas entradas o nosso conjunto de dados possui? Quais os tipos das variáveis?**"
      ]
    },
    {
      "cell_type": "code",
      "execution_count": 27,
      "metadata": {
        "colab": {
          "base_uri": "https://localhost:8080/",
          "height": 1000
        },
        "id": "TFRK0tniLV-G",
        "outputId": "52e19373-f85a-45b7-b157-72f26f46a95c"
      },
      "outputs": [
        {
          "output_type": "stream",
          "name": "stdout",
          "text": [
            "Entradas: (1742, 74)\n",
            "Variáveis: 74\n"
          ]
        },
        {
          "output_type": "display_data",
          "data": {
            "text/plain": [
              "id                                                int64\n",
              "listing_url                                      object\n",
              "scrape_id                                         int64\n",
              "last_scraped                                     object\n",
              "name                                             object\n",
              "description                                      object\n",
              "neighborhood_overview                            object\n",
              "picture_url                                      object\n",
              "host_id                                           int64\n",
              "host_url                                         object\n",
              "host_name                                        object\n",
              "host_since                                       object\n",
              "host_location                                    object\n",
              "host_about                                       object\n",
              "host_response_time                               object\n",
              "host_response_rate                               object\n",
              "host_acceptance_rate                             object\n",
              "host_is_superhost                                object\n",
              "host_thumbnail_url                               object\n",
              "host_picture_url                                 object\n",
              "host_neighbourhood                               object\n",
              "host_listings_count                               int64\n",
              "host_total_listings_count                         int64\n",
              "host_verifications                               object\n",
              "host_has_profile_pic                             object\n",
              "host_identity_verified                           object\n",
              "neighbourhood                                    object\n",
              "neighbourhood_cleansed                           object\n",
              "neighbourhood_group_cleansed                    float64\n",
              "latitude                                        float64\n",
              "longitude                                       float64\n",
              "property_type                                    object\n",
              "room_type                                        object\n",
              "accommodates                                      int64\n",
              "bathrooms                                       float64\n",
              "bathrooms_text                                   object\n",
              "bedrooms                                        float64\n",
              "beds                                            float64\n",
              "amenities                                        object\n",
              "price                                            object\n",
              "minimum_nights                                    int64\n",
              "maximum_nights                                    int64\n",
              "minimum_minimum_nights                            int64\n",
              "maximum_minimum_nights                            int64\n",
              "minimum_maximum_nights                            int64\n",
              "maximum_maximum_nights                            int64\n",
              "minimum_nights_avg_ntm                          float64\n",
              "maximum_nights_avg_ntm                          float64\n",
              "calendar_updated                                float64\n",
              "has_availability                                 object\n",
              "availability_30                                   int64\n",
              "availability_60                                   int64\n",
              "availability_90                                   int64\n",
              "availability_365                                  int64\n",
              "calendar_last_scraped                            object\n",
              "number_of_reviews                                 int64\n",
              "number_of_reviews_ltm                             int64\n",
              "number_of_reviews_l30d                            int64\n",
              "first_review                                     object\n",
              "last_review                                      object\n",
              "review_scores_rating                            float64\n",
              "review_scores_accuracy                          float64\n",
              "review_scores_cleanliness                       float64\n",
              "review_scores_checkin                           float64\n",
              "review_scores_communication                     float64\n",
              "review_scores_location                          float64\n",
              "review_scores_value                             float64\n",
              "license                                          object\n",
              "instant_bookable                                 object\n",
              "calculated_host_listings_count                    int64\n",
              "calculated_host_listings_count_entire_homes       int64\n",
              "calculated_host_listings_count_private_rooms      int64\n",
              "calculated_host_listings_count_shared_rooms       int64\n",
              "reviews_per_month                               float64\n",
              "dtype: object"
            ]
          },
          "metadata": {}
        }
      ],
      "source": [
        "# identificar o volume de dados do DataFrame\n",
        "print(f\"Entradas: {df.shape}\")\n",
        "print(f\"Variáveis: {df.shape[1]}\")\n",
        "\n",
        "# verificar as 5 primeiras entradas do dataset\n",
        "display(df.dtypes)"
      ]
    },
    {
      "cell_type": "markdown",
      "metadata": {
        "id": "yz1urSUGW9iE"
      },
      "source": [
        "### **Q2. Qual a porcentagem de valores ausentes no *dataset*?**\n",
        "\n",
        "* Os atributos `calendar_updated`, `neighbourhood_group_cleansed`,         `bathrooms`.\n",
        "* Já `review_scores_checkin, review_scores_value, review_scores_location, review_scores_communication, review_scores_cleanliness, reviews_per_month, review_scores_rating, last_review\n",
        "first_review, review_scores_accuracy, license, host_neighbourhood, neighbourhood, neighborhood_overview, host_about` também possuem uma grande quantidade de nulos."
      ]
    },
    {
      "cell_type": "code",
      "execution_count": 28,
      "metadata": {
        "colab": {
          "base_uri": "https://localhost:8080/"
        },
        "id": "plk2FjbCXOqP",
        "outputId": "853860b9-d44a-4862-c93a-f88bcd56c431"
      },
      "outputs": [
        {
          "output_type": "execute_result",
          "data": {
            "text/plain": [
              "id                                              0.000000\n",
              "number_of_reviews                               0.000000\n",
              "latitude                                        0.000000\n",
              "longitude                                       0.000000\n",
              "property_type                                   0.000000\n",
              "room_type                                       0.000000\n",
              "accommodates                                    0.000000\n",
              "calendar_last_scraped                           0.000000\n",
              "bathrooms_text                                  0.000000\n",
              "calculated_host_listings_count_shared_rooms     0.000000\n",
              "amenities                                       0.000000\n",
              "neighbourhood_cleansed                          0.000000\n",
              "price                                           0.000000\n",
              "maximum_nights                                  0.000000\n",
              "minimum_minimum_nights                          0.000000\n",
              "maximum_minimum_nights                          0.000000\n",
              "minimum_maximum_nights                          0.000000\n",
              "maximum_maximum_nights                          0.000000\n",
              "minimum_nights_avg_ntm                          0.000000\n",
              "maximum_nights_avg_ntm                          0.000000\n",
              "availability_365                                0.000000\n",
              "has_availability                                0.000000\n",
              "availability_30                                 0.000000\n",
              "minimum_nights                                  0.000000\n",
              "availability_60                                 0.000000\n",
              "number_of_reviews_ltm                           0.000000\n",
              "host_has_profile_pic                            0.000000\n",
              "listing_url                                     0.000000\n",
              "scrape_id                                       0.000000\n",
              "last_scraped                                    0.000000\n",
              "name                                            0.000000\n",
              "calculated_host_listings_count_private_rooms    0.000000\n",
              "picture_url                                     0.000000\n",
              "host_id                                         0.000000\n",
              "host_url                                        0.000000\n",
              "host_name                                       0.000000\n",
              "host_since                                      0.000000\n",
              "host_identity_verified                          0.000000\n",
              "host_location                                   0.000000\n",
              "calculated_host_listings_count                  0.000000\n",
              "instant_bookable                                0.000000\n",
              "host_is_superhost                               0.000000\n",
              "host_thumbnail_url                              0.000000\n",
              "host_picture_url                                0.000000\n",
              "number_of_reviews_l30d                          0.000000\n",
              "host_listings_count                             0.000000\n",
              "host_total_listings_count                       0.000000\n",
              "host_verifications                              0.000000\n",
              "calculated_host_listings_count_entire_homes     0.000000\n",
              "availability_90                                 0.000000\n",
              "description                                     0.002870\n",
              "beds                                            0.008037\n",
              "host_acceptance_rate                            0.030999\n",
              "bedrooms                                        0.037313\n",
              "host_response_time                              0.051091\n",
              "host_response_rate                              0.051091\n",
              "review_scores_checkin                           0.115959\n",
              "review_scores_value                             0.115959\n",
              "review_scores_location                          0.115959\n",
              "review_scores_communication                     0.115959\n",
              "review_scores_cleanliness                       0.115959\n",
              "reviews_per_month                               0.115959\n",
              "review_scores_rating                            0.115959\n",
              "last_review                                     0.115959\n",
              "first_review                                    0.115959\n",
              "review_scores_accuracy                          0.115959\n",
              "license                                         0.129162\n",
              "host_neighbourhood                              0.246269\n",
              "neighbourhood                                   0.280138\n",
              "neighborhood_overview                           0.280138\n",
              "host_about                                      0.326636\n",
              "calendar_updated                                1.000000\n",
              "neighbourhood_group_cleansed                    1.000000\n",
              "bathrooms                                       1.000000\n",
              "dtype: float64"
            ]
          },
          "metadata": {},
          "execution_count": 28
        }
      ],
      "source": [
        "# ordenar em ordem decrescente as variáveis por seus valores ausentes\n",
        "(df.isnull().sum() / df.shape[0]).sort_values(ascending=True)"
      ]
    },
    {
      "cell_type": "markdown",
      "metadata": {
        "id": "iHXvvHIxaoNc"
      },
      "source": [
        "### **Q3. Qual o tipo de distribuição das variáveis?** "
      ]
    },
    {
      "cell_type": "code",
      "execution_count": 29,
      "metadata": {
        "colab": {
          "base_uri": "https://localhost:8080/",
          "height": 1000
        },
        "id": "q2wWSfeRbmBo",
        "outputId": "299f4efa-3bb7-470c-8e13-dd6b00a134f5"
      },
      "outputs": [
        {
          "output_type": "display_data",
          "data": {
            "text/plain": [
              "<Figure size 1800x1800 with 42 Axes>"
            ],
            "image/png": "[encoded data removed]"
          },
          "metadata": {
            "needs_background": "light"
          }
        }
      ],
      "source": [
        "# plotar o histograma das variáveis numéricas\n",
        "df.hist(bins=15, figsize=(25,25));"
      ]
    },
    {
      "cell_type": "markdown",
      "metadata": {
        "id": "7x4aw1j5wNmn"
      },
      "source": [
        "### **Q4. Qual a média dos preços de aluguel?**"
      ]
    },
    {
      "cell_type": "code",
      "execution_count": 30,
      "metadata": {
        "colab": {
          "base_uri": "https://localhost:8080/"
        },
        "id": "vhTYPjqe4pCN",
        "outputId": "e0fbbbab-8e31-410f-c3c9-77520ee69a1c"
      },
      "outputs": [
        {
          "output_type": "execute_result",
          "data": {
            "text/plain": [
              "0       $140.00\n",
              "1        $25.00\n",
              "2       $100.00\n",
              "3        $35.00\n",
              "4        $73.00\n",
              "         ...   \n",
              "1737     $74.00\n",
              "1738    $223.00\n",
              "1739     $78.00\n",
              "1740    $229.00\n",
              "1741    $227.00\n",
              "Name: price, Length: 1742, dtype: object"
            ]
          },
          "metadata": {},
          "execution_count": 30
        }
      ],
      "source": [
        "df.price"
      ]
    },
    {
      "cell_type": "code",
      "execution_count": 31,
      "metadata": {
        "colab": {
          "base_uri": "https://localhost:8080/"
        },
        "id": "i5Yb3dd54z5Z",
        "outputId": "e823cb47-a3e2-4f67-a81b-4e0a212560c0"
      },
      "outputs": [
        {
          "output_type": "execute_result",
          "data": {
            "text/plain": [
              "0       140.0\n",
              "1        25.0\n",
              "2       100.0\n",
              "3        35.0\n",
              "4        73.0\n",
              "        ...  \n",
              "1737     74.0\n",
              "1738    223.0\n",
              "1739     78.0\n",
              "1740    229.0\n",
              "1741    227.0\n",
              "Name: price_value, Length: 1742, dtype: float64"
            ]
          },
          "metadata": {},
          "execution_count": 31
        }
      ],
      "source": [
        "# Criamos uma nova coluna com o preço em float.\n",
        "df['price_value'] = df.price.replace(to_replace=r'[^\\d.]', value='', regex=True).astype(float)\n",
        "df['price_value']"
      ]
    },
    {
      "cell_type": "code",
      "execution_count": 32,
      "metadata": {
        "colab": {
          "base_uri": "https://localhost:8080/"
        },
        "id": "ff-8gUahLk-C",
        "outputId": "93acb326-22e8-4090-c0df-648decc99089"
      },
      "outputs": [
        {
          "output_type": "stream",
          "name": "stdout",
          "text": [
            "Media de preço: 133.69575200918484\n"
          ]
        }
      ],
      "source": [
        "# ver a média da coluna `price``\n",
        "print(f\"Media de preço: {df.price_value.mean()}\")"
      ]
    },
    {
      "cell_type": "markdown",
      "metadata": {
        "id": "NgX9KJUeCcXB"
      },
      "source": [
        "### Q5. Há outliers presentes ?"
      ]
    },
    {
      "cell_type": "code",
      "execution_count": 33,
      "metadata": {
        "colab": {
          "base_uri": "https://localhost:8080/"
        },
        "id": "JZu8X1UzFs3h",
        "outputId": "b6328b88-75df-4646-9145-4041008b0902"
      },
      "outputs": [
        {
          "output_type": "stream",
          "name": "stdout",
          "text": [
            "<class 'pandas.core.frame.DataFrame'>\n",
            "RangeIndex: 1742 entries, 0 to 1741\n",
            "Data columns (total 75 columns):\n",
            " #   Column                                        Non-Null Count  Dtype  \n",
            "---  ------                                        --------------  -----  \n",
            " 0   id                                            1742 non-null   int64  \n",
            " 1   listing_url                                   1742 non-null   object \n",
            " 2   scrape_id                                     1742 non-null   int64  \n",
            " 3   last_scraped                                  1742 non-null   object \n",
            " 4   name                                          1742 non-null   object \n",
            " 5   description                                   1737 non-null   object \n",
            " 6   neighborhood_overview                         1254 non-null   object \n",
            " 7   picture_url                                   1742 non-null   object \n",
            " 8   host_id                                       1742 non-null   int64  \n",
            " 9   host_url                                      1742 non-null   object \n",
            " 10  host_name                                     1742 non-null   object \n",
            " 11  host_since                                    1742 non-null   object \n",
            " 12  host_location                                 1742 non-null   object \n",
            " 13  host_about                                    1173 non-null   object \n",
            " 14  host_response_time                            1653 non-null   object \n",
            " 15  host_response_rate                            1653 non-null   object \n",
            " 16  host_acceptance_rate                          1688 non-null   object \n",
            " 17  host_is_superhost                             1742 non-null   object \n",
            " 18  host_thumbnail_url                            1742 non-null   object \n",
            " 19  host_picture_url                              1742 non-null   object \n",
            " 20  host_neighbourhood                            1313 non-null   object \n",
            " 21  host_listings_count                           1742 non-null   int64  \n",
            " 22  host_total_listings_count                     1742 non-null   int64  \n",
            " 23  host_verifications                            1742 non-null   object \n",
            " 24  host_has_profile_pic                          1742 non-null   object \n",
            " 25  host_identity_verified                        1742 non-null   object \n",
            " 26  neighbourhood                                 1254 non-null   object \n",
            " 27  neighbourhood_cleansed                        1742 non-null   object \n",
            " 28  neighbourhood_group_cleansed                  0 non-null      float64\n",
            " 29  latitude                                      1742 non-null   float64\n",
            " 30  longitude                                     1742 non-null   float64\n",
            " 31  property_type                                 1742 non-null   object \n",
            " 32  room_type                                     1742 non-null   object \n",
            " 33  accommodates                                  1742 non-null   int64  \n",
            " 34  bathrooms                                     0 non-null      float64\n",
            " 35  bathrooms_text                                1742 non-null   object \n",
            " 36  bedrooms                                      1677 non-null   float64\n",
            " 37  beds                                          1728 non-null   float64\n",
            " 38  amenities                                     1742 non-null   object \n",
            " 39  price                                         1742 non-null   object \n",
            " 40  minimum_nights                                1742 non-null   int64  \n",
            " 41  maximum_nights                                1742 non-null   int64  \n",
            " 42  minimum_minimum_nights                        1742 non-null   int64  \n",
            " 43  maximum_minimum_nights                        1742 non-null   int64  \n",
            " 44  minimum_maximum_nights                        1742 non-null   int64  \n",
            " 45  maximum_maximum_nights                        1742 non-null   int64  \n",
            " 46  minimum_nights_avg_ntm                        1742 non-null   float64\n",
            " 47  maximum_nights_avg_ntm                        1742 non-null   float64\n",
            " 48  calendar_updated                              0 non-null      float64\n",
            " 49  has_availability                              1742 non-null   object \n",
            " 50  availability_30                               1742 non-null   int64  \n",
            " 51  availability_60                               1742 non-null   int64  \n",
            " 52  availability_90                               1742 non-null   int64  \n",
            " 53  availability_365                              1742 non-null   int64  \n",
            " 54  calendar_last_scraped                         1742 non-null   object \n",
            " 55  number_of_reviews                             1742 non-null   int64  \n",
            " 56  number_of_reviews_ltm                         1742 non-null   int64  \n",
            " 57  number_of_reviews_l30d                        1742 non-null   int64  \n",
            " 58  first_review                                  1540 non-null   object \n",
            " 59  last_review                                   1540 non-null   object \n",
            " 60  review_scores_rating                          1540 non-null   float64\n",
            " 61  review_scores_accuracy                        1540 non-null   float64\n",
            " 62  review_scores_cleanliness                     1540 non-null   float64\n",
            " 63  review_scores_checkin                         1540 non-null   float64\n",
            " 64  review_scores_communication                   1540 non-null   float64\n",
            " 65  review_scores_location                        1540 non-null   float64\n",
            " 66  review_scores_value                           1540 non-null   float64\n",
            " 67  license                                       1517 non-null   object \n",
            " 68  instant_bookable                              1742 non-null   object \n",
            " 69  calculated_host_listings_count                1742 non-null   int64  \n",
            " 70  calculated_host_listings_count_entire_homes   1742 non-null   int64  \n",
            " 71  calculated_host_listings_count_private_rooms  1742 non-null   int64  \n",
            " 72  calculated_host_listings_count_shared_rooms   1742 non-null   int64  \n",
            " 73  reviews_per_month                             1540 non-null   float64\n",
            " 74  price_value                                   1742 non-null   float64\n",
            "dtypes: float64(18), int64(23), object(34)\n",
            "memory usage: 1020.8+ KB\n"
          ]
        }
      ],
      "source": [
        "df.info()"
      ]
    },
    {
      "cell_type": "code",
      "execution_count": 34,
      "metadata": {
        "colab": {
          "base_uri": "https://localhost:8080/"
        },
        "id": "SSrwyD32CZFs",
        "outputId": "c4d0c8ec-ca37-42a0-bffa-cc7d718df8c8"
      },
      "outputs": [
        {
          "output_type": "execute_result",
          "data": {
            "text/plain": [
              "1      769\n",
              "2      636\n",
              "30     184\n",
              "3       68\n",
              "28      18\n",
              "5       17\n",
              "7       16\n",
              "4       13\n",
              "14       8\n",
              "31       3\n",
              "6        3\n",
              "60       2\n",
              "29       1\n",
              "90       1\n",
              "100      1\n",
              "300      1\n",
              "10       1\n",
              "Name: minimum_nights, dtype: int64"
            ]
          },
          "metadata": {},
          "execution_count": 34
        }
      ],
      "source": [
        "# Aplicando uma contagem de valores\n",
        "\n",
        "df['minimum_nights'].value_counts()"
      ]
    },
    {
      "cell_type": "code",
      "execution_count": 35,
      "metadata": {
        "colab": {
          "base_uri": "https://localhost:8080/"
        },
        "id": "AgBvZAGEMa0V",
        "outputId": "38bb2f51-1a44-4eb0-d156-d41ff7417704"
      },
      "outputs": [
        {
          "output_type": "execute_result",
          "data": {
            "text/plain": [
              "Columbus, Ohio, United States               1182\n",
              "Westerville, Ohio, United States              17\n",
              "Dublin, Ohio, United States                    8\n",
              "Reynoldsburg, Ohio, United States              5\n",
              "Whitehall, Ohio, United States                 5\n",
              "Galloway, Ohio, United States                  4\n",
              "Grove City, Ohio, United States                4\n",
              "Worthington, Ohio, United States               4\n",
              "Grandview Heights, Ohio, United States         3\n",
              "Canal Winchester, Ohio, United States          3\n",
              "Blacklick, Ohio, United States                 3\n",
              "Hilliard, Ohio, United States                  2\n",
              "Lewis Center, Ohio, United States              2\n",
              "Bexley, Ohio, United States                    2\n",
              "Gahanna, Ohio, United States                   2\n",
              "Pickerington, Ohio, United States              2\n",
              "Columbus , Ohio, United States                 1\n",
              "Franklin Township, Ohio, United States         1\n",
              "Washington Township, Ohio, United States       1\n",
              "New Albany, Ohio, United States                1\n",
              "Powell, Ohio, United States                    1\n",
              "Groveport, Ohio, United States                 1\n",
              "Name: neighbourhood, dtype: int64"
            ]
          },
          "metadata": {},
          "execution_count": 35
        }
      ],
      "source": [
        "df['neighbourhood'].value_counts()"
      ]
    },
    {
      "cell_type": "code",
      "source": [
        "# minimum_nights\n",
        "df.minimum_nights.plot(kind='box', vert=False, figsize=(15, 3),)\n",
        "plt.show()\n",
        "\n",
        "# ver quantidade de valores acima de 30 para minimum_nights\n",
        "print(\"\\nminimum_nights: valores acima de 30\")\n",
        "print(\"{} entradas\".format(len(df[df.minimum_nights > 30])))\n",
        "print(\"{:.4f}%\".format((len(df[df.minimum_nights > 30]) / df.shape[0])*100))"
      ],
      "metadata": {
        "colab": {
          "base_uri": "https://localhost:8080/",
          "height": 296
        },
        "id": "gQMg0xOfi2Xr",
        "outputId": "e62acc67-279e-4bcd-8e67-10e0153ed675"
      },
      "execution_count": 44,
      "outputs": [
        {
          "output_type": "display_data",
          "data": {
            "text/plain": [
              "<Figure size 1080x216 with 1 Axes>"
            ],
            "image/png": "[encoded data removed]"
          },
          "metadata": {
            "needs_background": "light"
          }
        },
        {
          "output_type": "stream",
          "name": "stdout",
          "text": [
            "\n",
            "minimum_nights: valores acima de 30\n",
            "8 entradas\n",
            "0.4592%\n"
          ]
        }
      ]
    },
    {
      "cell_type": "code",
      "source": [
        "# maximum_nights\n",
        "df.maximum_nights.plot(kind='box', vert=False, figsize=(15, 3),)\n",
        "plt.show()\n",
        "\n",
        "# ver quantidade de valores acima de 1000 para maximum_nights\n",
        "print(\"\\nmaximum_nights: valores acima de 1000\")\n",
        "print(\"{} entradas\".format(len(df[df.maximum_nights > 1000])))\n",
        "print(\"{:.4f}%\".format((len(df[df.maximum_nights > 1000]) / df.shape[0])*100))"
      ],
      "metadata": {
        "colab": {
          "base_uri": "https://localhost:8080/",
          "height": 296
        },
        "id": "sNuPh75qi_H6",
        "outputId": "8c29a6c2-602a-4de3-d95f-632b29d8284c"
      },
      "execution_count": 61,
      "outputs": [
        {
          "output_type": "display_data",
          "data": {
            "text/plain": [
              "<Figure size 1080x216 with 1 Axes>"
            ],
            "image/png": "[encoded data removed]"
          },
          "metadata": {
            "needs_background": "light"
          }
        },
        {
          "output_type": "stream",
          "name": "stdout",
          "text": [
            "\n",
            "maximum_nights: valores acima de 1000\n",
            "847 entradas\n",
            "48.6223%\n"
          ]
        }
      ]
    },
    {
      "cell_type": "code",
      "source": [
        "# bedrooms\n",
        "df.bedrooms.plot(kind='box', vert=False, figsize=(15, 3),)\n",
        "plt.show()\n",
        "\n",
        "# ver quantidade de valores acima de 100 para bedrooms\n",
        "print(\"\\nbedrooms: valores acima de 5\")\n",
        "print(\"{} entradas\".format(len(df[df.bedrooms > 5])))\n",
        "print(\"{:.4f}%\".format((len(df[df.bedrooms > 5]) / df.shape[0])*100))"
      ],
      "metadata": {
        "colab": {
          "base_uri": "https://localhost:8080/",
          "height": 296
        },
        "id": "D-Hg_YCIjprC",
        "outputId": "e797c415-83dd-4b89-b794-a7bba3377b5c"
      },
      "execution_count": 48,
      "outputs": [
        {
          "output_type": "display_data",
          "data": {
            "text/plain": [
              "<Figure size 1080x216 with 1 Axes>"
            ],
            "image/png": "[encoded data removed]"
          },
          "metadata": {
            "needs_background": "light"
          }
        },
        {
          "output_type": "stream",
          "name": "stdout",
          "text": [
            "\n",
            "bedrooms: valores acima de 5\n",
            "22 entradas\n",
            "1.2629%\n"
          ]
        }
      ]
    },
    {
      "cell_type": "code",
      "source": [
        "# number_of_reviews\n",
        "df.number_of_reviews.plot(kind='box', vert=False, figsize=(15, 3),)\n",
        "plt.show()\n",
        "\n",
        "# ver quantidade de valores acima de 200 para number_of_reviews\n",
        "print(\"\\nnumber_of_reviews: valores acima de 200\")\n",
        "print(\"{} entradas\".format(len(df[df.number_of_reviews > 200])))\n",
        "print(\"{:.4f}%\".format((len(df[df.number_of_reviews > 200]) / df.shape[0])*100))"
      ],
      "metadata": {
        "colab": {
          "base_uri": "https://localhost:8080/",
          "height": 296
        },
        "id": "Mh97Z21kl9Qy",
        "outputId": "bb9d3667-bc75-4811-f029-ac3424b311ec"
      },
      "execution_count": 52,
      "outputs": [
        {
          "output_type": "display_data",
          "data": {
            "text/plain": [
              "<Figure size 1080x216 with 1 Axes>"
            ],
            "image/png": "[encoded data removed]"
          },
          "metadata": {
            "needs_background": "light"
          }
        },
        {
          "output_type": "stream",
          "name": "stdout",
          "text": [
            "\n",
            "number_of_reviews: valores acima de 200\n",
            "104 entradas\n",
            "5.9701%\n"
          ]
        }
      ]
    },
    {
      "cell_type": "code",
      "source": [
        "# host_listings_count\n",
        "df.host_listings_count.plot(kind='box', vert=False, figsize=(15, 3),)\n",
        "plt.show()\n",
        "\n",
        "# ver quantidade de valores acima de 100 para host_listings_count\n",
        "print(\"\\nhost_listings_count: valores acima de 100\")\n",
        "print(\"{} entradas\".format(len(df[df.host_listings_count > 100])))\n",
        "print(\"{:.4f}%\".format((len(df[df.host_listings_count > 100]) / df.shape[0])*100))"
      ],
      "metadata": {
        "colab": {
          "base_uri": "https://localhost:8080/",
          "height": 296
        },
        "id": "_Xff7LzsmTG0",
        "outputId": "dbb96909-c78c-410c-f5d1-1da099f8e047"
      },
      "execution_count": 64,
      "outputs": [
        {
          "output_type": "display_data",
          "data": {
            "text/plain": [
              "<Figure size 1080x216 with 1 Axes>"
            ],
            "image/png": "[encoded data removed]"
          },
          "metadata": {
            "needs_background": "light"
          }
        },
        {
          "output_type": "stream",
          "name": "stdout",
          "text": [
            "\n",
            "host_listings_count: valores acima de 100\n",
            "137 entradas\n",
            "7.8645%\n"
          ]
        }
      ]
    },
    {
      "cell_type": "code",
      "source": [
        "sns.catplot(x='room_type', y='minimum_nights', kind=\"box\", data=df)"
      ],
      "metadata": {
        "colab": {
          "base_uri": "https://localhost:8080/",
          "height": 390
        },
        "id": "ksFUjGzao3eq",
        "outputId": "9922cf6a-8c8e-451c-f95d-1abf65a11e5f"
      },
      "execution_count": 75,
      "outputs": [
        {
          "output_type": "execute_result",
          "data": {
            "text/plain": [
              "<seaborn.axisgrid.FacetGrid at 0x7f052a11a350>"
            ]
          },
          "metadata": {},
          "execution_count": 75
        },
        {
          "output_type": "display_data",
          "data": {
            "text/plain": [
              "<Figure size 360x360 with 1 Axes>"
            ],
            "image/png": "[encoded data removed]"
          },
          "metadata": {
            "needs_background": "light"
          }
        }
      ]
    },
    {
      "cell_type": "code",
      "source": [
        "sns.catplot(x='room_type', y='number_of_reviews', kind=\"box\", data=df)"
      ],
      "metadata": {
        "colab": {
          "base_uri": "https://localhost:8080/",
          "height": 390
        },
        "id": "NGI2y16LsziW",
        "outputId": "1a855250-7b08-482d-8e53-6ac46ea5f072"
      },
      "execution_count": 76,
      "outputs": [
        {
          "output_type": "execute_result",
          "data": {
            "text/plain": [
              "<seaborn.axisgrid.FacetGrid at 0x7f052ad10a10>"
            ]
          },
          "metadata": {},
          "execution_count": 76
        },
        {
          "output_type": "display_data",
          "data": {
            "text/plain": [
              "<Figure size 360x360 with 1 Axes>"
            ],
            "image/png": "[encoded data removed]"
          },
          "metadata": {
            "needs_background": "light"
          }
        }
      ]
    },
    {
      "cell_type": "markdown",
      "metadata": {
        "id": "IXn2oIo5qx-w"
      },
      "source": [
        "### **Q6. Qual a correlação existente entre as variáveis**"
      ]
    },
    {
      "cell_type": "code",
      "execution_count": 36,
      "metadata": {
        "colab": {
          "base_uri": "https://localhost:8080/",
          "height": 206
        },
        "id": "x2ayzBajqxyd",
        "outputId": "115bd95b-44e1-4566-d340-14348fc1f9e6"
      },
      "outputs": [
        {
          "output_type": "display_data",
          "data": {
            "text/plain": [
              "                                minimum_nights  number_of_reviews  reviews_per_month  calculated_host_listings_count  availability_365\n",
              "minimum_nights                        1.000000          -0.141844          -0.297913                       -0.001076          0.019913\n",
              "number_of_reviews                    -0.141844           1.000000           0.523463                       -0.082554         -0.036865\n",
              "reviews_per_month                    -0.297913           0.523463           1.000000                       -0.018357          0.005167\n",
              "calculated_host_listings_count       -0.001076          -0.082554          -0.018357                        1.000000          0.171218\n",
              "availability_365                      0.019913          -0.036865           0.005167                        0.171218          1.000000"
            ],
            "text/html": [
              "\n",
              "  <div id=\"df-0ec1cc97-e6ab-4b59-97dd-9a18754c8255\">\n",
              "    <div class=\"colab-df-container\">\n",
              "      <div>\n",
              "<style scoped>\n",
              "    .dataframe tbody tr th:only-of-type {\n",
              "        vertical-align: middle;\n",
              "    }\n",
              "\n",
              "    .dataframe tbody tr th {\n",
              "        vertical-align: top;\n",
              "    }\n",
              "\n",
              "    .dataframe thead th {\n",
              "        text-align: right;\n",
              "    }\n",
              "</style>\n",
              "<table border=\"1\" class=\"dataframe\">\n",
              "  <thead>\n",
              "    <tr style=\"text-align: right;\">\n",
              "      <th></th>\n",
              "      <th>minimum_nights</th>\n",
              "      <th>number_of_reviews</th>\n",
              "      <th>reviews_per_month</th>\n",
              "      <th>calculated_host_listings_count</th>\n",
              "      <th>availability_365</th>\n",
              "    </tr>\n",
              "  </thead>\n",
              "  <tbody>\n",
              "    <tr>\n",
              "      <th>minimum_nights</th>\n",
              "      <td>1.000000</td>\n",
              "      <td>-0.141844</td>\n",
              "      <td>-0.297913</td>\n",
              "      <td>-0.001076</td>\n",
              "      <td>0.019913</td>\n",
              "    </tr>\n",
              "    <tr>\n",
              "      <th>number_of_reviews</th>\n",
              "      <td>-0.141844</td>\n",
              "      <td>1.000000</td>\n",
              "      <td>0.523463</td>\n",
              "      <td>-0.082554</td>\n",
              "      <td>-0.036865</td>\n",
              "    </tr>\n",
              "    <tr>\n",
              "      <th>reviews_per_month</th>\n",
              "      <td>-0.297913</td>\n",
              "      <td>0.523463</td>\n",
              "      <td>1.000000</td>\n",
              "      <td>-0.018357</td>\n",
              "      <td>0.005167</td>\n",
              "    </tr>\n",
              "    <tr>\n",
              "      <th>calculated_host_listings_count</th>\n",
              "      <td>-0.001076</td>\n",
              "      <td>-0.082554</td>\n",
              "      <td>-0.018357</td>\n",
              "      <td>1.000000</td>\n",
              "      <td>0.171218</td>\n",
              "    </tr>\n",
              "    <tr>\n",
              "      <th>availability_365</th>\n",
              "      <td>0.019913</td>\n",
              "      <td>-0.036865</td>\n",
              "      <td>0.005167</td>\n",
              "      <td>0.171218</td>\n",
              "      <td>1.000000</td>\n",
              "    </tr>\n",
              "  </tbody>\n",
              "</table>\n",
              "</div>\n",
              "      <button class=\"colab-df-convert\" onclick=\"convertToInteractive('df-0ec1cc97-e6ab-4b59-97dd-9a18754c8255')\"\n",
              "              title=\"Convert this dataframe to an interactive table.\"\n",
              "              style=\"display:none;\">\n",
              "        \n",
              "  <svg xmlns=\"http://www.w3.org/2000/svg\" height=\"24px\"viewBox=\"0 0 24 24\"\n",
              "       width=\"24px\">\n",
              "    <path d=\"M0 0h24v24H0V0z\" fill=\"none\"/>\n",
              "    <path d=\"M18.56 5.44l.94 2.06.94-2.06 2.06-.94-2.06-.94-.94-2.06-.94 2.06-2.06.94zm-11 1L8.5 8.5l.94-2.06 2.06-.94-2.06-.94L8.5 2.5l-.94 2.06-2.06.94zm10 10l.94 2.06.94-2.06 2.06-.94-2.06-.94-.94-2.06-.94 2.06-2.06.94z\"/><path d=\"M17.41 7.96l-1.37-1.37c-.4-.4-.92-.59-1.43-.59-.52 0-1.04.2-1.43.59L10.3 9.45l-7.72 7.72c-.78.78-.78 2.05 0 2.83L4 21.41c.39.39.9.59 1.41.59.51 0 1.02-.2 1.41-.59l7.78-7.78 2.81-2.81c.8-.78.8-2.07 0-2.86zM5.41 20L4 18.59l7.72-7.72 1.47 1.35L5.41 20z\"/>\n",
              "  </svg>\n",
              "      </button>\n",
              "      \n",
              "  <style>\n",
              "    .colab-df-container {\n",
              "      display:flex;\n",
              "      flex-wrap:wrap;\n",
              "      gap: 12px;\n",
              "    }\n",
              "\n",
              "    .colab-df-convert {\n",
              "      background-color: #E8F0FE;\n",
              "      border: none;\n",
              "      border-radius: 50%;\n",
              "      cursor: pointer;\n",
              "      display: none;\n",
              "      fill: #1967D2;\n",
              "      height: 32px;\n",
              "      padding: 0 0 0 0;\n",
              "      width: 32px;\n",
              "    }\n",
              "\n",
              "    .colab-df-convert:hover {\n",
              "      background-color: #E2EBFA;\n",
              "      box-shadow: 0px 1px 2px rgba(60, 64, 67, 0.3), 0px 1px 3px 1px rgba(60, 64, 67, 0.15);\n",
              "      fill: #174EA6;\n",
              "    }\n",
              "\n",
              "    [theme=dark] .colab-df-convert {\n",
              "      background-color: #3B4455;\n",
              "      fill: #D2E3FC;\n",
              "    }\n",
              "\n",
              "    [theme=dark] .colab-df-convert:hover {\n",
              "      background-color: #434B5C;\n",
              "      box-shadow: 0px 1px 3px 1px rgba(0, 0, 0, 0.15);\n",
              "      filter: drop-shadow(0px 1px 2px rgba(0, 0, 0, 0.3));\n",
              "      fill: #FFFFFF;\n",
              "    }\n",
              "  </style>\n",
              "\n",
              "      <script>\n",
              "        const buttonEl =\n",
              "          document.querySelector('#df-0ec1cc97-e6ab-4b59-97dd-9a18754c8255 button.colab-df-convert');\n",
              "        buttonEl.style.display =\n",
              "          google.colab.kernel.accessAllowed ? 'block' : 'none';\n",
              "\n",
              "        async function convertToInteractive(key) {\n",
              "          const element = document.querySelector('#df-0ec1cc97-e6ab-4b59-97dd-9a18754c8255');\n",
              "          const dataTable =\n",
              "            await google.colab.kernel.invokeFunction('convertToInteractive',\n",
              "                                                     [key], {});\n",
              "          if (!dataTable) return;\n",
              "\n",
              "          const docLinkHtml = 'Like what you see? Visit the ' +\n",
              "            '<a target=\"_blank\" href=https://colab.research.google.com/notebooks/data_table.ipynb>data table notebook</a>'\n",
              "            + ' to learn more about interactive tables.';\n",
              "          element.innerHTML = '';\n",
              "          dataTable['output_type'] = 'display_data';\n",
              "          await google.colab.output.renderOutput(dataTable, element);\n",
              "          const docLink = document.createElement('div');\n",
              "          docLink.innerHTML = docLinkHtml;\n",
              "          element.appendChild(docLink);\n",
              "        }\n",
              "      </script>\n",
              "    </div>\n",
              "  </div>\n",
              "  "
            ]
          },
          "metadata": {}
        }
      ],
      "source": [
        "# criar uma matriz de correlação\n",
        "corr = df[['price', 'minimum_nights', 'number_of_reviews', 'reviews_per_month',\n",
        "    'calculated_host_listings_count', 'availability_365']].corr()\n",
        "# mostrar a matriz de correlação\n",
        "\n",
        "display(corr)"
      ]
    },
    {
      "cell_type": "code",
      "execution_count": 37,
      "metadata": {
        "colab": {
          "base_uri": "https://localhost:8080/",
          "height": 411
        },
        "id": "91UujDr6ueqE",
        "outputId": "61f8c0f4-4b94-4a37-ee1e-59cfdffd7c43"
      },
      "outputs": [
        {
          "output_type": "display_data",
          "data": {
            "text/plain": [
              "<Figure size 432x288 with 2 Axes>"
            ],
            "image/png": "[encoded data removed]"
          },
          "metadata": {
            "needs_background": "light"
          }
        }
      ],
      "source": [
        "# plotar um heatmap a partir das correlações\n",
        "sns.heatmap(corr, cmap='RdBu', fmt='.2f', square=True, linecolor='white', annot=True);"
      ]
    },
    {
      "cell_type": "markdown",
      "metadata": {
        "id": "7b6RMWpuHKN-"
      },
      "source": [
        "### **Q7. Qual o tipo de imóvel mais alugado no Airbnb?**"
      ]
    },
    {
      "cell_type": "code",
      "execution_count": 38,
      "metadata": {
        "colab": {
          "base_uri": "https://localhost:8080/"
        },
        "id": "ueLPNWvPHgfB",
        "outputId": "28b8471e-4896-46c0-c909-d4d4ac2b1ec7"
      },
      "outputs": [
        {
          "output_type": "execute_result",
          "data": {
            "text/plain": [
              "Entire home/apt    1420\n",
              "Private room        316\n",
              "Shared room           6\n",
              "Name: room_type, dtype: int64"
            ]
          },
          "metadata": {},
          "execution_count": 38
        }
      ],
      "source": [
        "# mostrar a quantidade de cada tipo de imóvel disponível\n",
        "df.room_type.value_counts()"
      ]
    },
    {
      "cell_type": "code",
      "execution_count": 39,
      "metadata": {
        "colab": {
          "base_uri": "https://localhost:8080/"
        },
        "id": "EvwoO-XAHhIm",
        "outputId": "2a96504a-5a18-4e7e-a0c0-acf59152dcc7"
      },
      "outputs": [
        {
          "output_type": "execute_result",
          "data": {
            "text/plain": [
              "Entire home/apt    0.815155\n",
              "Private room       0.181401\n",
              "Shared room        0.003444\n",
              "Name: room_type, dtype: float64"
            ]
          },
          "metadata": {},
          "execution_count": 39
        }
      ],
      "source": [
        "# mostrar a porcentagem de cada tipo de imóvel disponível\n",
        "df.room_type.value_counts() / df.shape[0]"
      ]
    },
    {
      "cell_type": "markdown",
      "metadata": {
        "id": "MFa5NbnLJMcd"
      },
      "source": [
        "### **Q8. Qual a localidade mais cara do dataset?**\n",
        "\n"
      ]
    },
    {
      "cell_type": "code",
      "execution_count": 40,
      "metadata": {
        "colab": {
          "base_uri": "https://localhost:8080/"
        },
        "id": "MD_xa143JZpi",
        "outputId": "ee0955e1-7a79-4f7e-efff-515ee2f10e33"
      },
      "outputs": [
        {
          "output_type": "execute_result",
          "data": {
            "text/plain": [
              "neighbourhood\n",
              "Grandview Heights, Ohio, United States      199.000000\n",
              "Powell, Ohio, United States                 183.000000\n",
              "Washington Township, Ohio, United States    181.000000\n",
              "Worthington, Ohio, United States            171.000000\n",
              "Columbus, Ohio, United States               129.791878\n",
              "Reynoldsburg, Ohio, United States           126.400000\n",
              "Gahanna, Ohio, United States                120.500000\n",
              "Westerville, Ohio, United States            120.352941\n",
              "Bexley, Ohio, United States                 119.500000\n",
              "Canal Winchester, Ohio, United States       119.000000\n",
              "Name: price_value, dtype: float64"
            ]
          },
          "metadata": {},
          "execution_count": 40
        }
      ],
      "source": [
        "# ver preços por bairros, na média\n",
        "df.groupby(['neighbourhood']).price_value.mean().sort_values(ascending=False)[:10]"
      ]
    },
    {
      "cell_type": "code",
      "execution_count": 41,
      "metadata": {
        "colab": {
          "base_uri": "https://localhost:8080/",
          "height": 469
        },
        "id": "UxVJqJ_3W59I",
        "outputId": "08b09ca2-2ee0-4ba6-aa55-e6fac3980ce9"
      },
      "outputs": [
        {
          "output_type": "display_data",
          "data": {
            "text/plain": [
              "<Figure size 864x576 with 2 Axes>"
            ],
            "image/png": "[encoded data removed]"
          },
          "metadata": {
            "needs_background": "light"
          }
        }
      ],
      "source": [
        "# plotar os imóveis pela latitude-longitude\n",
        "df.plot(kind=\"scatter\", x='longitude', y='latitude', alpha=0.4, c=df['price_value'], s=8,\n",
        "              cmap=plt.get_cmap('jet'), figsize=(12,8));"
      ]
    },
    {
      "cell_type": "markdown",
      "metadata": {
        "id": "GkvAg623RjoR"
      },
      "source": [
        "# Conclusões\n",
        "\n",
        "Foi feita apenas uma análise na base de dados do Airbnb para cidade de Ohio EUA, podemos perceber alguns atributos com todos os dados nulos e muitos outliers nos dados.\n",
        "\n",
        "Também se notou que o bairro de Columbus pertence a grande maioria dos dados, podendo assim distorcer informações estatísticas de alguns atributos.\n",
        "\n",
        "Em relação aos preços existem mais outliers quando se trata do imovel inteiro, ao invés de um como um quarto compartilhado.\n",
        "\n",
        "Quando analisamos a quantidade de noites minimas apenas os quartos compartilhados não possuem outliers, além disso os quartos compartilhados possuem menos outliers em relação a avaliações.\n",
        "\n",
        "\n"
      ]
    }
  ],
  "metadata": {
    "colab": {
      "collapsed_sections": [
        "0zxQHhIUDF_2"
      ],
      "name": "Analisando os Dados do Airbnb.ipynb",
      "provenance": [],
      "toc_visible": true,
      "include_colab_link": true
    },
    "kernelspec": {
      "display_name": "Python 3",
      "name": "python3"
    }
  },
  "nbformat": 4,
  "nbformat_minor": 0
}