{
  "nbformat": 4,
  "nbformat_minor": 0,
  "metadata": {
    "colab": {
      "name": "Head CT - hemorrhage.ipynb",
      "provenance": [],
      "authorship_tag": "ABX9TyPgjT33Y0erP+DIXYQ07ajg",
      "include_colab_link": true
    },
    "kernelspec": {
      "name": "python3",
      "display_name": "Python 3"
    },
    "language_info": {
      "name": "python"
    },
    "accelerator": "GPU"
  },
  "cells": [
    {
      "cell_type": "markdown",
      "metadata": {
        "id": "view-in-github",
        "colab_type": "text"
      },
      "source": [
        "<a href=\"https://colab.research.google.com/github/carlsec/machine_learning/blob/master/Head_CT_hemorrhage.ipynb\" target=\"_parent\"><img src=\"https://colab.research.google.com/assets/colab-badge.svg\" alt=\"Open In Colab\"/></a>"
      ]
    },
    {
      "cell_type": "code",
      "metadata": {
        "colab": {
          "resources": {
            "http://localhost:8080/nbextensions/google.colab/files.js": {
              "data": "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",
              "ok": true,
              "headers": [
                [
                  "content-type",
                  "application/javascript"
                ]
              ],
              "status": 200,
              "status_text": ""
            }
          },
          "base_uri": "https://localhost:8080/",
          "height": 208
        },
        "id": "nst-yhf0JzwA",
        "outputId": "d49ee3f8-2ee1-44f7-cac8-8f4e6002e632"
      },
      "source": [
        "import os\n",
        "if not os.path.exists('images'):\n",
        "    !pip install -qU torch_snippets\n",
        "    from google.colab import files\n",
        "    files.upload() # upload kaggle.json\n",
        "    !mkdir -p ~/.kaggle\n",
        "    !mv kaggle.json ~/.kaggle/\n",
        "    !ls ~/.kaggle\n",
        "    !chmod 600 /root/.kaggle/kaggle.json\n",
        "    !kaggle datasets download -d felipekitamura/head-ct-hemorrhage\n",
        "    !unzip -qq head-ct-hemorrhage.zip\n",
        "    !rm head-ct-hemorrhage.zip"
      ],
      "execution_count": null,
      "outputs": [
        {
          "output_type": "stream",
          "text": [
            "\u001b[K     |████████████████████████████████| 61kB 6.6MB/s \n",
            "\u001b[K     |████████████████████████████████| 204kB 30.1MB/s \n",
            "\u001b[K     |████████████████████████████████| 61kB 8.3MB/s \n",
            "\u001b[K     |████████████████████████████████| 51kB 7.4MB/s \n",
            "\u001b[?25h"
          ],
          "name": "stdout"
        },
        {
          "output_type": "display_data",
          "data": {
            "text/html": [
              "\n",
              "     <input type=\"file\" id=\"files-501cb548-d6cb-4c87-bbce-9a3367c73de4\" name=\"files[]\" multiple disabled\n",
              "        style=\"border:none\" />\n",
              "     <output id=\"result-501cb548-d6cb-4c87-bbce-9a3367c73de4\">\n",
              "      Upload widget is only available when the cell has been executed in the\n",
              "      current browser session. Please rerun this cell to enable.\n",
              "      </output>\n",
              "      <script src=\"/nbextensions/google.colab/files.js\"></script> "
            ],
            "text/plain": [
              "<IPython.core.display.HTML object>"
            ]
          },
          "metadata": {
            "tags": []
          }
        },
        {
          "output_type": "stream",
          "text": [
            "Saving kaggle.json to kaggle.json\n",
            "kaggle.json\n",
            "Downloading head-ct-hemorrhage.zip to /content\n",
            " 37% 9.00M/24.4M [00:00<00:00, 43.8MB/s]\n",
            "100% 24.4M/24.4M [00:00<00:00, 80.6MB/s]\n"
          ],
          "name": "stdout"
        }
      ]
    },
    {
      "cell_type": "code",
      "metadata": {
        "id": "HlbRWLMVUW51",
        "colab": {
          "base_uri": "https://localhost:8080/",
          "height": 65
        },
        "outputId": "e32eb064-a8c2-4c37-931e-5a0ccd6528c5"
      },
      "source": [
        "from torch_snippets import *\n",
        "from PIL import Image\n",
        "from sklearn.utils import shuffle\n",
        "import albumentations as A\n",
        "IMAGE_ROOT = '/content/head_ct/head_ct'\n",
        "df = pd.read_csv('labels.csv')"
      ],
      "execution_count": null,
      "outputs": [
        {
          "output_type": "display_data",
          "data": {
            "text/html": [
              "<pre style=\"white-space:pre;overflow-x:auto;line-height:normal;font-family:Menlo,'DejaVu Sans Mono',consolas,'Courier New',monospace\"><span style=\"color: #7fbfbf; text-decoration-color: #7fbfbf\">[04/14/21 23:53:57] </span><span style=\"color: #bf7f7f; text-decoration-color: #bf7f7f\">WARNING </span> Not importing Lightning Report      <a href=\"file:///usr/local/lib/python3.7/dist-packages/torch_snippets/torch_loader.py\"><span style=\"color: #7f7f7f; text-decoration-color: #7f7f7f\">torch_loader.py</span></a><span style=\"color: #7f7f7f; text-decoration-color: #7f7f7f\">:&lt;module&gt;:233</span>\n",
              "</pre>\n"
            ],
            "text/plain": [
              "\u001b[2;36m[04/14/21 23:53:57]\u001b[0m\u001b[2;36m \u001b[0m\u001b[2;31mWARNING \u001b[0m Not importing Lightning Report      \u001b]8;id=1618444437.370244-578162;file:///usr/local/lib/python3.7/dist-packages/torch_snippets/torch_loader.py\u001b\\\u001b[2mtorch_loader.py\u001b[0m\u001b]8;;\u001b\\\u001b[2m:<module>:233\u001b[0m\n"
            ]
          },
          "metadata": {
            "tags": []
          }
        },
        {
          "output_type": "display_data",
          "data": {
            "text/html": [
              "<pre style=\"white-space:pre;overflow-x:auto;line-height:normal;font-family:Menlo,'DejaVu Sans Mono',consolas,'Courier New',monospace\"><span style=\"color: #7fbfbf; text-decoration-color: #7fbfbf\">                    </span><span style=\"color: #bf7f7f; text-decoration-color: #bf7f7f\">WARNING </span> sklearn is not found. Skipping relevant  <a href=\"file:///usr/local/lib/python3.7/dist-packages/torch_snippets/__init__.py\"><span style=\"color: #7f7f7f; text-decoration-color: #7f7f7f\">__init__.py</span></a><span style=\"color: #7f7f7f; text-decoration-color: #7f7f7f\">:&lt;module&gt;:13</span>\n",
              "                             imports from submodule `sklegos`                                \n",
              "</pre>\n"
            ],
            "text/plain": [
              "\u001b[2;36m                   \u001b[0m\u001b[2;36m \u001b[0m\u001b[2;31mWARNING \u001b[0m sklearn is not found. Skipping relevant  \u001b]8;id=1618444437.976442-138609;file:///usr/local/lib/python3.7/dist-packages/torch_snippets/__init__.py\u001b\\\u001b[2m__init__.py\u001b[0m\u001b]8;;\u001b\\\u001b[2m:<module>:13\u001b[0m\n",
              "                             imports from submodule `sklegos`                                \n"
            ]
          },
          "metadata": {
            "tags": []
          }
        }
      ]
    },
    {
      "cell_type": "code",
      "metadata": {
        "colab": {
          "base_uri": "https://localhost:8080/"
        },
        "id": "WeLPlZT1kfgk",
        "outputId": "3edf3c0a-5115-44c8-ff34-62647502c630"
      },
      "source": [
        "!pip install timm\n",
        "import timm"
      ],
      "execution_count": null,
      "outputs": [
        {
          "output_type": "stream",
          "text": [
            "Collecting timm\n",
            "\u001b[?25l  Downloading https://files.pythonhosted.org/packages/9e/89/d94f59780b5dd973154bf506d8ce598f6bfe7cc44dd445d644d6d3be8c39/timm-0.4.5-py3-none-any.whl (287kB)\n",
            "\r\u001b[K     |█▏                              | 10kB 23.4MB/s eta 0:00:01\r\u001b[K     |██▎                             | 20kB 29.4MB/s eta 0:00:01\r\u001b[K     |███▍                            | 30kB 20.3MB/s eta 0:00:01\r\u001b[K     |████▋                           | 40kB 23.8MB/s eta 0:00:01\r\u001b[K     |█████▊                          | 51kB 24.8MB/s eta 0:00:01\r\u001b[K     |██████▉                         | 61kB 27.5MB/s eta 0:00:01\r\u001b[K     |████████                        | 71kB 19.0MB/s eta 0:00:01\r\u001b[K     |█████████▏                      | 81kB 20.1MB/s eta 0:00:01\r\u001b[K     |██████████▎                     | 92kB 18.4MB/s eta 0:00:01\r\u001b[K     |███████████▍                    | 102kB 18.8MB/s eta 0:00:01\r\u001b[K     |████████████▌                   | 112kB 18.8MB/s eta 0:00:01\r\u001b[K     |█████████████▊                  | 122kB 18.8MB/s eta 0:00:01\r\u001b[K     |██████████████▉                 | 133kB 18.8MB/s eta 0:00:01\r\u001b[K     |████████████████                | 143kB 18.8MB/s eta 0:00:01\r\u001b[K     |█████████████████               | 153kB 18.8MB/s eta 0:00:01\r\u001b[K     |██████████████████▎             | 163kB 18.8MB/s eta 0:00:01\r\u001b[K     |███████████████████▍            | 174kB 18.8MB/s eta 0:00:01\r\u001b[K     |████████████████████▌           | 184kB 18.8MB/s eta 0:00:01\r\u001b[K     |█████████████████████▋          | 194kB 18.8MB/s eta 0:00:01\r\u001b[K     |██████████████████████▉         | 204kB 18.8MB/s eta 0:00:01\r\u001b[K     |████████████████████████        | 215kB 18.8MB/s eta 0:00:01\r\u001b[K     |█████████████████████████       | 225kB 18.8MB/s eta 0:00:01\r\u001b[K     |██████████████████████████▏     | 235kB 18.8MB/s eta 0:00:01\r\u001b[K     |███████████████████████████▍    | 245kB 18.8MB/s eta 0:00:01\r\u001b[K     |████████████████████████████▌   | 256kB 18.8MB/s eta 0:00:01\r\u001b[K     |█████████████████████████████▋  | 266kB 18.8MB/s eta 0:00:01\r\u001b[K     |██████████████████████████████▉ | 276kB 18.8MB/s eta 0:00:01\r\u001b[K     |████████████████████████████████| 286kB 18.8MB/s eta 0:00:01\r\u001b[K     |████████████████████████████████| 296kB 18.8MB/s \n",
            "\u001b[?25hRequirement already satisfied: torchvision in /usr/local/lib/python3.7/dist-packages (from timm) (0.9.1+cu101)\n",
            "Requirement already satisfied: torch>=1.4 in /usr/local/lib/python3.7/dist-packages (from timm) (1.8.1+cu101)\n",
            "Requirement already satisfied: numpy in /usr/local/lib/python3.7/dist-packages (from torchvision->timm) (1.19.5)\n",
            "Requirement already satisfied: pillow>=4.1.1 in /usr/local/lib/python3.7/dist-packages (from torchvision->timm) (7.1.2)\n",
            "Requirement already satisfied: typing-extensions in /usr/local/lib/python3.7/dist-packages (from torch>=1.4->timm) (3.7.4.3)\n",
            "Installing collected packages: timm\n",
            "Successfully installed timm-0.4.5\n"
          ],
          "name": "stdout"
        }
      ]
    },
    {
      "cell_type": "code",
      "metadata": {
        "colab": {
          "base_uri": "https://localhost:8080/",
          "height": 204
        },
        "id": "15yUZ0TgV9JK",
        "outputId": "52635385-b3b7-417e-eca4-499687db18b5"
      },
      "source": [
        "df.head()"
      ],
      "execution_count": null,
      "outputs": [
        {
          "output_type": "execute_result",
          "data": {
            "text/html": [
              "<div>\n",
              "<style scoped>\n",
              "    .dataframe tbody tr th:only-of-type {\n",
              "        vertical-align: middle;\n",
              "    }\n",
              "\n",
              "    .dataframe tbody tr th {\n",
              "        vertical-align: top;\n",
              "    }\n",
              "\n",
              "    .dataframe thead th {\n",
              "        text-align: right;\n",
              "    }\n",
              "</style>\n",
              "<table border=\"1\" class=\"dataframe\">\n",
              "  <thead>\n",
              "    <tr style=\"text-align: right;\">\n",
              "      <th></th>\n",
              "      <th>id</th>\n",
              "      <th>hemorrhage</th>\n",
              "    </tr>\n",
              "  </thead>\n",
              "  <tbody>\n",
              "    <tr>\n",
              "      <th>0</th>\n",
              "      <td>0</td>\n",
              "      <td>1</td>\n",
              "    </tr>\n",
              "    <tr>\n",
              "      <th>1</th>\n",
              "      <td>1</td>\n",
              "      <td>1</td>\n",
              "    </tr>\n",
              "    <tr>\n",
              "      <th>2</th>\n",
              "      <td>2</td>\n",
              "      <td>1</td>\n",
              "    </tr>\n",
              "    <tr>\n",
              "      <th>3</th>\n",
              "      <td>3</td>\n",
              "      <td>1</td>\n",
              "    </tr>\n",
              "    <tr>\n",
              "      <th>4</th>\n",
              "      <td>4</td>\n",
              "      <td>1</td>\n",
              "    </tr>\n",
              "  </tbody>\n",
              "</table>\n",
              "</div>"
            ],
            "text/plain": [
              "   id   hemorrhage\n",
              "0   0            1\n",
              "1   1            1\n",
              "2   2            1\n",
              "3   3            1\n",
              "4   4            1"
            ]
          },
          "metadata": {
            "tags": []
          },
          "execution_count": 4
        }
      ]
    },
    {
      "cell_type": "code",
      "metadata": {
        "colab": {
          "base_uri": "https://localhost:8080/",
          "height": 204
        },
        "id": "O-BTUER7V9Lz",
        "outputId": "8c8fc9fc-bf30-4141-b4f6-1e2cbb0a326b"
      },
      "source": [
        "df.tail()"
      ],
      "execution_count": null,
      "outputs": [
        {
          "output_type": "execute_result",
          "data": {
            "text/html": [
              "<div>\n",
              "<style scoped>\n",
              "    .dataframe tbody tr th:only-of-type {\n",
              "        vertical-align: middle;\n",
              "    }\n",
              "\n",
              "    .dataframe tbody tr th {\n",
              "        vertical-align: top;\n",
              "    }\n",
              "\n",
              "    .dataframe thead th {\n",
              "        text-align: right;\n",
              "    }\n",
              "</style>\n",
              "<table border=\"1\" class=\"dataframe\">\n",
              "  <thead>\n",
              "    <tr style=\"text-align: right;\">\n",
              "      <th></th>\n",
              "      <th>id</th>\n",
              "      <th>hemorrhage</th>\n",
              "    </tr>\n",
              "  </thead>\n",
              "  <tbody>\n",
              "    <tr>\n",
              "      <th>195</th>\n",
              "      <td>195</td>\n",
              "      <td>0</td>\n",
              "    </tr>\n",
              "    <tr>\n",
              "      <th>196</th>\n",
              "      <td>196</td>\n",
              "      <td>0</td>\n",
              "    </tr>\n",
              "    <tr>\n",
              "      <th>197</th>\n",
              "      <td>197</td>\n",
              "      <td>0</td>\n",
              "    </tr>\n",
              "    <tr>\n",
              "      <th>198</th>\n",
              "      <td>198</td>\n",
              "      <td>0</td>\n",
              "    </tr>\n",
              "    <tr>\n",
              "      <th>199</th>\n",
              "      <td>199</td>\n",
              "      <td>0</td>\n",
              "    </tr>\n",
              "  </tbody>\n",
              "</table>\n",
              "</div>"
            ],
            "text/plain": [
              "      id   hemorrhage\n",
              "195  195            0\n",
              "196  196            0\n",
              "197  197            0\n",
              "198  198            0\n",
              "199  199            0"
            ]
          },
          "metadata": {
            "tags": []
          },
          "execution_count": 5
        }
      ]
    },
    {
      "cell_type": "code",
      "metadata": {
        "colab": {
          "base_uri": "https://localhost:8080/",
          "height": 669
        },
        "id": "aUlahO29XT6D",
        "outputId": "14e204d9-610c-409a-b0c5-76644e0b0263"
      },
      "source": [
        "list_id = list(os.listdir(IMAGE_ROOT))\n",
        "df['id'] = sorted(list_id)\n",
        "df.head(20)"
      ],
      "execution_count": null,
      "outputs": [
        {
          "output_type": "execute_result",
          "data": {
            "text/html": [
              "<div>\n",
              "<style scoped>\n",
              "    .dataframe tbody tr th:only-of-type {\n",
              "        vertical-align: middle;\n",
              "    }\n",
              "\n",
              "    .dataframe tbody tr th {\n",
              "        vertical-align: top;\n",
              "    }\n",
              "\n",
              "    .dataframe thead th {\n",
              "        text-align: right;\n",
              "    }\n",
              "</style>\n",
              "<table border=\"1\" class=\"dataframe\">\n",
              "  <thead>\n",
              "    <tr style=\"text-align: right;\">\n",
              "      <th></th>\n",
              "      <th>id</th>\n",
              "      <th>hemorrhage</th>\n",
              "    </tr>\n",
              "  </thead>\n",
              "  <tbody>\n",
              "    <tr>\n",
              "      <th>0</th>\n",
              "      <td>000.png</td>\n",
              "      <td>1</td>\n",
              "    </tr>\n",
              "    <tr>\n",
              "      <th>1</th>\n",
              "      <td>001.png</td>\n",
              "      <td>1</td>\n",
              "    </tr>\n",
              "    <tr>\n",
              "      <th>2</th>\n",
              "      <td>002.png</td>\n",
              "      <td>1</td>\n",
              "    </tr>\n",
              "    <tr>\n",
              "      <th>3</th>\n",
              "      <td>003.png</td>\n",
              "      <td>1</td>\n",
              "    </tr>\n",
              "    <tr>\n",
              "      <th>4</th>\n",
              "      <td>004.png</td>\n",
              "      <td>1</td>\n",
              "    </tr>\n",
              "    <tr>\n",
              "      <th>5</th>\n",
              "      <td>005.png</td>\n",
              "      <td>1</td>\n",
              "    </tr>\n",
              "    <tr>\n",
              "      <th>6</th>\n",
              "      <td>006.png</td>\n",
              "      <td>1</td>\n",
              "    </tr>\n",
              "    <tr>\n",
              "      <th>7</th>\n",
              "      <td>007.png</td>\n",
              "      <td>1</td>\n",
              "    </tr>\n",
              "    <tr>\n",
              "      <th>8</th>\n",
              "      <td>008.png</td>\n",
              "      <td>1</td>\n",
              "    </tr>\n",
              "    <tr>\n",
              "      <th>9</th>\n",
              "      <td>009.png</td>\n",
              "      <td>1</td>\n",
              "    </tr>\n",
              "    <tr>\n",
              "      <th>10</th>\n",
              "      <td>010.png</td>\n",
              "      <td>1</td>\n",
              "    </tr>\n",
              "    <tr>\n",
              "      <th>11</th>\n",
              "      <td>011.png</td>\n",
              "      <td>1</td>\n",
              "    </tr>\n",
              "    <tr>\n",
              "      <th>12</th>\n",
              "      <td>012.png</td>\n",
              "      <td>1</td>\n",
              "    </tr>\n",
              "    <tr>\n",
              "      <th>13</th>\n",
              "      <td>013.png</td>\n",
              "      <td>1</td>\n",
              "    </tr>\n",
              "    <tr>\n",
              "      <th>14</th>\n",
              "      <td>014.png</td>\n",
              "      <td>1</td>\n",
              "    </tr>\n",
              "    <tr>\n",
              "      <th>15</th>\n",
              "      <td>015.png</td>\n",
              "      <td>1</td>\n",
              "    </tr>\n",
              "    <tr>\n",
              "      <th>16</th>\n",
              "      <td>016.png</td>\n",
              "      <td>1</td>\n",
              "    </tr>\n",
              "    <tr>\n",
              "      <th>17</th>\n",
              "      <td>017.png</td>\n",
              "      <td>1</td>\n",
              "    </tr>\n",
              "    <tr>\n",
              "      <th>18</th>\n",
              "      <td>018.png</td>\n",
              "      <td>1</td>\n",
              "    </tr>\n",
              "    <tr>\n",
              "      <th>19</th>\n",
              "      <td>019.png</td>\n",
              "      <td>1</td>\n",
              "    </tr>\n",
              "  </tbody>\n",
              "</table>\n",
              "</div>"
            ],
            "text/plain": [
              "         id   hemorrhage\n",
              "0   000.png            1\n",
              "1   001.png            1\n",
              "2   002.png            1\n",
              "3   003.png            1\n",
              "4   004.png            1\n",
              "5   005.png            1\n",
              "6   006.png            1\n",
              "7   007.png            1\n",
              "8   008.png            1\n",
              "9   009.png            1\n",
              "10  010.png            1\n",
              "11  011.png            1\n",
              "12  012.png            1\n",
              "13  013.png            1\n",
              "14  014.png            1\n",
              "15  015.png            1\n",
              "16  016.png            1\n",
              "17  017.png            1\n",
              "18  018.png            1\n",
              "19  019.png            1"
            ]
          },
          "metadata": {
            "tags": []
          },
          "execution_count": 6
        }
      ]
    },
    {
      "cell_type": "markdown",
      "metadata": {
        "id": "JelDqqlyzDLH"
      },
      "source": [
        "# New Section"
      ]
    },
    {
      "cell_type": "code",
      "metadata": {
        "id": "dN8q3siZYdby"
      },
      "source": [
        "class headData(Dataset):\n",
        "  def __init__(self, df, image_dir=IMAGE_ROOT, transform=None):\n",
        "    self.image_dir = image_dir\n",
        "    self.files = glob.glob(self.image_dir+'/*')\n",
        "    self.df = df\n",
        "    self.image_infos = df.id.unique()\n",
        "    self.transform = transform\n",
        "\n",
        "  def __getitem__(self, index):\n",
        "    image_id = self.image_infos[index]\n",
        "    image_path = find(image_id, self.files)\n",
        "    img = np.array(Image.open(image_path).convert(\"RGB\"))\n",
        "    data = self.df[self.df['id'] == image_id]\n",
        "    label = data[' hemorrhage'].values.tolist()\n",
        "\n",
        "    if self.transform is not None:\n",
        "      image = self.transform(image=img)[\"image\"]\n",
        "\n",
        "    return torch.tensor(image/255).permute(2,0,1).float().to(device), torch.tensor(label).float().to(device)\n",
        "\n",
        "  def __len__(self):\n",
        "    return len(self.image_infos)"
      ],
      "execution_count": null,
      "outputs": []
    },
    {
      "cell_type": "code",
      "metadata": {
        "id": "7osBBIdRYhVZ"
      },
      "source": [
        "train_transform = A.Compose(\n",
        "    [   A.Resize(320,320),\n",
        "        A.ShiftScaleRotate(shift_limit=0.02, scale_limit=0.02, rotate_limit=15, p=0.2),\n",
        "        A.RandomCrop(height=300, width=300),\n",
        "        A.RGBShift(r_shift_limit=15, g_shift_limit=15, b_shift_limit=15, p=0.2),\n",
        "        A.RandomBrightnessContrast(p=0.2),\n",
        "        A.ShiftScaleRotate(p=0.5),\n",
        "        A.OneOf([\n",
        "        A.IAAAdditiveGaussianNoise(),\n",
        "        A.GaussNoise(),\n",
        "        ], p=0.2),\n",
        "        #A.Normalize(mean=(0.485, 0.456, 0.406), std=(0.229, 0.224, 0.225))\n",
        "        ])\n",
        "\n",
        "val_transform = A.Compose(\n",
        "    [   A.Resize(320,320),\n",
        "        A.CenterCrop(height=300, width=300),\n",
        "        #A.Normalize(mean=(0.485, 0.456, 0.406), std=(0.229, 0.224, 0.225))\n",
        "        ])"
      ],
      "execution_count": null,
      "outputs": []
    },
    {
      "cell_type": "code",
      "metadata": {
        "id": "5tkpk82ZYhlF"
      },
      "source": [
        "from sklearn.model_selection import train_test_split\n",
        "trn_ids, val_ids = train_test_split(df.id.unique(), test_size=0.3, random_state=45)\n",
        "trn_df, val_df = shuffle(df[df['id'].isin(trn_ids)]).reset_index(drop = True), shuffle(df[df['id'].isin(val_ids)]).reset_index(drop = True)\n",
        "len(trn_df), len(val_df)\n",
        "\n",
        "train_ds = headData(trn_df, transform=train_transform)\n",
        "test_ds = headData(val_df, transform=val_transform)\n",
        "\n",
        "train_loader = DataLoader(train_ds, batch_size=8, drop_last=True)\n",
        "test_loader = DataLoader(test_ds, batch_size=8, drop_last=True)"
      ],
      "execution_count": null,
      "outputs": []
    },
    {
      "cell_type": "code",
      "metadata": {
        "id": "1qe4K6J5ivdC"
      },
      "source": [
        "names_of_labels = {1: 'Yes', 0: 'No'}"
      ],
      "execution_count": null,
      "outputs": []
    },
    {
      "cell_type": "code",
      "metadata": {
        "colab": {
          "base_uri": "https://localhost:8080/",
          "height": 585
        },
        "id": "pBzt9HwfYhnZ",
        "outputId": "0813cef5-d23a-4a97-aef6-1c800a028f78"
      },
      "source": [
        "def display_image_grid(df, predicted_labels=(), image_dir = IMAGE_ROOT, rows=4, cols=4):\n",
        "    files = glob.glob(image_dir+'/*')\n",
        "    image_infos = df.id.unique()\n",
        "    figure, ax = plt.subplots(nrows=rows, ncols=cols, figsize=(12, 8))\n",
        "    for index in range(rows*cols):\n",
        "        image_id = image_infos[index]\n",
        "        image_path = find(image_id, files)\n",
        "        image = cv2.imread(image_path)\n",
        "        image = cv2.cvtColor(image, cv2.COLOR_BGR2RGB)\n",
        "        true_label = names_of_labels[df[' hemorrhage'][index]]\n",
        "        predicted_label = predicted_labels[i] if predicted_labels else true_label\n",
        "        color = \"green\" if true_label == predicted_label else \"red\"\n",
        "        ax.ravel()[index].imshow(image)\n",
        "        ax.ravel()[index].set_title(predicted_label, color=color)\n",
        "        ax.ravel()[index].set_axis_off()\n",
        "    plt.tight_layout()\n",
        "    plt.show()\n",
        "    \n",
        "display_image_grid(val_df, rows=4, cols=4)  "
      ],
      "execution_count": null,
      "outputs": [
        {
          "output_type": "display_data",
          "data": {
            "image/png": "[encoded data removed]",
            "text/plain": [
              "<Figure size 864x576 with 16 Axes>"
            ]
          },
          "metadata": {
            "tags": [],
            "needs_background": "light"
          }
        }
      ]
    },
    {
      "cell_type": "code",
      "metadata": {
        "colab": {
          "base_uri": "https://localhost:8080/",
          "height": 385
        },
        "id": "-QY54z5FC6fU",
        "outputId": "7f04960b-bbc0-4d9e-b077-d14ce2302634"
      },
      "source": [
        "def visualize_augmentations(dataset, idx=1, samples=10, cols=5):\n",
        "    rows = samples // cols\n",
        "    figure, ax = plt.subplots(nrows=rows, ncols=cols, figsize=(12, 6))\n",
        "    for i in range(samples):\n",
        "        image, _ = dataset[idx]\n",
        "        image = image.permute(1,2,0)\n",
        "        ax.ravel()[i].imshow((image).cpu().detach().numpy())\n",
        "        ax.ravel()[i].set_axis_off()\n",
        "    plt.tight_layout()\n",
        "    plt.show()\n",
        "\n",
        "visualize_augmentations(train_ds)"
      ],
      "execution_count": null,
      "outputs": [
        {
          "output_type": "display_data",
          "data": {
            "image/png": "[encoded data removed]",
            "text/plain": [
              "<Figure size 864x432 with 10 Axes>"
            ]
          },
          "metadata": {
            "tags": [],
            "needs_background": "light"
          }
        }
      ]
    },
    {
      "cell_type": "code",
      "metadata": {
        "id": "QDnTCIohYhrg"
      },
      "source": [
        "class ResNet200D(nn.Module):\n",
        "    def __init__(self, model_name='resnet200d'):\n",
        "        super().__init__()\n",
        "        self.model = timm.create_model(model_name, pretrained=False)\n",
        "        for param in self.model.parameters():\n",
        "            param.requires_grad = True\n",
        "        n_features = self.model.fc.in_features\n",
        "        self.model.global_pool = nn.Identity()\n",
        "        self.model.fc = nn.Identity()\n",
        "        self.pooling = nn.AdaptiveAvgPool2d(1)\n",
        "        self.fc = nn.Linear(n_features, 1)\n",
        "\n",
        "    def forward(self, x):\n",
        "        bs = x.size(0)\n",
        "        features = self.model(x)\n",
        "        pooled_features = self.pooling(features).view(bs, -1)\n",
        "        output = self.fc(pooled_features)\n",
        "\n",
        "        return output"
      ],
      "execution_count": null,
      "outputs": []
    },
    {
      "cell_type": "code",
      "metadata": {
        "id": "u7YLMT-PromW",
        "colab": {
          "base_uri": "https://localhost:8080/"
        },
        "outputId": "c09a3d37-49f4-4bed-9927-1fdb6ca90fb1"
      },
      "source": [
        "!pip install torch_summary\n",
        "from torchsummary import summary\n",
        "model = ResNet200D().to(device)\n",
        "summary(model, torch.zeros(1,3,224,224));"
      ],
      "execution_count": null,
      "outputs": [
        {
          "output_type": "stream",
          "text": [
            "Requirement already satisfied: torch_summary in /usr/local/lib/python3.7/dist-packages (1.4.5)\n",
            "==========================================================================================\n",
            "Layer (type:depth-idx)                   Output Shape              Param #\n",
            "==========================================================================================\n",
            "├─ResNet: 1-1                            [-1, 2048, 7, 7]          --\n",
            "|    └─Sequential: 2-1                   [-1, 64, 112, 112]        --\n",
            "|    |    └─Conv2d: 3-1                  [-1, 32, 112, 112]        864\n",
            "|    |    └─BatchNorm2d: 3-2             [-1, 32, 112, 112]        64\n",
            "|    |    └─ReLU: 3-3                    [-1, 32, 112, 112]        --\n",
            "|    |    └─Conv2d: 3-4                  [-1, 32, 112, 112]        9,216\n",
            "|    |    └─BatchNorm2d: 3-5             [-1, 32, 112, 112]        64\n",
            "|    |    └─ReLU: 3-6                    [-1, 32, 112, 112]        --\n",
            "|    |    └─Conv2d: 3-7                  [-1, 64, 112, 112]        18,432\n",
            "|    └─BatchNorm2d: 2-2                  [-1, 64, 112, 112]        128\n",
            "|    └─ReLU: 2-3                         [-1, 64, 112, 112]        --\n",
            "|    └─MaxPool2d: 2-4                    [-1, 64, 56, 56]          --\n",
            "|    └─Sequential: 2-5                   [-1, 256, 56, 56]         --\n",
            "|    |    └─Bottleneck: 3-8              [-1, 256, 56, 56]         75,008\n",
            "|    |    └─Bottleneck: 3-9              [-1, 256, 56, 56]         70,400\n",
            "|    |    └─Bottleneck: 3-10             [-1, 256, 56, 56]         70,400\n",
            "|    └─Sequential: 2-6                   [-1, 512, 28, 28]         --\n",
            "|    |    └─Bottleneck: 3-11             [-1, 512, 28, 28]         379,392\n",
            "|    |    └─Bottleneck: 3-12             [-1, 512, 28, 28]         280,064\n",
            "|    |    └─Bottleneck: 3-13             [-1, 512, 28, 28]         280,064\n",
            "|    |    └─Bottleneck: 3-14             [-1, 512, 28, 28]         280,064\n",
            "|    |    └─Bottleneck: 3-15             [-1, 512, 28, 28]         280,064\n",
            "|    |    └─Bottleneck: 3-16             [-1, 512, 28, 28]         280,064\n",
            "|    |    └─Bottleneck: 3-17             [-1, 512, 28, 28]         280,064\n",
            "|    |    └─Bottleneck: 3-18             [-1, 512, 28, 28]         280,064\n",
            "|    |    └─Bottleneck: 3-19             [-1, 512, 28, 28]         280,064\n",
            "|    |    └─Bottleneck: 3-20             [-1, 512, 28, 28]         280,064\n",
            "|    |    └─Bottleneck: 3-21             [-1, 512, 28, 28]         280,064\n",
            "|    |    └─Bottleneck: 3-22             [-1, 512, 28, 28]         280,064\n",
            "|    |    └─Bottleneck: 3-23             [-1, 512, 28, 28]         280,064\n",
            "|    |    └─Bottleneck: 3-24             [-1, 512, 28, 28]         280,064\n",
            "|    |    └─Bottleneck: 3-25             [-1, 512, 28, 28]         280,064\n",
            "|    |    └─Bottleneck: 3-26             [-1, 512, 28, 28]         280,064\n",
            "|    |    └─Bottleneck: 3-27             [-1, 512, 28, 28]         280,064\n",
            "|    |    └─Bottleneck: 3-28             [-1, 512, 28, 28]         280,064\n",
            "|    |    └─Bottleneck: 3-29             [-1, 512, 28, 28]         280,064\n",
            "|    |    └─Bottleneck: 3-30             [-1, 512, 28, 28]         280,064\n",
            "|    |    └─Bottleneck: 3-31             [-1, 512, 28, 28]         280,064\n",
            "|    |    └─Bottleneck: 3-32             [-1, 512, 28, 28]         280,064\n",
            "|    |    └─Bottleneck: 3-33             [-1, 512, 28, 28]         280,064\n",
            "|    |    └─Bottleneck: 3-34             [-1, 512, 28, 28]         280,064\n",
            "|    └─Sequential: 2-7                   [-1, 1024, 14, 14]        --\n",
            "|    |    └─Bottleneck: 3-35             [-1, 1024, 14, 14]        1,512,448\n",
            "|    |    └─Bottleneck: 3-36             [-1, 1024, 14, 14]        1,117,184\n",
            "|    |    └─Bottleneck: 3-37             [-1, 1024, 14, 14]        1,117,184\n",
            "|    |    └─Bottleneck: 3-38             [-1, 1024, 14, 14]        1,117,184\n",
            "|    |    └─Bottleneck: 3-39             [-1, 1024, 14, 14]        1,117,184\n",
            "|    |    └─Bottleneck: 3-40             [-1, 1024, 14, 14]        1,117,184\n",
            "|    |    └─Bottleneck: 3-41             [-1, 1024, 14, 14]        1,117,184\n",
            "|    |    └─Bottleneck: 3-42             [-1, 1024, 14, 14]        1,117,184\n",
            "|    |    └─Bottleneck: 3-43             [-1, 1024, 14, 14]        1,117,184\n",
            "|    |    └─Bottleneck: 3-44             [-1, 1024, 14, 14]        1,117,184\n",
            "|    |    └─Bottleneck: 3-45             [-1, 1024, 14, 14]        1,117,184\n",
            "|    |    └─Bottleneck: 3-46             [-1, 1024, 14, 14]        1,117,184\n",
            "|    |    └─Bottleneck: 3-47             [-1, 1024, 14, 14]        1,117,184\n",
            "|    |    └─Bottleneck: 3-48             [-1, 1024, 14, 14]        1,117,184\n",
            "|    |    └─Bottleneck: 3-49             [-1, 1024, 14, 14]        1,117,184\n",
            "|    |    └─Bottleneck: 3-50             [-1, 1024, 14, 14]        1,117,184\n",
            "|    |    └─Bottleneck: 3-51             [-1, 1024, 14, 14]        1,117,184\n",
            "|    |    └─Bottleneck: 3-52             [-1, 1024, 14, 14]        1,117,184\n",
            "|    |    └─Bottleneck: 3-53             [-1, 1024, 14, 14]        1,117,184\n",
            "|    |    └─Bottleneck: 3-54             [-1, 1024, 14, 14]        1,117,184\n",
            "|    |    └─Bottleneck: 3-55             [-1, 1024, 14, 14]        1,117,184\n",
            "|    |    └─Bottleneck: 3-56             [-1, 1024, 14, 14]        1,117,184\n",
            "|    |    └─Bottleneck: 3-57             [-1, 1024, 14, 14]        1,117,184\n",
            "|    |    └─Bottleneck: 3-58             [-1, 1024, 14, 14]        1,117,184\n",
            "|    |    └─Bottleneck: 3-59             [-1, 1024, 14, 14]        1,117,184\n",
            "|    |    └─Bottleneck: 3-60             [-1, 1024, 14, 14]        1,117,184\n",
            "|    |    └─Bottleneck: 3-61             [-1, 1024, 14, 14]        1,117,184\n",
            "|    |    └─Bottleneck: 3-62             [-1, 1024, 14, 14]        1,117,184\n",
            "|    |    └─Bottleneck: 3-63             [-1, 1024, 14, 14]        1,117,184\n",
            "|    |    └─Bottleneck: 3-64             [-1, 1024, 14, 14]        1,117,184\n",
            "|    |    └─Bottleneck: 3-65             [-1, 1024, 14, 14]        1,117,184\n",
            "|    |    └─Bottleneck: 3-66             [-1, 1024, 14, 14]        1,117,184\n",
            "|    |    └─Bottleneck: 3-67             [-1, 1024, 14, 14]        1,117,184\n",
            "|    |    └─Bottleneck: 3-68             [-1, 1024, 14, 14]        1,117,184\n",
            "|    |    └─Bottleneck: 3-69             [-1, 1024, 14, 14]        1,117,184\n",
            "|    |    └─Bottleneck: 3-70             [-1, 1024, 14, 14]        1,117,184\n",
            "|    └─Sequential: 2-8                   [-1, 2048, 7, 7]          --\n",
            "|    |    └─Bottleneck: 3-71             [-1, 2048, 7, 7]          6,039,552\n",
            "|    |    └─Bottleneck: 3-72             [-1, 2048, 7, 7]          4,462,592\n",
            "|    |    └─Bottleneck: 3-73             [-1, 2048, 7, 7]          4,462,592\n",
            "|    └─Identity: 2-9                     [-1, 2048, 7, 7]          --\n",
            "|    └─Identity: 2-10                    [-1, 2048, 7, 7]          --\n",
            "├─AdaptiveAvgPool2d: 1-2                 [-1, 2048, 1, 1]          --\n",
            "├─Linear: 1-3                            [-1, 1]                   2,049\n",
            "==========================================================================================\n",
            "Total params: 62,646,113\n",
            "Trainable params: 62,646,113\n",
            "Non-trainable params: 0\n",
            "Total mult-adds (G): 15.08\n",
            "==========================================================================================\n",
            "Input size (MB): 0.57\n",
            "Forward/backward pass size (MB): 480.43\n",
            "Params size (MB): 238.98\n",
            "Estimated Total Size (MB): 719.98\n",
            "==========================================================================================\n"
          ],
          "name": "stdout"
        }
      ]
    },
    {
      "cell_type": "code",
      "metadata": {
        "id": "aQyImX_7ropC"
      },
      "source": [
        "model = ResNet200D().to(device)\n",
        "loss_fn = nn.BCEWithLogitsLoss()\n",
        "optimizer = torch.optim.Adam(model.parameters(), lr= 1e-2)\n",
        "scheduler = torch.optim.lr_scheduler.StepLR(optimizer, step_size=10, gamma=0.1)"
      ],
      "execution_count": null,
      "outputs": []
    },
    {
      "cell_type": "code",
      "metadata": {
        "id": "ok4cwaMbqIa4"
      },
      "source": [
        "def train_batch(x, y, model, opt, loss_fn):\n",
        "    prediction = model(x)\n",
        "    batch_loss = loss_fn(prediction, y)\n",
        "    batch_loss.backward()\n",
        "    optimizer.step()\n",
        "    optimizer.zero_grad()\n",
        "    return batch_loss.item()\n",
        "\n",
        "@torch.no_grad()\n",
        "def accuracy(x, y, model):\n",
        "    prediction = model(x)\n",
        "    is_correct = (prediction >= 0.5) == y\n",
        "    return is_correct.cpu().numpy().tolist()\n",
        "\n",
        "@torch.no_grad()\n",
        "def val_loss(x, y, model):\n",
        "    prediction = model(x)\n",
        "    val_loss = loss_fn(prediction, y)\n",
        "    return val_loss.item()  "
      ],
      "execution_count": null,
      "outputs": []
    },
    {
      "cell_type": "code",
      "metadata": {
        "colab": {
          "base_uri": "https://localhost:8080/",
          "height": 1000
        },
        "id": "sXm_ovdSqIdR",
        "outputId": "aa4d5732-bee4-462c-e320-a79d168b936c"
      },
      "source": [
        "for epoch in range(50):\n",
        "    train_losses, train_accuracies = [], []\n",
        "    val_losses, val_accuracies = [], []\n",
        "\n",
        "    train_epoch_losses, train_epoch_accuracies = [], []\n",
        "    val_epoch_accuracies = []\n",
        "\n",
        "    for ix, batch in enumerate(iter(train_loader)):\n",
        "        x, y = batch\n",
        "        batch_loss = train_batch(x, y, model, optimizer, loss_fn)\n",
        "        train_epoch_losses.append(batch_loss)        \n",
        "    train_epoch_loss = np.array(train_epoch_losses).mean()\n",
        "\n",
        "    for ix, batch in enumerate(iter(train_loader)):\n",
        "        x, y = batch\n",
        "        is_correct = accuracy(x, y, model)\n",
        "        train_epoch_accuracies.extend(is_correct)\n",
        "    train_epoch_accuracy = np.mean(train_epoch_accuracies)\n",
        "\n",
        "    for ix, batch in enumerate(iter(test_loader)):\n",
        "        x, y = batch\n",
        "        val_is_correct = accuracy(x, y, model)\n",
        "        val_epoch_accuracies.extend(val_is_correct)\n",
        "        validation_loss = val_loss(x, y, model)\n",
        "    val_epoch_accuracy = np.mean(val_epoch_accuracies)\n",
        "\n",
        "    train_losses.append(train_epoch_loss)\n",
        "    train_accuracies.append(train_epoch_accuracy)\n",
        "    val_losses.append(validation_loss)\n",
        "    val_accuracies.append(val_epoch_accuracy)\n",
        "\n",
        "    print(f\"Training Epoch: {epoch}, 'LR:', {scheduler.get_last_lr()}\")\n",
        "    print(f\"Train Losses: {train_epoch_loss}\")\n",
        "    print(f\"Train Accuracy: {train_epoch_accuracy}\")\n",
        "    print(f\"Val Losses: {validation_loss}\")\n",
        "    print(f\"Val Accuracy: {val_epoch_accuracy}\")\n",
        "    print(\"-------------------------------------------------------------\")\n",
        "    scheduler.step()"
      ],
      "execution_count": null,
      "outputs": [
        {
          "output_type": "display_data",
          "data": {
            "text/html": [
              "<pre style=\"white-space:pre;overflow-x:auto;line-height:normal;font-family:Menlo,'DejaVu Sans Mono',consolas,'Courier New',monospace\">Training Epoch: <span style=\"color: #008080; text-decoration-color: #008080; font-weight: bold\">0</span>, <span style=\"color: #008000; text-decoration-color: #008000\">'LR:'</span>, <span style=\"font-weight: bold\">[</span><span style=\"color: #008080; text-decoration-color: #008080; font-weight: bold\">0.01</span><span style=\"font-weight: bold\">]</span>\n",
              "</pre>\n"
            ],
            "text/plain": [
              "Training Epoch: \u001b[1;36m0\u001b[0m, \u001b[32m'LR:'\u001b[0m, \u001b[1m[\u001b[0m\u001b[1;36m0.01\u001b[0m\u001b[1m]\u001b[0m\n"
            ]
          },
          "metadata": {
            "tags": []
          }
        },
        {
          "output_type": "display_data",
          "data": {
            "text/html": [
              "<pre style=\"white-space:pre;overflow-x:auto;line-height:normal;font-family:Menlo,'DejaVu Sans Mono',consolas,'Courier New',monospace\">Train Losses: <span style=\"color: #008080; text-decoration-color: #008080; font-weight: bold\">1.1434904617421768</span>\n",
              "</pre>\n"
            ],
            "text/plain": [
              "Train Losses: \u001b[1;36m1.1434904617421768\u001b[0m\n"
            ]
          },
          "metadata": {
            "tags": []
          }
        },
        {
          "output_type": "display_data",
          "data": {
            "text/html": [
              "<pre style=\"white-space:pre;overflow-x:auto;line-height:normal;font-family:Menlo,'DejaVu Sans Mono',consolas,'Courier New',monospace\">Train Accuracy: <span style=\"color: #008080; text-decoration-color: #008080; font-weight: bold\">0.6176470588235294</span>\n",
              "</pre>\n"
            ],
            "text/plain": [
              "Train Accuracy: \u001b[1;36m0.6176470588235294\u001b[0m\n"
            ]
          },
          "metadata": {
            "tags": []
          }
        },
        {
          "output_type": "display_data",
          "data": {
            "text/html": [
              "<pre style=\"white-space:pre;overflow-x:auto;line-height:normal;font-family:Menlo,'DejaVu Sans Mono',consolas,'Courier New',monospace\">Val Losses: <span style=\"color: #008080; text-decoration-color: #008080; font-weight: bold\">0.46585896611213684</span>\n",
              "</pre>\n"
            ],
            "text/plain": [
              "Val Losses: \u001b[1;36m0.46585896611213684\u001b[0m\n"
            ]
          },
          "metadata": {
            "tags": []
          }
        },
        {
          "output_type": "display_data",
          "data": {
            "text/html": [
              "<pre style=\"white-space:pre;overflow-x:auto;line-height:normal;font-family:Menlo,'DejaVu Sans Mono',consolas,'Courier New',monospace\">Val Accuracy: <span style=\"color: #008080; text-decoration-color: #008080; font-weight: bold\">0.6964285714285714</span>\n",
              "</pre>\n"
            ],
            "text/plain": [
              "Val Accuracy: \u001b[1;36m0.6964285714285714\u001b[0m\n"
            ]
          },
          "metadata": {
            "tags": []
          }
        },
        {
          "output_type": "display_data",
          "data": {
            "text/html": [
              "<pre style=\"white-space:pre;overflow-x:auto;line-height:normal;font-family:Menlo,'DejaVu Sans Mono',consolas,'Courier New',monospace\">-------------------------------------------------------------\n",
              "</pre>\n"
            ],
            "text/plain": [
              "-------------------------------------------------------------\n"
            ]
          },
          "metadata": {
            "tags": []
          }
        },
        {
          "output_type": "display_data",
          "data": {
            "text/html": [
              "<pre style=\"white-space:pre;overflow-x:auto;line-height:normal;font-family:Menlo,'DejaVu Sans Mono',consolas,'Courier New',monospace\">Training Epoch: <span style=\"color: #008080; text-decoration-color: #008080; font-weight: bold\">1</span>, <span style=\"color: #008000; text-decoration-color: #008000\">'LR:'</span>, <span style=\"font-weight: bold\">[</span><span style=\"color: #008080; text-decoration-color: #008080; font-weight: bold\">0.01</span><span style=\"font-weight: bold\">]</span>\n",
              "</pre>\n"
            ],
            "text/plain": [
              "Training Epoch: \u001b[1;36m1\u001b[0m, \u001b[32m'LR:'\u001b[0m, \u001b[1m[\u001b[0m\u001b[1;36m0.01\u001b[0m\u001b[1m]\u001b[0m\n"
            ]
          },
          "metadata": {
            "tags": []
          }
        },
        {
          "output_type": "display_data",
          "data": {
            "text/html": [
              "<pre style=\"white-space:pre;overflow-x:auto;line-height:normal;font-family:Menlo,'DejaVu Sans Mono',consolas,'Courier New',monospace\">Train Losses: <span style=\"color: #008080; text-decoration-color: #008080; font-weight: bold\">0.6968699623556698</span>\n",
              "</pre>\n"
            ],
            "text/plain": [
              "Train Losses: \u001b[1;36m0.6968699623556698\u001b[0m\n"
            ]
          },
          "metadata": {
            "tags": []
          }
        },
        {
          "output_type": "display_data",
          "data": {
            "text/html": [
              "<pre style=\"white-space:pre;overflow-x:auto;line-height:normal;font-family:Menlo,'DejaVu Sans Mono',consolas,'Courier New',monospace\">Train Accuracy: <span style=\"color: #008080; text-decoration-color: #008080; font-weight: bold\">0.6397058823529411</span>\n",
              "</pre>\n"
            ],
            "text/plain": [
              "Train Accuracy: \u001b[1;36m0.6397058823529411\u001b[0m\n"
            ]
          },
          "metadata": {
            "tags": []
          }
        },
        {
          "output_type": "display_data",
          "data": {
            "text/html": [
              "<pre style=\"white-space:pre;overflow-x:auto;line-height:normal;font-family:Menlo,'DejaVu Sans Mono',consolas,'Courier New',monospace\">Val Losses: <span style=\"color: #008080; text-decoration-color: #008080; font-weight: bold\">0.2980431318283081</span>\n",
              "</pre>\n"
            ],
            "text/plain": [
              "Val Losses: \u001b[1;36m0.2980431318283081\u001b[0m\n"
            ]
          },
          "metadata": {
            "tags": []
          }
        },
        {
          "output_type": "display_data",
          "data": {
            "text/html": [
              "<pre style=\"white-space:pre;overflow-x:auto;line-height:normal;font-family:Menlo,'DejaVu Sans Mono',consolas,'Courier New',monospace\">Val Accuracy: <span style=\"color: #008080; text-decoration-color: #008080; font-weight: bold\">0.6607142857142857</span>\n",
              "</pre>\n"
            ],
            "text/plain": [
              "Val Accuracy: \u001b[1;36m0.6607142857142857\u001b[0m\n"
            ]
          },
          "metadata": {
            "tags": []
          }
        },
        {
          "output_type": "display_data",
          "data": {
            "text/html": [
              "<pre style=\"white-space:pre;overflow-x:auto;line-height:normal;font-family:Menlo,'DejaVu Sans Mono',consolas,'Courier New',monospace\">-------------------------------------------------------------\n",
              "</pre>\n"
            ],
            "text/plain": [
              "-------------------------------------------------------------\n"
            ]
          },
          "metadata": {
            "tags": []
          }
        },
        {
          "output_type": "display_data",
          "data": {
            "text/html": [
              "<pre style=\"white-space:pre;overflow-x:auto;line-height:normal;font-family:Menlo,'DejaVu Sans Mono',consolas,'Courier New',monospace\">Training Epoch: <span style=\"color: #008080; text-decoration-color: #008080; font-weight: bold\">2</span>, <span style=\"color: #008000; text-decoration-color: #008000\">'LR:'</span>, <span style=\"font-weight: bold\">[</span><span style=\"color: #008080; text-decoration-color: #008080; font-weight: bold\">0.01</span><span style=\"font-weight: bold\">]</span>\n",
              "</pre>\n"
            ],
            "text/plain": [
              "Training Epoch: \u001b[1;36m2\u001b[0m, \u001b[32m'LR:'\u001b[0m, \u001b[1m[\u001b[0m\u001b[1;36m0.01\u001b[0m\u001b[1m]\u001b[0m\n"
            ]
          },
          "metadata": {
            "tags": []
          }
        },
        {
          "output_type": "display_data",
          "data": {
            "text/html": [
              "<pre style=\"white-space:pre;overflow-x:auto;line-height:normal;font-family:Menlo,'DejaVu Sans Mono',consolas,'Courier New',monospace\">Train Losses: <span style=\"color: #008080; text-decoration-color: #008080; font-weight: bold\">0.7175706116592183</span>\n",
              "</pre>\n"
            ],
            "text/plain": [
              "Train Losses: \u001b[1;36m0.7175706116592183\u001b[0m\n"
            ]
          },
          "metadata": {
            "tags": []
          }
        },
        {
          "output_type": "display_data",
          "data": {
            "text/html": [
              "<pre style=\"white-space:pre;overflow-x:auto;line-height:normal;font-family:Menlo,'DejaVu Sans Mono',consolas,'Courier New',monospace\">Train Accuracy: <span style=\"color: #008080; text-decoration-color: #008080; font-weight: bold\">0.6397058823529411</span>\n",
              "</pre>\n"
            ],
            "text/plain": [
              "Train Accuracy: \u001b[1;36m0.6397058823529411\u001b[0m\n"
            ]
          },
          "metadata": {
            "tags": []
          }
        },
        {
          "output_type": "display_data",
          "data": {
            "text/html": [
              "<pre style=\"white-space:pre;overflow-x:auto;line-height:normal;font-family:Menlo,'DejaVu Sans Mono',consolas,'Courier New',monospace\">Val Losses: <span style=\"color: #008080; text-decoration-color: #008080; font-weight: bold\">0.42922738194465637</span>\n",
              "</pre>\n"
            ],
            "text/plain": [
              "Val Losses: \u001b[1;36m0.42922738194465637\u001b[0m\n"
            ]
          },
          "metadata": {
            "tags": []
          }
        },
        {
          "output_type": "display_data",
          "data": {
            "text/html": [
              "<pre style=\"white-space:pre;overflow-x:auto;line-height:normal;font-family:Menlo,'DejaVu Sans Mono',consolas,'Courier New',monospace\">Val Accuracy: <span style=\"color: #008080; text-decoration-color: #008080; font-weight: bold\">0.7321428571428571</span>\n",
              "</pre>\n"
            ],
            "text/plain": [
              "Val Accuracy: \u001b[1;36m0.7321428571428571\u001b[0m\n"
            ]
          },
          "metadata": {
            "tags": []
          }
        },
        {
          "output_type": "display_data",
          "data": {
            "text/html": [
              "<pre style=\"white-space:pre;overflow-x:auto;line-height:normal;font-family:Menlo,'DejaVu Sans Mono',consolas,'Courier New',monospace\">-------------------------------------------------------------\n",
              "</pre>\n"
            ],
            "text/plain": [
              "-------------------------------------------------------------\n"
            ]
          },
          "metadata": {
            "tags": []
          }
        },
        {
          "output_type": "display_data",
          "data": {
            "text/html": [
              "<pre style=\"white-space:pre;overflow-x:auto;line-height:normal;font-family:Menlo,'DejaVu Sans Mono',consolas,'Courier New',monospace\">Training Epoch: <span style=\"color: #008080; text-decoration-color: #008080; font-weight: bold\">3</span>, <span style=\"color: #008000; text-decoration-color: #008000\">'LR:'</span>, <span style=\"font-weight: bold\">[</span><span style=\"color: #008080; text-decoration-color: #008080; font-weight: bold\">0.01</span><span style=\"font-weight: bold\">]</span>\n",
              "</pre>\n"
            ],
            "text/plain": [
              "Training Epoch: \u001b[1;36m3\u001b[0m, \u001b[32m'LR:'\u001b[0m, \u001b[1m[\u001b[0m\u001b[1;36m0.01\u001b[0m\u001b[1m]\u001b[0m\n"
            ]
          },
          "metadata": {
            "tags": []
          }
        },
        {
          "output_type": "display_data",
          "data": {
            "text/html": [
              "<pre style=\"white-space:pre;overflow-x:auto;line-height:normal;font-family:Menlo,'DejaVu Sans Mono',consolas,'Courier New',monospace\">Train Losses: <span style=\"color: #008080; text-decoration-color: #008080; font-weight: bold\">0.7159202975385329</span>\n",
              "</pre>\n"
            ],
            "text/plain": [
              "Train Losses: \u001b[1;36m0.7159202975385329\u001b[0m\n"
            ]
          },
          "metadata": {
            "tags": []
          }
        },
        {
          "output_type": "display_data",
          "data": {
            "text/html": [
              "<pre style=\"white-space:pre;overflow-x:auto;line-height:normal;font-family:Menlo,'DejaVu Sans Mono',consolas,'Courier New',monospace\">Train Accuracy: <span style=\"color: #008080; text-decoration-color: #008080; font-weight: bold\">0.6102941176470589</span>\n",
              "</pre>\n"
            ],
            "text/plain": [
              "Train Accuracy: \u001b[1;36m0.6102941176470589\u001b[0m\n"
            ]
          },
          "metadata": {
            "tags": []
          }
        },
        {
          "output_type": "display_data",
          "data": {
            "text/html": [
              "<pre style=\"white-space:pre;overflow-x:auto;line-height:normal;font-family:Menlo,'DejaVu Sans Mono',consolas,'Courier New',monospace\">Val Losses: <span style=\"color: #008080; text-decoration-color: #008080; font-weight: bold\">0.457489550113678</span>\n",
              "</pre>\n"
            ],
            "text/plain": [
              "Val Losses: \u001b[1;36m0.457489550113678\u001b[0m\n"
            ]
          },
          "metadata": {
            "tags": []
          }
        },
        {
          "output_type": "display_data",
          "data": {
            "text/html": [
              "<pre style=\"white-space:pre;overflow-x:auto;line-height:normal;font-family:Menlo,'DejaVu Sans Mono',consolas,'Courier New',monospace\">Val Accuracy: <span style=\"color: #008080; text-decoration-color: #008080; font-weight: bold\">0.75</span>\n",
              "</pre>\n"
            ],
            "text/plain": [
              "Val Accuracy: \u001b[1;36m0.75\u001b[0m\n"
            ]
          },
          "metadata": {
            "tags": []
          }
        },
        {
          "output_type": "display_data",
          "data": {
            "text/html": [
              "<pre style=\"white-space:pre;overflow-x:auto;line-height:normal;font-family:Menlo,'DejaVu Sans Mono',consolas,'Courier New',monospace\">-------------------------------------------------------------\n",
              "</pre>\n"
            ],
            "text/plain": [
              "-------------------------------------------------------------\n"
            ]
          },
          "metadata": {
            "tags": []
          }
        },
        {
          "output_type": "display_data",
          "data": {
            "text/html": [
              "<pre style=\"white-space:pre;overflow-x:auto;line-height:normal;font-family:Menlo,'DejaVu Sans Mono',consolas,'Courier New',monospace\">Training Epoch: <span style=\"color: #008080; text-decoration-color: #008080; font-weight: bold\">4</span>, <span style=\"color: #008000; text-decoration-color: #008000\">'LR:'</span>, <span style=\"font-weight: bold\">[</span><span style=\"color: #008080; text-decoration-color: #008080; font-weight: bold\">0.01</span><span style=\"font-weight: bold\">]</span>\n",
              "</pre>\n"
            ],
            "text/plain": [
              "Training Epoch: \u001b[1;36m4\u001b[0m, \u001b[32m'LR:'\u001b[0m, \u001b[1m[\u001b[0m\u001b[1;36m0.01\u001b[0m\u001b[1m]\u001b[0m\n"
            ]
          },
          "metadata": {
            "tags": []
          }
        },
        {
          "output_type": "display_data",
          "data": {
            "text/html": [
              "<pre style=\"white-space:pre;overflow-x:auto;line-height:normal;font-family:Menlo,'DejaVu Sans Mono',consolas,'Courier New',monospace\">Train Losses: <span style=\"color: #008080; text-decoration-color: #008080; font-weight: bold\">0.7875234098995433</span>\n",
              "</pre>\n"
            ],
            "text/plain": [
              "Train Losses: \u001b[1;36m0.7875234098995433\u001b[0m\n"
            ]
          },
          "metadata": {
            "tags": []
          }
        },
        {
          "output_type": "display_data",
          "data": {
            "text/html": [
              "<pre style=\"white-space:pre;overflow-x:auto;line-height:normal;font-family:Menlo,'DejaVu Sans Mono',consolas,'Courier New',monospace\">Train Accuracy: <span style=\"color: #008080; text-decoration-color: #008080; font-weight: bold\">0.6176470588235294</span>\n",
              "</pre>\n"
            ],
            "text/plain": [
              "Train Accuracy: \u001b[1;36m0.6176470588235294\u001b[0m\n"
            ]
          },
          "metadata": {
            "tags": []
          }
        },
        {
          "output_type": "display_data",
          "data": {
            "text/html": [
              "<pre style=\"white-space:pre;overflow-x:auto;line-height:normal;font-family:Menlo,'DejaVu Sans Mono',consolas,'Courier New',monospace\">Val Losses: <span style=\"color: #008080; text-decoration-color: #008080; font-weight: bold\">0.5825324058532715</span>\n",
              "</pre>\n"
            ],
            "text/plain": [
              "Val Losses: \u001b[1;36m0.5825324058532715\u001b[0m\n"
            ]
          },
          "metadata": {
            "tags": []
          }
        },
        {
          "output_type": "display_data",
          "data": {
            "text/html": [
              "<pre style=\"white-space:pre;overflow-x:auto;line-height:normal;font-family:Menlo,'DejaVu Sans Mono',consolas,'Courier New',monospace\">Val Accuracy: <span style=\"color: #008080; text-decoration-color: #008080; font-weight: bold\">0.6785714285714286</span>\n",
              "</pre>\n"
            ],
            "text/plain": [
              "Val Accuracy: \u001b[1;36m0.6785714285714286\u001b[0m\n"
            ]
          },
          "metadata": {
            "tags": []
          }
        },
        {
          "output_type": "display_data",
          "data": {
            "text/html": [
              "<pre style=\"white-space:pre;overflow-x:auto;line-height:normal;font-family:Menlo,'DejaVu Sans Mono',consolas,'Courier New',monospace\">-------------------------------------------------------------\n",
              "</pre>\n"
            ],
            "text/plain": [
              "-------------------------------------------------------------\n"
            ]
          },
          "metadata": {
            "tags": []
          }
        },
        {
          "output_type": "display_data",
          "data": {
            "text/html": [
              "<pre style=\"white-space:pre;overflow-x:auto;line-height:normal;font-family:Menlo,'DejaVu Sans Mono',consolas,'Courier New',monospace\">Training Epoch: <span style=\"color: #008080; text-decoration-color: #008080; font-weight: bold\">5</span>, <span style=\"color: #008000; text-decoration-color: #008000\">'LR:'</span>, <span style=\"font-weight: bold\">[</span><span style=\"color: #008080; text-decoration-color: #008080; font-weight: bold\">0.01</span><span style=\"font-weight: bold\">]</span>\n",
              "</pre>\n"
            ],
            "text/plain": [
              "Training Epoch: \u001b[1;36m5\u001b[0m, \u001b[32m'LR:'\u001b[0m, \u001b[1m[\u001b[0m\u001b[1;36m0.01\u001b[0m\u001b[1m]\u001b[0m\n"
            ]
          },
          "metadata": {
            "tags": []
          }
        },
        {
          "output_type": "display_data",
          "data": {
            "text/html": [
              "<pre style=\"white-space:pre;overflow-x:auto;line-height:normal;font-family:Menlo,'DejaVu Sans Mono',consolas,'Courier New',monospace\">Train Losses: <span style=\"color: #008080; text-decoration-color: #008080; font-weight: bold\">0.6272714628892786</span>\n",
              "</pre>\n"
            ],
            "text/plain": [
              "Train Losses: \u001b[1;36m0.6272714628892786\u001b[0m\n"
            ]
          },
          "metadata": {
            "tags": []
          }
        },
        {
          "output_type": "display_data",
          "data": {
            "text/html": [
              "<pre style=\"white-space:pre;overflow-x:auto;line-height:normal;font-family:Menlo,'DejaVu Sans Mono',consolas,'Courier New',monospace\">Train Accuracy: <span style=\"color: #008080; text-decoration-color: #008080; font-weight: bold\">0.5367647058823529</span>\n",
              "</pre>\n"
            ],
            "text/plain": [
              "Train Accuracy: \u001b[1;36m0.5367647058823529\u001b[0m\n"
            ]
          },
          "metadata": {
            "tags": []
          }
        },
        {
          "output_type": "display_data",
          "data": {
            "text/html": [
              "<pre style=\"white-space:pre;overflow-x:auto;line-height:normal;font-family:Menlo,'DejaVu Sans Mono',consolas,'Courier New',monospace\">Val Losses: <span style=\"color: #008080; text-decoration-color: #008080; font-weight: bold\">0.4793739318847656</span>\n",
              "</pre>\n"
            ],
            "text/plain": [
              "Val Losses: \u001b[1;36m0.4793739318847656\u001b[0m\n"
            ]
          },
          "metadata": {
            "tags": []
          }
        },
        {
          "output_type": "display_data",
          "data": {
            "text/html": [
              "<pre style=\"white-space:pre;overflow-x:auto;line-height:normal;font-family:Menlo,'DejaVu Sans Mono',consolas,'Courier New',monospace\">Val Accuracy: <span style=\"color: #008080; text-decoration-color: #008080; font-weight: bold\">0.5714285714285714</span>\n",
              "</pre>\n"
            ],
            "text/plain": [
              "Val Accuracy: \u001b[1;36m0.5714285714285714\u001b[0m\n"
            ]
          },
          "metadata": {
            "tags": []
          }
        },
        {
          "output_type": "display_data",
          "data": {
            "text/html": [
              "<pre style=\"white-space:pre;overflow-x:auto;line-height:normal;font-family:Menlo,'DejaVu Sans Mono',consolas,'Courier New',monospace\">-------------------------------------------------------------\n",
              "</pre>\n"
            ],
            "text/plain": [
              "-------------------------------------------------------------\n"
            ]
          },
          "metadata": {
            "tags": []
          }
        },
        {
          "output_type": "display_data",
          "data": {
            "text/html": [
              "<pre style=\"white-space:pre;overflow-x:auto;line-height:normal;font-family:Menlo,'DejaVu Sans Mono',consolas,'Courier New',monospace\">Training Epoch: <span style=\"color: #008080; text-decoration-color: #008080; font-weight: bold\">6</span>, <span style=\"color: #008000; text-decoration-color: #008000\">'LR:'</span>, <span style=\"font-weight: bold\">[</span><span style=\"color: #008080; text-decoration-color: #008080; font-weight: bold\">0.01</span><span style=\"font-weight: bold\">]</span>\n",
              "</pre>\n"
            ],
            "text/plain": [
              "Training Epoch: \u001b[1;36m6\u001b[0m, \u001b[32m'LR:'\u001b[0m, \u001b[1m[\u001b[0m\u001b[1;36m0.01\u001b[0m\u001b[1m]\u001b[0m\n"
            ]
          },
          "metadata": {
            "tags": []
          }
        },
        {
          "output_type": "display_data",
          "data": {
            "text/html": [
              "<pre style=\"white-space:pre;overflow-x:auto;line-height:normal;font-family:Menlo,'DejaVu Sans Mono',consolas,'Courier New',monospace\">Train Losses: <span style=\"color: #008080; text-decoration-color: #008080; font-weight: bold\">0.7134014929042143</span>\n",
              "</pre>\n"
            ],
            "text/plain": [
              "Train Losses: \u001b[1;36m0.7134014929042143\u001b[0m\n"
            ]
          },
          "metadata": {
            "tags": []
          }
        },
        {
          "output_type": "display_data",
          "data": {
            "text/html": [
              "<pre style=\"white-space:pre;overflow-x:auto;line-height:normal;font-family:Menlo,'DejaVu Sans Mono',consolas,'Courier New',monospace\">Train Accuracy: <span style=\"color: #008080; text-decoration-color: #008080; font-weight: bold\">0.5441176470588235</span>\n",
              "</pre>\n"
            ],
            "text/plain": [
              "Train Accuracy: \u001b[1;36m0.5441176470588235\u001b[0m\n"
            ]
          },
          "metadata": {
            "tags": []
          }
        },
        {
          "output_type": "display_data",
          "data": {
            "text/html": [
              "<pre style=\"white-space:pre;overflow-x:auto;line-height:normal;font-family:Menlo,'DejaVu Sans Mono',consolas,'Courier New',monospace\">Val Losses: <span style=\"color: #008080; text-decoration-color: #008080; font-weight: bold\">0.5763593912124634</span>\n",
              "</pre>\n"
            ],
            "text/plain": [
              "Val Losses: \u001b[1;36m0.5763593912124634\u001b[0m\n"
            ]
          },
          "metadata": {
            "tags": []
          }
        },
        {
          "output_type": "display_data",
          "data": {
            "text/html": [
              "<pre style=\"white-space:pre;overflow-x:auto;line-height:normal;font-family:Menlo,'DejaVu Sans Mono',consolas,'Courier New',monospace\">Val Accuracy: <span style=\"color: #008080; text-decoration-color: #008080; font-weight: bold\">0.5357142857142857</span>\n",
              "</pre>\n"
            ],
            "text/plain": [
              "Val Accuracy: \u001b[1;36m0.5357142857142857\u001b[0m\n"
            ]
          },
          "metadata": {
            "tags": []
          }
        },
        {
          "output_type": "display_data",
          "data": {
            "text/html": [
              "<pre style=\"white-space:pre;overflow-x:auto;line-height:normal;font-family:Menlo,'DejaVu Sans Mono',consolas,'Courier New',monospace\">-------------------------------------------------------------\n",
              "</pre>\n"
            ],
            "text/plain": [
              "-------------------------------------------------------------\n"
            ]
          },
          "metadata": {
            "tags": []
          }
        },
        {
          "output_type": "display_data",
          "data": {
            "text/html": [
              "<pre style=\"white-space:pre;overflow-x:auto;line-height:normal;font-family:Menlo,'DejaVu Sans Mono',consolas,'Courier New',monospace\">Training Epoch: <span style=\"color: #008080; text-decoration-color: #008080; font-weight: bold\">7</span>, <span style=\"color: #008000; text-decoration-color: #008000\">'LR:'</span>, <span style=\"font-weight: bold\">[</span><span style=\"color: #008080; text-decoration-color: #008080; font-weight: bold\">0.01</span><span style=\"font-weight: bold\">]</span>\n",
              "</pre>\n"
            ],
            "text/plain": [
              "Training Epoch: \u001b[1;36m7\u001b[0m, \u001b[32m'LR:'\u001b[0m, \u001b[1m[\u001b[0m\u001b[1;36m0.01\u001b[0m\u001b[1m]\u001b[0m\n"
            ]
          },
          "metadata": {
            "tags": []
          }
        },
        {
          "output_type": "display_data",
          "data": {
            "text/html": [
              "<pre style=\"white-space:pre;overflow-x:auto;line-height:normal;font-family:Menlo,'DejaVu Sans Mono',consolas,'Courier New',monospace\">Train Losses: <span style=\"color: #008080; text-decoration-color: #008080; font-weight: bold\">0.676303926636191</span>\n",
              "</pre>\n"
            ],
            "text/plain": [
              "Train Losses: \u001b[1;36m0.676303926636191\u001b[0m\n"
            ]
          },
          "metadata": {
            "tags": []
          }
        },
        {
          "output_type": "display_data",
          "data": {
            "text/html": [
              "<pre style=\"white-space:pre;overflow-x:auto;line-height:normal;font-family:Menlo,'DejaVu Sans Mono',consolas,'Courier New',monospace\">Train Accuracy: <span style=\"color: #008080; text-decoration-color: #008080; font-weight: bold\">0.6470588235294118</span>\n",
              "</pre>\n"
            ],
            "text/plain": [
              "Train Accuracy: \u001b[1;36m0.6470588235294118\u001b[0m\n"
            ]
          },
          "metadata": {
            "tags": []
          }
        },
        {
          "output_type": "display_data",
          "data": {
            "text/html": [
              "<pre style=\"white-space:pre;overflow-x:auto;line-height:normal;font-family:Menlo,'DejaVu Sans Mono',consolas,'Courier New',monospace\">Val Losses: <span style=\"color: #008080; text-decoration-color: #008080; font-weight: bold\">0.43722233176231384</span>\n",
              "</pre>\n"
            ],
            "text/plain": [
              "Val Losses: \u001b[1;36m0.43722233176231384\u001b[0m\n"
            ]
          },
          "metadata": {
            "tags": []
          }
        },
        {
          "output_type": "display_data",
          "data": {
            "text/html": [
              "<pre style=\"white-space:pre;overflow-x:auto;line-height:normal;font-family:Menlo,'DejaVu Sans Mono',consolas,'Courier New',monospace\">Val Accuracy: <span style=\"color: #008080; text-decoration-color: #008080; font-weight: bold\">0.625</span>\n",
              "</pre>\n"
            ],
            "text/plain": [
              "Val Accuracy: \u001b[1;36m0.625\u001b[0m\n"
            ]
          },
          "metadata": {
            "tags": []
          }
        },
        {
          "output_type": "display_data",
          "data": {
            "text/html": [
              "<pre style=\"white-space:pre;overflow-x:auto;line-height:normal;font-family:Menlo,'DejaVu Sans Mono',consolas,'Courier New',monospace\">-------------------------------------------------------------\n",
              "</pre>\n"
            ],
            "text/plain": [
              "-------------------------------------------------------------\n"
            ]
          },
          "metadata": {
            "tags": []
          }
        },
        {
          "output_type": "display_data",
          "data": {
            "text/html": [
              "<pre style=\"white-space:pre;overflow-x:auto;line-height:normal;font-family:Menlo,'DejaVu Sans Mono',consolas,'Courier New',monospace\">Training Epoch: <span style=\"color: #008080; text-decoration-color: #008080; font-weight: bold\">8</span>, <span style=\"color: #008000; text-decoration-color: #008000\">'LR:'</span>, <span style=\"font-weight: bold\">[</span><span style=\"color: #008080; text-decoration-color: #008080; font-weight: bold\">0.01</span><span style=\"font-weight: bold\">]</span>\n",
              "</pre>\n"
            ],
            "text/plain": [
              "Training Epoch: \u001b[1;36m8\u001b[0m, \u001b[32m'LR:'\u001b[0m, \u001b[1m[\u001b[0m\u001b[1;36m0.01\u001b[0m\u001b[1m]\u001b[0m\n"
            ]
          },
          "metadata": {
            "tags": []
          }
        },
        {
          "output_type": "display_data",
          "data": {
            "text/html": [
              "<pre style=\"white-space:pre;overflow-x:auto;line-height:normal;font-family:Menlo,'DejaVu Sans Mono',consolas,'Courier New',monospace\">Train Losses: <span style=\"color: #008080; text-decoration-color: #008080; font-weight: bold\">0.62454094080364</span>\n",
              "</pre>\n"
            ],
            "text/plain": [
              "Train Losses: \u001b[1;36m0.62454094080364\u001b[0m\n"
            ]
          },
          "metadata": {
            "tags": []
          }
        },
        {
          "output_type": "display_data",
          "data": {
            "text/html": [
              "<pre style=\"white-space:pre;overflow-x:auto;line-height:normal;font-family:Menlo,'DejaVu Sans Mono',consolas,'Courier New',monospace\">Train Accuracy: <span style=\"color: #008080; text-decoration-color: #008080; font-weight: bold\">0.6029411764705882</span>\n",
              "</pre>\n"
            ],
            "text/plain": [
              "Train Accuracy: \u001b[1;36m0.6029411764705882\u001b[0m\n"
            ]
          },
          "metadata": {
            "tags": []
          }
        },
        {
          "output_type": "display_data",
          "data": {
            "text/html": [
              "<pre style=\"white-space:pre;overflow-x:auto;line-height:normal;font-family:Menlo,'DejaVu Sans Mono',consolas,'Courier New',monospace\">Val Losses: <span style=\"color: #008080; text-decoration-color: #008080; font-weight: bold\">0.45603352785110474</span>\n",
              "</pre>\n"
            ],
            "text/plain": [
              "Val Losses: \u001b[1;36m0.45603352785110474\u001b[0m\n"
            ]
          },
          "metadata": {
            "tags": []
          }
        },
        {
          "output_type": "display_data",
          "data": {
            "text/html": [
              "<pre style=\"white-space:pre;overflow-x:auto;line-height:normal;font-family:Menlo,'DejaVu Sans Mono',consolas,'Courier New',monospace\">Val Accuracy: <span style=\"color: #008080; text-decoration-color: #008080; font-weight: bold\">0.6607142857142857</span>\n",
              "</pre>\n"
            ],
            "text/plain": [
              "Val Accuracy: \u001b[1;36m0.6607142857142857\u001b[0m\n"
            ]
          },
          "metadata": {
            "tags": []
          }
        },
        {
          "output_type": "display_data",
          "data": {
            "text/html": [
              "<pre style=\"white-space:pre;overflow-x:auto;line-height:normal;font-family:Menlo,'DejaVu Sans Mono',consolas,'Courier New',monospace\">-------------------------------------------------------------\n",
              "</pre>\n"
            ],
            "text/plain": [
              "-------------------------------------------------------------\n"
            ]
          },
          "metadata": {
            "tags": []
          }
        },
        {
          "output_type": "display_data",
          "data": {
            "text/html": [
              "<pre style=\"white-space:pre;overflow-x:auto;line-height:normal;font-family:Menlo,'DejaVu Sans Mono',consolas,'Courier New',monospace\">Training Epoch: <span style=\"color: #008080; text-decoration-color: #008080; font-weight: bold\">9</span>, <span style=\"color: #008000; text-decoration-color: #008000\">'LR:'</span>, <span style=\"font-weight: bold\">[</span><span style=\"color: #008080; text-decoration-color: #008080; font-weight: bold\">0.01</span><span style=\"font-weight: bold\">]</span>\n",
              "</pre>\n"
            ],
            "text/plain": [
              "Training Epoch: \u001b[1;36m9\u001b[0m, \u001b[32m'LR:'\u001b[0m, \u001b[1m[\u001b[0m\u001b[1;36m0.01\u001b[0m\u001b[1m]\u001b[0m\n"
            ]
          },
          "metadata": {
            "tags": []
          }
        },
        {
          "output_type": "display_data",
          "data": {
            "text/html": [
              "<pre style=\"white-space:pre;overflow-x:auto;line-height:normal;font-family:Menlo,'DejaVu Sans Mono',consolas,'Courier New',monospace\">Train Losses: <span style=\"color: #008080; text-decoration-color: #008080; font-weight: bold\">0.66087507500368</span>\n",
              "</pre>\n"
            ],
            "text/plain": [
              "Train Losses: \u001b[1;36m0.66087507500368\u001b[0m\n"
            ]
          },
          "metadata": {
            "tags": []
          }
        },
        {
          "output_type": "display_data",
          "data": {
            "text/html": [
              "<pre style=\"white-space:pre;overflow-x:auto;line-height:normal;font-family:Menlo,'DejaVu Sans Mono',consolas,'Courier New',monospace\">Train Accuracy: <span style=\"color: #008080; text-decoration-color: #008080; font-weight: bold\">0.6838235294117647</span>\n",
              "</pre>\n"
            ],
            "text/plain": [
              "Train Accuracy: \u001b[1;36m0.6838235294117647\u001b[0m\n"
            ]
          },
          "metadata": {
            "tags": []
          }
        },
        {
          "output_type": "display_data",
          "data": {
            "text/html": [
              "<pre style=\"white-space:pre;overflow-x:auto;line-height:normal;font-family:Menlo,'DejaVu Sans Mono',consolas,'Courier New',monospace\">Val Losses: <span style=\"color: #008080; text-decoration-color: #008080; font-weight: bold\">0.44955313205718994</span>\n",
              "</pre>\n"
            ],
            "text/plain": [
              "Val Losses: \u001b[1;36m0.44955313205718994\u001b[0m\n"
            ]
          },
          "metadata": {
            "tags": []
          }
        },
        {
          "output_type": "display_data",
          "data": {
            "text/html": [
              "<pre style=\"white-space:pre;overflow-x:auto;line-height:normal;font-family:Menlo,'DejaVu Sans Mono',consolas,'Courier New',monospace\">Val Accuracy: <span style=\"color: #008080; text-decoration-color: #008080; font-weight: bold\">0.7142857142857143</span>\n",
              "</pre>\n"
            ],
            "text/plain": [
              "Val Accuracy: \u001b[1;36m0.7142857142857143\u001b[0m\n"
            ]
          },
          "metadata": {
            "tags": []
          }
        },
        {
          "output_type": "display_data",
          "data": {
            "text/html": [
              "<pre style=\"white-space:pre;overflow-x:auto;line-height:normal;font-family:Menlo,'DejaVu Sans Mono',consolas,'Courier New',monospace\">-------------------------------------------------------------\n",
              "</pre>\n"
            ],
            "text/plain": [
              "-------------------------------------------------------------\n"
            ]
          },
          "metadata": {
            "tags": []
          }
        },
        {
          "output_type": "display_data",
          "data": {
            "text/html": [
              "<pre style=\"white-space:pre;overflow-x:auto;line-height:normal;font-family:Menlo,'DejaVu Sans Mono',consolas,'Courier New',monospace\">Training Epoch: <span style=\"color: #008080; text-decoration-color: #008080; font-weight: bold\">10</span>, <span style=\"color: #008000; text-decoration-color: #008000\">'LR:'</span>, <span style=\"font-weight: bold\">[</span><span style=\"color: #008080; text-decoration-color: #008080; font-weight: bold\">0.001</span><span style=\"font-weight: bold\">]</span>\n",
              "</pre>\n"
            ],
            "text/plain": [
              "Training Epoch: \u001b[1;36m10\u001b[0m, \u001b[32m'LR:'\u001b[0m, \u001b[1m[\u001b[0m\u001b[1;36m0.001\u001b[0m\u001b[1m]\u001b[0m\n"
            ]
          },
          "metadata": {
            "tags": []
          }
        },
        {
          "output_type": "display_data",
          "data": {
            "text/html": [
              "<pre style=\"white-space:pre;overflow-x:auto;line-height:normal;font-family:Menlo,'DejaVu Sans Mono',consolas,'Courier New',monospace\">Train Losses: <span style=\"color: #008080; text-decoration-color: #008080; font-weight: bold\">0.5116917745155447</span>\n",
              "</pre>\n"
            ],
            "text/plain": [
              "Train Losses: \u001b[1;36m0.5116917745155447\u001b[0m\n"
            ]
          },
          "metadata": {
            "tags": []
          }
        },
        {
          "output_type": "display_data",
          "data": {
            "text/html": [
              "<pre style=\"white-space:pre;overflow-x:auto;line-height:normal;font-family:Menlo,'DejaVu Sans Mono',consolas,'Courier New',monospace\">Train Accuracy: <span style=\"color: #008080; text-decoration-color: #008080; font-weight: bold\">0.7352941176470589</span>\n",
              "</pre>\n"
            ],
            "text/plain": [
              "Train Accuracy: \u001b[1;36m0.7352941176470589\u001b[0m\n"
            ]
          },
          "metadata": {
            "tags": []
          }
        },
        {
          "output_type": "display_data",
          "data": {
            "text/html": [
              "<pre style=\"white-space:pre;overflow-x:auto;line-height:normal;font-family:Menlo,'DejaVu Sans Mono',consolas,'Courier New',monospace\">Val Losses: <span style=\"color: #008080; text-decoration-color: #008080; font-weight: bold\">0.35099953413009644</span>\n",
              "</pre>\n"
            ],
            "text/plain": [
              "Val Losses: \u001b[1;36m0.35099953413009644\u001b[0m\n"
            ]
          },
          "metadata": {
            "tags": []
          }
        },
        {
          "output_type": "display_data",
          "data": {
            "text/html": [
              "<pre style=\"white-space:pre;overflow-x:auto;line-height:normal;font-family:Menlo,'DejaVu Sans Mono',consolas,'Courier New',monospace\">Val Accuracy: <span style=\"color: #008080; text-decoration-color: #008080; font-weight: bold\">0.75</span>\n",
              "</pre>\n"
            ],
            "text/plain": [
              "Val Accuracy: \u001b[1;36m0.75\u001b[0m\n"
            ]
          },
          "metadata": {
            "tags": []
          }
        },
        {
          "output_type": "display_data",
          "data": {
            "text/html": [
              "<pre style=\"white-space:pre;overflow-x:auto;line-height:normal;font-family:Menlo,'DejaVu Sans Mono',consolas,'Courier New',monospace\">-------------------------------------------------------------\n",
              "</pre>\n"
            ],
            "text/plain": [
              "-------------------------------------------------------------\n"
            ]
          },
          "metadata": {
            "tags": []
          }
        },
        {
          "output_type": "display_data",
          "data": {
            "text/html": [
              "<pre style=\"white-space:pre;overflow-x:auto;line-height:normal;font-family:Menlo,'DejaVu Sans Mono',consolas,'Courier New',monospace\">Training Epoch: <span style=\"color: #008080; text-decoration-color: #008080; font-weight: bold\">11</span>, <span style=\"color: #008000; text-decoration-color: #008000\">'LR:'</span>, <span style=\"font-weight: bold\">[</span><span style=\"color: #008080; text-decoration-color: #008080; font-weight: bold\">0.001</span><span style=\"font-weight: bold\">]</span>\n",
              "</pre>\n"
            ],
            "text/plain": [
              "Training Epoch: \u001b[1;36m11\u001b[0m, \u001b[32m'LR:'\u001b[0m, \u001b[1m[\u001b[0m\u001b[1;36m0.001\u001b[0m\u001b[1m]\u001b[0m\n"
            ]
          },
          "metadata": {
            "tags": []
          }
        },
        {
          "output_type": "display_data",
          "data": {
            "text/html": [
              "<pre style=\"white-space:pre;overflow-x:auto;line-height:normal;font-family:Menlo,'DejaVu Sans Mono',consolas,'Courier New',monospace\">Train Losses: <span style=\"color: #008080; text-decoration-color: #008080; font-weight: bold\">0.478577683077139</span>\n",
              "</pre>\n"
            ],
            "text/plain": [
              "Train Losses: \u001b[1;36m0.478577683077139\u001b[0m\n"
            ]
          },
          "metadata": {
            "tags": []
          }
        },
        {
          "output_type": "display_data",
          "data": {
            "text/html": [
              "<pre style=\"white-space:pre;overflow-x:auto;line-height:normal;font-family:Menlo,'DejaVu Sans Mono',consolas,'Courier New',monospace\">Train Accuracy: <span style=\"color: #008080; text-decoration-color: #008080; font-weight: bold\">0.7647058823529411</span>\n",
              "</pre>\n"
            ],
            "text/plain": [
              "Train Accuracy: \u001b[1;36m0.7647058823529411\u001b[0m\n"
            ]
          },
          "metadata": {
            "tags": []
          }
        },
        {
          "output_type": "display_data",
          "data": {
            "text/html": [
              "<pre style=\"white-space:pre;overflow-x:auto;line-height:normal;font-family:Menlo,'DejaVu Sans Mono',consolas,'Courier New',monospace\">Val Losses: <span style=\"color: #008080; text-decoration-color: #008080; font-weight: bold\">0.33356550335884094</span>\n",
              "</pre>\n"
            ],
            "text/plain": [
              "Val Losses: \u001b[1;36m0.33356550335884094\u001b[0m\n"
            ]
          },
          "metadata": {
            "tags": []
          }
        },
        {
          "output_type": "display_data",
          "data": {
            "text/html": [
              "<pre style=\"white-space:pre;overflow-x:auto;line-height:normal;font-family:Menlo,'DejaVu Sans Mono',consolas,'Courier New',monospace\">Val Accuracy: <span style=\"color: #008080; text-decoration-color: #008080; font-weight: bold\">0.7678571428571429</span>\n",
              "</pre>\n"
            ],
            "text/plain": [
              "Val Accuracy: \u001b[1;36m0.7678571428571429\u001b[0m\n"
            ]
          },
          "metadata": {
            "tags": []
          }
        },
        {
          "output_type": "display_data",
          "data": {
            "text/html": [
              "<pre style=\"white-space:pre;overflow-x:auto;line-height:normal;font-family:Menlo,'DejaVu Sans Mono',consolas,'Courier New',monospace\">-------------------------------------------------------------\n",
              "</pre>\n"
            ],
            "text/plain": [
              "-------------------------------------------------------------\n"
            ]
          },
          "metadata": {
            "tags": []
          }
        },
        {
          "output_type": "display_data",
          "data": {
            "text/html": [
              "<pre style=\"white-space:pre;overflow-x:auto;line-height:normal;font-family:Menlo,'DejaVu Sans Mono',consolas,'Courier New',monospace\">Training Epoch: <span style=\"color: #008080; text-decoration-color: #008080; font-weight: bold\">12</span>, <span style=\"color: #008000; text-decoration-color: #008000\">'LR:'</span>, <span style=\"font-weight: bold\">[</span><span style=\"color: #008080; text-decoration-color: #008080; font-weight: bold\">0.001</span><span style=\"font-weight: bold\">]</span>\n",
              "</pre>\n"
            ],
            "text/plain": [
              "Training Epoch: \u001b[1;36m12\u001b[0m, \u001b[32m'LR:'\u001b[0m, \u001b[1m[\u001b[0m\u001b[1;36m0.001\u001b[0m\u001b[1m]\u001b[0m\n"
            ]
          },
          "metadata": {
            "tags": []
          }
        },
        {
          "output_type": "display_data",
          "data": {
            "text/html": [
              "<pre style=\"white-space:pre;overflow-x:auto;line-height:normal;font-family:Menlo,'DejaVu Sans Mono',consolas,'Courier New',monospace\">Train Losses: <span style=\"color: #008080; text-decoration-color: #008080; font-weight: bold\">0.4404638085295172</span>\n",
              "</pre>\n"
            ],
            "text/plain": [
              "Train Losses: \u001b[1;36m0.4404638085295172\u001b[0m\n"
            ]
          },
          "metadata": {
            "tags": []
          }
        },
        {
          "output_type": "display_data",
          "data": {
            "text/html": [
              "<pre style=\"white-space:pre;overflow-x:auto;line-height:normal;font-family:Menlo,'DejaVu Sans Mono',consolas,'Courier New',monospace\">Train Accuracy: <span style=\"color: #008080; text-decoration-color: #008080; font-weight: bold\">0.7941176470588235</span>\n",
              "</pre>\n"
            ],
            "text/plain": [
              "Train Accuracy: \u001b[1;36m0.7941176470588235\u001b[0m\n"
            ]
          },
          "metadata": {
            "tags": []
          }
        },
        {
          "output_type": "display_data",
          "data": {
            "text/html": [
              "<pre style=\"white-space:pre;overflow-x:auto;line-height:normal;font-family:Menlo,'DejaVu Sans Mono',consolas,'Courier New',monospace\">Val Losses: <span style=\"color: #008080; text-decoration-color: #008080; font-weight: bold\">0.3497154414653778</span>\n",
              "</pre>\n"
            ],
            "text/plain": [
              "Val Losses: \u001b[1;36m0.3497154414653778\u001b[0m\n"
            ]
          },
          "metadata": {
            "tags": []
          }
        },
        {
          "output_type": "display_data",
          "data": {
            "text/html": [
              "<pre style=\"white-space:pre;overflow-x:auto;line-height:normal;font-family:Menlo,'DejaVu Sans Mono',consolas,'Courier New',monospace\">Val Accuracy: <span style=\"color: #008080; text-decoration-color: #008080; font-weight: bold\">0.7678571428571429</span>\n",
              "</pre>\n"
            ],
            "text/plain": [
              "Val Accuracy: \u001b[1;36m0.7678571428571429\u001b[0m\n"
            ]
          },
          "metadata": {
            "tags": []
          }
        },
        {
          "output_type": "display_data",
          "data": {
            "text/html": [
              "<pre style=\"white-space:pre;overflow-x:auto;line-height:normal;font-family:Menlo,'DejaVu Sans Mono',consolas,'Courier New',monospace\">-------------------------------------------------------------\n",
              "</pre>\n"
            ],
            "text/plain": [
              "-------------------------------------------------------------\n"
            ]
          },
          "metadata": {
            "tags": []
          }
        },
        {
          "output_type": "display_data",
          "data": {
            "text/html": [
              "<pre style=\"white-space:pre;overflow-x:auto;line-height:normal;font-family:Menlo,'DejaVu Sans Mono',consolas,'Courier New',monospace\">Training Epoch: <span style=\"color: #008080; text-decoration-color: #008080; font-weight: bold\">13</span>, <span style=\"color: #008000; text-decoration-color: #008000\">'LR:'</span>, <span style=\"font-weight: bold\">[</span><span style=\"color: #008080; text-decoration-color: #008080; font-weight: bold\">0.001</span><span style=\"font-weight: bold\">]</span>\n",
              "</pre>\n"
            ],
            "text/plain": [
              "Training Epoch: \u001b[1;36m13\u001b[0m, \u001b[32m'LR:'\u001b[0m, \u001b[1m[\u001b[0m\u001b[1;36m0.001\u001b[0m\u001b[1m]\u001b[0m\n"
            ]
          },
          "metadata": {
            "tags": []
          }
        },
        {
          "output_type": "display_data",
          "data": {
            "text/html": [
              "<pre style=\"white-space:pre;overflow-x:auto;line-height:normal;font-family:Menlo,'DejaVu Sans Mono',consolas,'Courier New',monospace\">Train Losses: <span style=\"color: #008080; text-decoration-color: #008080; font-weight: bold\">0.4113811035366619</span>\n",
              "</pre>\n"
            ],
            "text/plain": [
              "Train Losses: \u001b[1;36m0.4113811035366619\u001b[0m\n"
            ]
          },
          "metadata": {
            "tags": []
          }
        },
        {
          "output_type": "display_data",
          "data": {
            "text/html": [
              "<pre style=\"white-space:pre;overflow-x:auto;line-height:normal;font-family:Menlo,'DejaVu Sans Mono',consolas,'Courier New',monospace\">Train Accuracy: <span style=\"color: #008080; text-decoration-color: #008080; font-weight: bold\">0.7426470588235294</span>\n",
              "</pre>\n"
            ],
            "text/plain": [
              "Train Accuracy: \u001b[1;36m0.7426470588235294\u001b[0m\n"
            ]
          },
          "metadata": {
            "tags": []
          }
        },
        {
          "output_type": "display_data",
          "data": {
            "text/html": [
              "<pre style=\"white-space:pre;overflow-x:auto;line-height:normal;font-family:Menlo,'DejaVu Sans Mono',consolas,'Courier New',monospace\">Val Losses: <span style=\"color: #008080; text-decoration-color: #008080; font-weight: bold\">0.32467228174209595</span>\n",
              "</pre>\n"
            ],
            "text/plain": [
              "Val Losses: \u001b[1;36m0.32467228174209595\u001b[0m\n"
            ]
          },
          "metadata": {
            "tags": []
          }
        },
        {
          "output_type": "display_data",
          "data": {
            "text/html": [
              "<pre style=\"white-space:pre;overflow-x:auto;line-height:normal;font-family:Menlo,'DejaVu Sans Mono',consolas,'Courier New',monospace\">Val Accuracy: <span style=\"color: #008080; text-decoration-color: #008080; font-weight: bold\">0.7678571428571429</span>\n",
              "</pre>\n"
            ],
            "text/plain": [
              "Val Accuracy: \u001b[1;36m0.7678571428571429\u001b[0m\n"
            ]
          },
          "metadata": {
            "tags": []
          }
        },
        {
          "output_type": "display_data",
          "data": {
            "text/html": [
              "<pre style=\"white-space:pre;overflow-x:auto;line-height:normal;font-family:Menlo,'DejaVu Sans Mono',consolas,'Courier New',monospace\">-------------------------------------------------------------\n",
              "</pre>\n"
            ],
            "text/plain": [
              "-------------------------------------------------------------\n"
            ]
          },
          "metadata": {
            "tags": []
          }
        },
        {
          "output_type": "display_data",
          "data": {
            "text/html": [
              "<pre style=\"white-space:pre;overflow-x:auto;line-height:normal;font-family:Menlo,'DejaVu Sans Mono',consolas,'Courier New',monospace\">Training Epoch: <span style=\"color: #008080; text-decoration-color: #008080; font-weight: bold\">14</span>, <span style=\"color: #008000; text-decoration-color: #008000\">'LR:'</span>, <span style=\"font-weight: bold\">[</span><span style=\"color: #008080; text-decoration-color: #008080; font-weight: bold\">0.001</span><span style=\"font-weight: bold\">]</span>\n",
              "</pre>\n"
            ],
            "text/plain": [
              "Training Epoch: \u001b[1;36m14\u001b[0m, \u001b[32m'LR:'\u001b[0m, \u001b[1m[\u001b[0m\u001b[1;36m0.001\u001b[0m\u001b[1m]\u001b[0m\n"
            ]
          },
          "metadata": {
            "tags": []
          }
        },
        {
          "output_type": "display_data",
          "data": {
            "text/html": [
              "<pre style=\"white-space:pre;overflow-x:auto;line-height:normal;font-family:Menlo,'DejaVu Sans Mono',consolas,'Courier New',monospace\">Train Losses: <span style=\"color: #008080; text-decoration-color: #008080; font-weight: bold\">0.47516797921236825</span>\n",
              "</pre>\n"
            ],
            "text/plain": [
              "Train Losses: \u001b[1;36m0.47516797921236825\u001b[0m\n"
            ]
          },
          "metadata": {
            "tags": []
          }
        },
        {
          "output_type": "display_data",
          "data": {
            "text/html": [
              "<pre style=\"white-space:pre;overflow-x:auto;line-height:normal;font-family:Menlo,'DejaVu Sans Mono',consolas,'Courier New',monospace\">Train Accuracy: <span style=\"color: #008080; text-decoration-color: #008080; font-weight: bold\">0.8308823529411765</span>\n",
              "</pre>\n"
            ],
            "text/plain": [
              "Train Accuracy: \u001b[1;36m0.8308823529411765\u001b[0m\n"
            ]
          },
          "metadata": {
            "tags": []
          }
        },
        {
          "output_type": "display_data",
          "data": {
            "text/html": [
              "<pre style=\"white-space:pre;overflow-x:auto;line-height:normal;font-family:Menlo,'DejaVu Sans Mono',consolas,'Courier New',monospace\">Val Losses: <span style=\"color: #008080; text-decoration-color: #008080; font-weight: bold\">0.29639315605163574</span>\n",
              "</pre>\n"
            ],
            "text/plain": [
              "Val Losses: \u001b[1;36m0.29639315605163574\u001b[0m\n"
            ]
          },
          "metadata": {
            "tags": []
          }
        },
        {
          "output_type": "display_data",
          "data": {
            "text/html": [
              "<pre style=\"white-space:pre;overflow-x:auto;line-height:normal;font-family:Menlo,'DejaVu Sans Mono',consolas,'Courier New',monospace\">Val Accuracy: <span style=\"color: #008080; text-decoration-color: #008080; font-weight: bold\">0.8035714285714286</span>\n",
              "</pre>\n"
            ],
            "text/plain": [
              "Val Accuracy: \u001b[1;36m0.8035714285714286\u001b[0m\n"
            ]
          },
          "metadata": {
            "tags": []
          }
        },
        {
          "output_type": "display_data",
          "data": {
            "text/html": [
              "<pre style=\"white-space:pre;overflow-x:auto;line-height:normal;font-family:Menlo,'DejaVu Sans Mono',consolas,'Courier New',monospace\">-------------------------------------------------------------\n",
              "</pre>\n"
            ],
            "text/plain": [
              "-------------------------------------------------------------\n"
            ]
          },
          "metadata": {
            "tags": []
          }
        },
        {
          "output_type": "display_data",
          "data": {
            "text/html": [
              "<pre style=\"white-space:pre;overflow-x:auto;line-height:normal;font-family:Menlo,'DejaVu Sans Mono',consolas,'Courier New',monospace\">Training Epoch: <span style=\"color: #008080; text-decoration-color: #008080; font-weight: bold\">15</span>, <span style=\"color: #008000; text-decoration-color: #008000\">'LR:'</span>, <span style=\"font-weight: bold\">[</span><span style=\"color: #008080; text-decoration-color: #008080; font-weight: bold\">0.001</span><span style=\"font-weight: bold\">]</span>\n",
              "</pre>\n"
            ],
            "text/plain": [
              "Training Epoch: \u001b[1;36m15\u001b[0m, \u001b[32m'LR:'\u001b[0m, \u001b[1m[\u001b[0m\u001b[1;36m0.001\u001b[0m\u001b[1m]\u001b[0m\n"
            ]
          },
          "metadata": {
            "tags": []
          }
        },
        {
          "output_type": "display_data",
          "data": {
            "text/html": [
              "<pre style=\"white-space:pre;overflow-x:auto;line-height:normal;font-family:Menlo,'DejaVu Sans Mono',consolas,'Courier New',monospace\">Train Losses: <span style=\"color: #008080; text-decoration-color: #008080; font-weight: bold\">0.4289655185797635</span>\n",
              "</pre>\n"
            ],
            "text/plain": [
              "Train Losses: \u001b[1;36m0.4289655185797635\u001b[0m\n"
            ]
          },
          "metadata": {
            "tags": []
          }
        },
        {
          "output_type": "display_data",
          "data": {
            "text/html": [
              "<pre style=\"white-space:pre;overflow-x:auto;line-height:normal;font-family:Menlo,'DejaVu Sans Mono',consolas,'Courier New',monospace\">Train Accuracy: <span style=\"color: #008080; text-decoration-color: #008080; font-weight: bold\">0.8308823529411765</span>\n",
              "</pre>\n"
            ],
            "text/plain": [
              "Train Accuracy: \u001b[1;36m0.8308823529411765\u001b[0m\n"
            ]
          },
          "metadata": {
            "tags": []
          }
        },
        {
          "output_type": "display_data",
          "data": {
            "text/html": [
              "<pre style=\"white-space:pre;overflow-x:auto;line-height:normal;font-family:Menlo,'DejaVu Sans Mono',consolas,'Courier New',monospace\">Val Losses: <span style=\"color: #008080; text-decoration-color: #008080; font-weight: bold\">0.28528356552124023</span>\n",
              "</pre>\n"
            ],
            "text/plain": [
              "Val Losses: \u001b[1;36m0.28528356552124023\u001b[0m\n"
            ]
          },
          "metadata": {
            "tags": []
          }
        },
        {
          "output_type": "display_data",
          "data": {
            "text/html": [
              "<pre style=\"white-space:pre;overflow-x:auto;line-height:normal;font-family:Menlo,'DejaVu Sans Mono',consolas,'Courier New',monospace\">Val Accuracy: <span style=\"color: #008080; text-decoration-color: #008080; font-weight: bold\">0.8035714285714286</span>\n",
              "</pre>\n"
            ],
            "text/plain": [
              "Val Accuracy: \u001b[1;36m0.8035714285714286\u001b[0m\n"
            ]
          },
          "metadata": {
            "tags": []
          }
        },
        {
          "output_type": "display_data",
          "data": {
            "text/html": [
              "<pre style=\"white-space:pre;overflow-x:auto;line-height:normal;font-family:Menlo,'DejaVu Sans Mono',consolas,'Courier New',monospace\">-------------------------------------------------------------\n",
              "</pre>\n"
            ],
            "text/plain": [
              "-------------------------------------------------------------\n"
            ]
          },
          "metadata": {
            "tags": []
          }
        },
        {
          "output_type": "display_data",
          "data": {
            "text/html": [
              "<pre style=\"white-space:pre;overflow-x:auto;line-height:normal;font-family:Menlo,'DejaVu Sans Mono',consolas,'Courier New',monospace\">Training Epoch: <span style=\"color: #008080; text-decoration-color: #008080; font-weight: bold\">16</span>, <span style=\"color: #008000; text-decoration-color: #008000\">'LR:'</span>, <span style=\"font-weight: bold\">[</span><span style=\"color: #008080; text-decoration-color: #008080; font-weight: bold\">0.001</span><span style=\"font-weight: bold\">]</span>\n",
              "</pre>\n"
            ],
            "text/plain": [
              "Training Epoch: \u001b[1;36m16\u001b[0m, \u001b[32m'LR:'\u001b[0m, \u001b[1m[\u001b[0m\u001b[1;36m0.001\u001b[0m\u001b[1m]\u001b[0m\n"
            ]
          },
          "metadata": {
            "tags": []
          }
        },
        {
          "output_type": "display_data",
          "data": {
            "text/html": [
              "<pre style=\"white-space:pre;overflow-x:auto;line-height:normal;font-family:Menlo,'DejaVu Sans Mono',consolas,'Courier New',monospace\">Train Losses: <span style=\"color: #008080; text-decoration-color: #008080; font-weight: bold\">0.3705332892782548</span>\n",
              "</pre>\n"
            ],
            "text/plain": [
              "Train Losses: \u001b[1;36m0.3705332892782548\u001b[0m\n"
            ]
          },
          "metadata": {
            "tags": []
          }
        },
        {
          "output_type": "display_data",
          "data": {
            "text/html": [
              "<pre style=\"white-space:pre;overflow-x:auto;line-height:normal;font-family:Menlo,'DejaVu Sans Mono',consolas,'Courier New',monospace\">Train Accuracy: <span style=\"color: #008080; text-decoration-color: #008080; font-weight: bold\">0.8823529411764706</span>\n",
              "</pre>\n"
            ],
            "text/plain": [
              "Train Accuracy: \u001b[1;36m0.8823529411764706\u001b[0m\n"
            ]
          },
          "metadata": {
            "tags": []
          }
        },
        {
          "output_type": "display_data",
          "data": {
            "text/html": [
              "<pre style=\"white-space:pre;overflow-x:auto;line-height:normal;font-family:Menlo,'DejaVu Sans Mono',consolas,'Courier New',monospace\">Val Losses: <span style=\"color: #008080; text-decoration-color: #008080; font-weight: bold\">0.29695236682891846</span>\n",
              "</pre>\n"
            ],
            "text/plain": [
              "Val Losses: \u001b[1;36m0.29695236682891846\u001b[0m\n"
            ]
          },
          "metadata": {
            "tags": []
          }
        },
        {
          "output_type": "display_data",
          "data": {
            "text/html": [
              "<pre style=\"white-space:pre;overflow-x:auto;line-height:normal;font-family:Menlo,'DejaVu Sans Mono',consolas,'Courier New',monospace\">Val Accuracy: <span style=\"color: #008080; text-decoration-color: #008080; font-weight: bold\">0.8035714285714286</span>\n",
              "</pre>\n"
            ],
            "text/plain": [
              "Val Accuracy: \u001b[1;36m0.8035714285714286\u001b[0m\n"
            ]
          },
          "metadata": {
            "tags": []
          }
        },
        {
          "output_type": "display_data",
          "data": {
            "text/html": [
              "<pre style=\"white-space:pre;overflow-x:auto;line-height:normal;font-family:Menlo,'DejaVu Sans Mono',consolas,'Courier New',monospace\">-------------------------------------------------------------\n",
              "</pre>\n"
            ],
            "text/plain": [
              "-------------------------------------------------------------\n"
            ]
          },
          "metadata": {
            "tags": []
          }
        },
        {
          "output_type": "display_data",
          "data": {
            "text/html": [
              "<pre style=\"white-space:pre;overflow-x:auto;line-height:normal;font-family:Menlo,'DejaVu Sans Mono',consolas,'Courier New',monospace\">Training Epoch: <span style=\"color: #008080; text-decoration-color: #008080; font-weight: bold\">17</span>, <span style=\"color: #008000; text-decoration-color: #008000\">'LR:'</span>, <span style=\"font-weight: bold\">[</span><span style=\"color: #008080; text-decoration-color: #008080; font-weight: bold\">0.001</span><span style=\"font-weight: bold\">]</span>\n",
              "</pre>\n"
            ],
            "text/plain": [
              "Training Epoch: \u001b[1;36m17\u001b[0m, \u001b[32m'LR:'\u001b[0m, \u001b[1m[\u001b[0m\u001b[1;36m0.001\u001b[0m\u001b[1m]\u001b[0m\n"
            ]
          },
          "metadata": {
            "tags": []
          }
        },
        {
          "output_type": "display_data",
          "data": {
            "text/html": [
              "<pre style=\"white-space:pre;overflow-x:auto;line-height:normal;font-family:Menlo,'DejaVu Sans Mono',consolas,'Courier New',monospace\">Train Losses: <span style=\"color: #008080; text-decoration-color: #008080; font-weight: bold\">0.36719931705909614</span>\n",
              "</pre>\n"
            ],
            "text/plain": [
              "Train Losses: \u001b[1;36m0.36719931705909614\u001b[0m\n"
            ]
          },
          "metadata": {
            "tags": []
          }
        },
        {
          "output_type": "display_data",
          "data": {
            "text/html": [
              "<pre style=\"white-space:pre;overflow-x:auto;line-height:normal;font-family:Menlo,'DejaVu Sans Mono',consolas,'Courier New',monospace\">Train Accuracy: <span style=\"color: #008080; text-decoration-color: #008080; font-weight: bold\">0.8014705882352942</span>\n",
              "</pre>\n"
            ],
            "text/plain": [
              "Train Accuracy: \u001b[1;36m0.8014705882352942\u001b[0m\n"
            ]
          },
          "metadata": {
            "tags": []
          }
        },
        {
          "output_type": "display_data",
          "data": {
            "text/html": [
              "<pre style=\"white-space:pre;overflow-x:auto;line-height:normal;font-family:Menlo,'DejaVu Sans Mono',consolas,'Courier New',monospace\">Val Losses: <span style=\"color: #008080; text-decoration-color: #008080; font-weight: bold\">0.3400224447250366</span>\n",
              "</pre>\n"
            ],
            "text/plain": [
              "Val Losses: \u001b[1;36m0.3400224447250366\u001b[0m\n"
            ]
          },
          "metadata": {
            "tags": []
          }
        },
        {
          "output_type": "display_data",
          "data": {
            "text/html": [
              "<pre style=\"white-space:pre;overflow-x:auto;line-height:normal;font-family:Menlo,'DejaVu Sans Mono',consolas,'Courier New',monospace\">Val Accuracy: <span style=\"color: #008080; text-decoration-color: #008080; font-weight: bold\">0.7857142857142857</span>\n",
              "</pre>\n"
            ],
            "text/plain": [
              "Val Accuracy: \u001b[1;36m0.7857142857142857\u001b[0m\n"
            ]
          },
          "metadata": {
            "tags": []
          }
        },
        {
          "output_type": "display_data",
          "data": {
            "text/html": [
              "<pre style=\"white-space:pre;overflow-x:auto;line-height:normal;font-family:Menlo,'DejaVu Sans Mono',consolas,'Courier New',monospace\">-------------------------------------------------------------\n",
              "</pre>\n"
            ],
            "text/plain": [
              "-------------------------------------------------------------\n"
            ]
          },
          "metadata": {
            "tags": []
          }
        },
        {
          "output_type": "display_data",
          "data": {
            "text/html": [
              "<pre style=\"white-space:pre;overflow-x:auto;line-height:normal;font-family:Menlo,'DejaVu Sans Mono',consolas,'Courier New',monospace\">Training Epoch: <span style=\"color: #008080; text-decoration-color: #008080; font-weight: bold\">18</span>, <span style=\"color: #008000; text-decoration-color: #008000\">'LR:'</span>, <span style=\"font-weight: bold\">[</span><span style=\"color: #008080; text-decoration-color: #008080; font-weight: bold\">0.001</span><span style=\"font-weight: bold\">]</span>\n",
              "</pre>\n"
            ],
            "text/plain": [
              "Training Epoch: \u001b[1;36m18\u001b[0m, \u001b[32m'LR:'\u001b[0m, \u001b[1m[\u001b[0m\u001b[1;36m0.001\u001b[0m\u001b[1m]\u001b[0m\n"
            ]
          },
          "metadata": {
            "tags": []
          }
        },
        {
          "output_type": "display_data",
          "data": {
            "text/html": [
              "<pre style=\"white-space:pre;overflow-x:auto;line-height:normal;font-family:Menlo,'DejaVu Sans Mono',consolas,'Courier New',monospace\">Train Losses: <span style=\"color: #008080; text-decoration-color: #008080; font-weight: bold\">0.43884970466880235</span>\n",
              "</pre>\n"
            ],
            "text/plain": [
              "Train Losses: \u001b[1;36m0.43884970466880235\u001b[0m\n"
            ]
          },
          "metadata": {
            "tags": []
          }
        },
        {
          "output_type": "display_data",
          "data": {
            "text/html": [
              "<pre style=\"white-space:pre;overflow-x:auto;line-height:normal;font-family:Menlo,'DejaVu Sans Mono',consolas,'Courier New',monospace\">Train Accuracy: <span style=\"color: #008080; text-decoration-color: #008080; font-weight: bold\">0.8602941176470589</span>\n",
              "</pre>\n"
            ],
            "text/plain": [
              "Train Accuracy: \u001b[1;36m0.8602941176470589\u001b[0m\n"
            ]
          },
          "metadata": {
            "tags": []
          }
        },
        {
          "output_type": "display_data",
          "data": {
            "text/html": [
              "<pre style=\"white-space:pre;overflow-x:auto;line-height:normal;font-family:Menlo,'DejaVu Sans Mono',consolas,'Courier New',monospace\">Val Losses: <span style=\"color: #008080; text-decoration-color: #008080; font-weight: bold\">0.3377001881599426</span>\n",
              "</pre>\n"
            ],
            "text/plain": [
              "Val Losses: \u001b[1;36m0.3377001881599426\u001b[0m\n"
            ]
          },
          "metadata": {
            "tags": []
          }
        },
        {
          "output_type": "display_data",
          "data": {
            "text/html": [
              "<pre style=\"white-space:pre;overflow-x:auto;line-height:normal;font-family:Menlo,'DejaVu Sans Mono',consolas,'Courier New',monospace\">Val Accuracy: <span style=\"color: #008080; text-decoration-color: #008080; font-weight: bold\">0.7857142857142857</span>\n",
              "</pre>\n"
            ],
            "text/plain": [
              "Val Accuracy: \u001b[1;36m0.7857142857142857\u001b[0m\n"
            ]
          },
          "metadata": {
            "tags": []
          }
        },
        {
          "output_type": "display_data",
          "data": {
            "text/html": [
              "<pre style=\"white-space:pre;overflow-x:auto;line-height:normal;font-family:Menlo,'DejaVu Sans Mono',consolas,'Courier New',monospace\">-------------------------------------------------------------\n",
              "</pre>\n"
            ],
            "text/plain": [
              "-------------------------------------------------------------\n"
            ]
          },
          "metadata": {
            "tags": []
          }
        },
        {
          "output_type": "display_data",
          "data": {
            "text/html": [
              "<pre style=\"white-space:pre;overflow-x:auto;line-height:normal;font-family:Menlo,'DejaVu Sans Mono',consolas,'Courier New',monospace\">Training Epoch: <span style=\"color: #008080; text-decoration-color: #008080; font-weight: bold\">19</span>, <span style=\"color: #008000; text-decoration-color: #008000\">'LR:'</span>, <span style=\"font-weight: bold\">[</span><span style=\"color: #008080; text-decoration-color: #008080; font-weight: bold\">0.001</span><span style=\"font-weight: bold\">]</span>\n",
              "</pre>\n"
            ],
            "text/plain": [
              "Training Epoch: \u001b[1;36m19\u001b[0m, \u001b[32m'LR:'\u001b[0m, \u001b[1m[\u001b[0m\u001b[1;36m0.001\u001b[0m\u001b[1m]\u001b[0m\n"
            ]
          },
          "metadata": {
            "tags": []
          }
        },
        {
          "output_type": "display_data",
          "data": {
            "text/html": [
              "<pre style=\"white-space:pre;overflow-x:auto;line-height:normal;font-family:Menlo,'DejaVu Sans Mono',consolas,'Courier New',monospace\">Train Losses: <span style=\"color: #008080; text-decoration-color: #008080; font-weight: bold\">0.39056350992006417</span>\n",
              "</pre>\n"
            ],
            "text/plain": [
              "Train Losses: \u001b[1;36m0.39056350992006417\u001b[0m\n"
            ]
          },
          "metadata": {
            "tags": []
          }
        },
        {
          "output_type": "display_data",
          "data": {
            "text/html": [
              "<pre style=\"white-space:pre;overflow-x:auto;line-height:normal;font-family:Menlo,'DejaVu Sans Mono',consolas,'Courier New',monospace\">Train Accuracy: <span style=\"color: #008080; text-decoration-color: #008080; font-weight: bold\">0.8529411764705882</span>\n",
              "</pre>\n"
            ],
            "text/plain": [
              "Train Accuracy: \u001b[1;36m0.8529411764705882\u001b[0m\n"
            ]
          },
          "metadata": {
            "tags": []
          }
        },
        {
          "output_type": "display_data",
          "data": {
            "text/html": [
              "<pre style=\"white-space:pre;overflow-x:auto;line-height:normal;font-family:Menlo,'DejaVu Sans Mono',consolas,'Courier New',monospace\">Val Losses: <span style=\"color: #008080; text-decoration-color: #008080; font-weight: bold\">0.34402841329574585</span>\n",
              "</pre>\n"
            ],
            "text/plain": [
              "Val Losses: \u001b[1;36m0.34402841329574585\u001b[0m\n"
            ]
          },
          "metadata": {
            "tags": []
          }
        },
        {
          "output_type": "display_data",
          "data": {
            "text/html": [
              "<pre style=\"white-space:pre;overflow-x:auto;line-height:normal;font-family:Menlo,'DejaVu Sans Mono',consolas,'Courier New',monospace\">Val Accuracy: <span style=\"color: #008080; text-decoration-color: #008080; font-weight: bold\">0.8035714285714286</span>\n",
              "</pre>\n"
            ],
            "text/plain": [
              "Val Accuracy: \u001b[1;36m0.8035714285714286\u001b[0m\n"
            ]
          },
          "metadata": {
            "tags": []
          }
        },
        {
          "output_type": "display_data",
          "data": {
            "text/html": [
              "<pre style=\"white-space:pre;overflow-x:auto;line-height:normal;font-family:Menlo,'DejaVu Sans Mono',consolas,'Courier New',monospace\">-------------------------------------------------------------\n",
              "</pre>\n"
            ],
            "text/plain": [
              "-------------------------------------------------------------\n"
            ]
          },
          "metadata": {
            "tags": []
          }
        },
        {
          "output_type": "display_data",
          "data": {
            "text/html": [
              "<pre style=\"white-space:pre;overflow-x:auto;line-height:normal;font-family:Menlo,'DejaVu Sans Mono',consolas,'Courier New',monospace\">Training Epoch: <span style=\"color: #008080; text-decoration-color: #008080; font-weight: bold\">20</span>, <span style=\"color: #008000; text-decoration-color: #008000\">'LR:'</span>, <span style=\"font-weight: bold\">[</span><span style=\"color: #008080; text-decoration-color: #008080; font-weight: bold\">0.0001</span><span style=\"font-weight: bold\">]</span>\n",
              "</pre>\n"
            ],
            "text/plain": [
              "Training Epoch: \u001b[1;36m20\u001b[0m, \u001b[32m'LR:'\u001b[0m, \u001b[1m[\u001b[0m\u001b[1;36m0.0001\u001b[0m\u001b[1m]\u001b[0m\n"
            ]
          },
          "metadata": {
            "tags": []
          }
        },
        {
          "output_type": "display_data",
          "data": {
            "text/html": [
              "<pre style=\"white-space:pre;overflow-x:auto;line-height:normal;font-family:Menlo,'DejaVu Sans Mono',consolas,'Courier New',monospace\">Train Losses: <span style=\"color: #008080; text-decoration-color: #008080; font-weight: bold\">0.3817829735138837</span>\n",
              "</pre>\n"
            ],
            "text/plain": [
              "Train Losses: \u001b[1;36m0.3817829735138837\u001b[0m\n"
            ]
          },
          "metadata": {
            "tags": []
          }
        },
        {
          "output_type": "display_data",
          "data": {
            "text/html": [
              "<pre style=\"white-space:pre;overflow-x:auto;line-height:normal;font-family:Menlo,'DejaVu Sans Mono',consolas,'Courier New',monospace\">Train Accuracy: <span style=\"color: #008080; text-decoration-color: #008080; font-weight: bold\">0.8823529411764706</span>\n",
              "</pre>\n"
            ],
            "text/plain": [
              "Train Accuracy: \u001b[1;36m0.8823529411764706\u001b[0m\n"
            ]
          },
          "metadata": {
            "tags": []
          }
        },
        {
          "output_type": "display_data",
          "data": {
            "text/html": [
              "<pre style=\"white-space:pre;overflow-x:auto;line-height:normal;font-family:Menlo,'DejaVu Sans Mono',consolas,'Courier New',monospace\">Val Losses: <span style=\"color: #008080; text-decoration-color: #008080; font-weight: bold\">0.34801727533340454</span>\n",
              "</pre>\n"
            ],
            "text/plain": [
              "Val Losses: \u001b[1;36m0.34801727533340454\u001b[0m\n"
            ]
          },
          "metadata": {
            "tags": []
          }
        },
        {
          "output_type": "display_data",
          "data": {
            "text/html": [
              "<pre style=\"white-space:pre;overflow-x:auto;line-height:normal;font-family:Menlo,'DejaVu Sans Mono',consolas,'Courier New',monospace\">Val Accuracy: <span style=\"color: #008080; text-decoration-color: #008080; font-weight: bold\">0.8035714285714286</span>\n",
              "</pre>\n"
            ],
            "text/plain": [
              "Val Accuracy: \u001b[1;36m0.8035714285714286\u001b[0m\n"
            ]
          },
          "metadata": {
            "tags": []
          }
        },
        {
          "output_type": "display_data",
          "data": {
            "text/html": [
              "<pre style=\"white-space:pre;overflow-x:auto;line-height:normal;font-family:Menlo,'DejaVu Sans Mono',consolas,'Courier New',monospace\">-------------------------------------------------------------\n",
              "</pre>\n"
            ],
            "text/plain": [
              "-------------------------------------------------------------\n"
            ]
          },
          "metadata": {
            "tags": []
          }
        },
        {
          "output_type": "display_data",
          "data": {
            "text/html": [
              "<pre style=\"white-space:pre;overflow-x:auto;line-height:normal;font-family:Menlo,'DejaVu Sans Mono',consolas,'Courier New',monospace\">Training Epoch: <span style=\"color: #008080; text-decoration-color: #008080; font-weight: bold\">21</span>, <span style=\"color: #008000; text-decoration-color: #008000\">'LR:'</span>, <span style=\"font-weight: bold\">[</span><span style=\"color: #008080; text-decoration-color: #008080; font-weight: bold\">0.0001</span><span style=\"font-weight: bold\">]</span>\n",
              "</pre>\n"
            ],
            "text/plain": [
              "Training Epoch: \u001b[1;36m21\u001b[0m, \u001b[32m'LR:'\u001b[0m, \u001b[1m[\u001b[0m\u001b[1;36m0.0001\u001b[0m\u001b[1m]\u001b[0m\n"
            ]
          },
          "metadata": {
            "tags": []
          }
        },
        {
          "output_type": "display_data",
          "data": {
            "text/html": [
              "<pre style=\"white-space:pre;overflow-x:auto;line-height:normal;font-family:Menlo,'DejaVu Sans Mono',consolas,'Courier New',monospace\">Train Losses: <span style=\"color: #008080; text-decoration-color: #008080; font-weight: bold\">0.3555205701028599</span>\n",
              "</pre>\n"
            ],
            "text/plain": [
              "Train Losses: \u001b[1;36m0.3555205701028599\u001b[0m\n"
            ]
          },
          "metadata": {
            "tags": []
          }
        },
        {
          "output_type": "display_data",
          "data": {
            "text/html": [
              "<pre style=\"white-space:pre;overflow-x:auto;line-height:normal;font-family:Menlo,'DejaVu Sans Mono',consolas,'Courier New',monospace\">Train Accuracy: <span style=\"color: #008080; text-decoration-color: #008080; font-weight: bold\">0.875</span>\n",
              "</pre>\n"
            ],
            "text/plain": [
              "Train Accuracy: \u001b[1;36m0.875\u001b[0m\n"
            ]
          },
          "metadata": {
            "tags": []
          }
        },
        {
          "output_type": "display_data",
          "data": {
            "text/html": [
              "<pre style=\"white-space:pre;overflow-x:auto;line-height:normal;font-family:Menlo,'DejaVu Sans Mono',consolas,'Courier New',monospace\">Val Losses: <span style=\"color: #008080; text-decoration-color: #008080; font-weight: bold\">0.3346891403198242</span>\n",
              "</pre>\n"
            ],
            "text/plain": [
              "Val Losses: \u001b[1;36m0.3346891403198242\u001b[0m\n"
            ]
          },
          "metadata": {
            "tags": []
          }
        },
        {
          "output_type": "display_data",
          "data": {
            "text/html": [
              "<pre style=\"white-space:pre;overflow-x:auto;line-height:normal;font-family:Menlo,'DejaVu Sans Mono',consolas,'Courier New',monospace\">Val Accuracy: <span style=\"color: #008080; text-decoration-color: #008080; font-weight: bold\">0.8035714285714286</span>\n",
              "</pre>\n"
            ],
            "text/plain": [
              "Val Accuracy: \u001b[1;36m0.8035714285714286\u001b[0m\n"
            ]
          },
          "metadata": {
            "tags": []
          }
        },
        {
          "output_type": "display_data",
          "data": {
            "text/html": [
              "<pre style=\"white-space:pre;overflow-x:auto;line-height:normal;font-family:Menlo,'DejaVu Sans Mono',consolas,'Courier New',monospace\">-------------------------------------------------------------\n",
              "</pre>\n"
            ],
            "text/plain": [
              "-------------------------------------------------------------\n"
            ]
          },
          "metadata": {
            "tags": []
          }
        },
        {
          "output_type": "display_data",
          "data": {
            "text/html": [
              "<pre style=\"white-space:pre;overflow-x:auto;line-height:normal;font-family:Menlo,'DejaVu Sans Mono',consolas,'Courier New',monospace\">Training Epoch: <span style=\"color: #008080; text-decoration-color: #008080; font-weight: bold\">22</span>, <span style=\"color: #008000; text-decoration-color: #008000\">'LR:'</span>, <span style=\"font-weight: bold\">[</span><span style=\"color: #008080; text-decoration-color: #008080; font-weight: bold\">0.0001</span><span style=\"font-weight: bold\">]</span>\n",
              "</pre>\n"
            ],
            "text/plain": [
              "Training Epoch: \u001b[1;36m22\u001b[0m, \u001b[32m'LR:'\u001b[0m, \u001b[1m[\u001b[0m\u001b[1;36m0.0001\u001b[0m\u001b[1m]\u001b[0m\n"
            ]
          },
          "metadata": {
            "tags": []
          }
        },
        {
          "output_type": "display_data",
          "data": {
            "text/html": [
              "<pre style=\"white-space:pre;overflow-x:auto;line-height:normal;font-family:Menlo,'DejaVu Sans Mono',consolas,'Courier New',monospace\">Train Losses: <span style=\"color: #008080; text-decoration-color: #008080; font-weight: bold\">0.3599713453475167</span>\n",
              "</pre>\n"
            ],
            "text/plain": [
              "Train Losses: \u001b[1;36m0.3599713453475167\u001b[0m\n"
            ]
          },
          "metadata": {
            "tags": []
          }
        },
        {
          "output_type": "display_data",
          "data": {
            "text/html": [
              "<pre style=\"white-space:pre;overflow-x:auto;line-height:normal;font-family:Menlo,'DejaVu Sans Mono',consolas,'Courier New',monospace\">Train Accuracy: <span style=\"color: #008080; text-decoration-color: #008080; font-weight: bold\">0.8602941176470589</span>\n",
              "</pre>\n"
            ],
            "text/plain": [
              "Train Accuracy: \u001b[1;36m0.8602941176470589\u001b[0m\n"
            ]
          },
          "metadata": {
            "tags": []
          }
        },
        {
          "output_type": "display_data",
          "data": {
            "text/html": [
              "<pre style=\"white-space:pre;overflow-x:auto;line-height:normal;font-family:Menlo,'DejaVu Sans Mono',consolas,'Courier New',monospace\">Val Losses: <span style=\"color: #008080; text-decoration-color: #008080; font-weight: bold\">0.3352581560611725</span>\n",
              "</pre>\n"
            ],
            "text/plain": [
              "Val Losses: \u001b[1;36m0.3352581560611725\u001b[0m\n"
            ]
          },
          "metadata": {
            "tags": []
          }
        },
        {
          "output_type": "display_data",
          "data": {
            "text/html": [
              "<pre style=\"white-space:pre;overflow-x:auto;line-height:normal;font-family:Menlo,'DejaVu Sans Mono',consolas,'Courier New',monospace\">Val Accuracy: <span style=\"color: #008080; text-decoration-color: #008080; font-weight: bold\">0.8035714285714286</span>\n",
              "</pre>\n"
            ],
            "text/plain": [
              "Val Accuracy: \u001b[1;36m0.8035714285714286\u001b[0m\n"
            ]
          },
          "metadata": {
            "tags": []
          }
        },
        {
          "output_type": "display_data",
          "data": {
            "text/html": [
              "<pre style=\"white-space:pre;overflow-x:auto;line-height:normal;font-family:Menlo,'DejaVu Sans Mono',consolas,'Courier New',monospace\">-------------------------------------------------------------\n",
              "</pre>\n"
            ],
            "text/plain": [
              "-------------------------------------------------------------\n"
            ]
          },
          "metadata": {
            "tags": []
          }
        },
        {
          "output_type": "display_data",
          "data": {
            "text/html": [
              "<pre style=\"white-space:pre;overflow-x:auto;line-height:normal;font-family:Menlo,'DejaVu Sans Mono',consolas,'Courier New',monospace\">Training Epoch: <span style=\"color: #008080; text-decoration-color: #008080; font-weight: bold\">23</span>, <span style=\"color: #008000; text-decoration-color: #008000\">'LR:'</span>, <span style=\"font-weight: bold\">[</span><span style=\"color: #008080; text-decoration-color: #008080; font-weight: bold\">0.0001</span><span style=\"font-weight: bold\">]</span>\n",
              "</pre>\n"
            ],
            "text/plain": [
              "Training Epoch: \u001b[1;36m23\u001b[0m, \u001b[32m'LR:'\u001b[0m, \u001b[1m[\u001b[0m\u001b[1;36m0.0001\u001b[0m\u001b[1m]\u001b[0m\n"
            ]
          },
          "metadata": {
            "tags": []
          }
        },
        {
          "output_type": "display_data",
          "data": {
            "text/html": [
              "<pre style=\"white-space:pre;overflow-x:auto;line-height:normal;font-family:Menlo,'DejaVu Sans Mono',consolas,'Courier New',monospace\">Train Losses: <span style=\"color: #008080; text-decoration-color: #008080; font-weight: bold\">0.37558481491663875</span>\n",
              "</pre>\n"
            ],
            "text/plain": [
              "Train Losses: \u001b[1;36m0.37558481491663875\u001b[0m\n"
            ]
          },
          "metadata": {
            "tags": []
          }
        },
        {
          "output_type": "display_data",
          "data": {
            "text/html": [
              "<pre style=\"white-space:pre;overflow-x:auto;line-height:normal;font-family:Menlo,'DejaVu Sans Mono',consolas,'Courier New',monospace\">Train Accuracy: <span style=\"color: #008080; text-decoration-color: #008080; font-weight: bold\">0.8308823529411765</span>\n",
              "</pre>\n"
            ],
            "text/plain": [
              "Train Accuracy: \u001b[1;36m0.8308823529411765\u001b[0m\n"
            ]
          },
          "metadata": {
            "tags": []
          }
        },
        {
          "output_type": "display_data",
          "data": {
            "text/html": [
              "<pre style=\"white-space:pre;overflow-x:auto;line-height:normal;font-family:Menlo,'DejaVu Sans Mono',consolas,'Courier New',monospace\">Val Losses: <span style=\"color: #008080; text-decoration-color: #008080; font-weight: bold\">0.35038670897483826</span>\n",
              "</pre>\n"
            ],
            "text/plain": [
              "Val Losses: \u001b[1;36m0.35038670897483826\u001b[0m\n"
            ]
          },
          "metadata": {
            "tags": []
          }
        },
        {
          "output_type": "display_data",
          "data": {
            "text/html": [
              "<pre style=\"white-space:pre;overflow-x:auto;line-height:normal;font-family:Menlo,'DejaVu Sans Mono',consolas,'Courier New',monospace\">Val Accuracy: <span style=\"color: #008080; text-decoration-color: #008080; font-weight: bold\">0.8035714285714286</span>\n",
              "</pre>\n"
            ],
            "text/plain": [
              "Val Accuracy: \u001b[1;36m0.8035714285714286\u001b[0m\n"
            ]
          },
          "metadata": {
            "tags": []
          }
        },
        {
          "output_type": "display_data",
          "data": {
            "text/html": [
              "<pre style=\"white-space:pre;overflow-x:auto;line-height:normal;font-family:Menlo,'DejaVu Sans Mono',consolas,'Courier New',monospace\">-------------------------------------------------------------\n",
              "</pre>\n"
            ],
            "text/plain": [
              "-------------------------------------------------------------\n"
            ]
          },
          "metadata": {
            "tags": []
          }
        },
        {
          "output_type": "display_data",
          "data": {
            "text/html": [
              "<pre style=\"white-space:pre;overflow-x:auto;line-height:normal;font-family:Menlo,'DejaVu Sans Mono',consolas,'Courier New',monospace\">Training Epoch: <span style=\"color: #008080; text-decoration-color: #008080; font-weight: bold\">24</span>, <span style=\"color: #008000; text-decoration-color: #008000\">'LR:'</span>, <span style=\"font-weight: bold\">[</span><span style=\"color: #008080; text-decoration-color: #008080; font-weight: bold\">0.0001</span><span style=\"font-weight: bold\">]</span>\n",
              "</pre>\n"
            ],
            "text/plain": [
              "Training Epoch: \u001b[1;36m24\u001b[0m, \u001b[32m'LR:'\u001b[0m, \u001b[1m[\u001b[0m\u001b[1;36m0.0001\u001b[0m\u001b[1m]\u001b[0m\n"
            ]
          },
          "metadata": {
            "tags": []
          }
        },
        {
          "output_type": "display_data",
          "data": {
            "text/html": [
              "<pre style=\"white-space:pre;overflow-x:auto;line-height:normal;font-family:Menlo,'DejaVu Sans Mono',consolas,'Courier New',monospace\">Train Losses: <span style=\"color: #008080; text-decoration-color: #008080; font-weight: bold\">0.3712735636269345</span>\n",
              "</pre>\n"
            ],
            "text/plain": [
              "Train Losses: \u001b[1;36m0.3712735636269345\u001b[0m\n"
            ]
          },
          "metadata": {
            "tags": []
          }
        },
        {
          "output_type": "display_data",
          "data": {
            "text/html": [
              "<pre style=\"white-space:pre;overflow-x:auto;line-height:normal;font-family:Menlo,'DejaVu Sans Mono',consolas,'Courier New',monospace\">Train Accuracy: <span style=\"color: #008080; text-decoration-color: #008080; font-weight: bold\">0.8897058823529411</span>\n",
              "</pre>\n"
            ],
            "text/plain": [
              "Train Accuracy: \u001b[1;36m0.8897058823529411\u001b[0m\n"
            ]
          },
          "metadata": {
            "tags": []
          }
        },
        {
          "output_type": "display_data",
          "data": {
            "text/html": [
              "<pre style=\"white-space:pre;overflow-x:auto;line-height:normal;font-family:Menlo,'DejaVu Sans Mono',consolas,'Courier New',monospace\">Val Losses: <span style=\"color: #008080; text-decoration-color: #008080; font-weight: bold\">0.35248127579689026</span>\n",
              "</pre>\n"
            ],
            "text/plain": [
              "Val Losses: \u001b[1;36m0.35248127579689026\u001b[0m\n"
            ]
          },
          "metadata": {
            "tags": []
          }
        },
        {
          "output_type": "display_data",
          "data": {
            "text/html": [
              "<pre style=\"white-space:pre;overflow-x:auto;line-height:normal;font-family:Menlo,'DejaVu Sans Mono',consolas,'Courier New',monospace\">Val Accuracy: <span style=\"color: #008080; text-decoration-color: #008080; font-weight: bold\">0.8035714285714286</span>\n",
              "</pre>\n"
            ],
            "text/plain": [
              "Val Accuracy: \u001b[1;36m0.8035714285714286\u001b[0m\n"
            ]
          },
          "metadata": {
            "tags": []
          }
        },
        {
          "output_type": "display_data",
          "data": {
            "text/html": [
              "<pre style=\"white-space:pre;overflow-x:auto;line-height:normal;font-family:Menlo,'DejaVu Sans Mono',consolas,'Courier New',monospace\">-------------------------------------------------------------\n",
              "</pre>\n"
            ],
            "text/plain": [
              "-------------------------------------------------------------\n"
            ]
          },
          "metadata": {
            "tags": []
          }
        },
        {
          "output_type": "display_data",
          "data": {
            "text/html": [
              "<pre style=\"white-space:pre;overflow-x:auto;line-height:normal;font-family:Menlo,'DejaVu Sans Mono',consolas,'Courier New',monospace\">Training Epoch: <span style=\"color: #008080; text-decoration-color: #008080; font-weight: bold\">25</span>, <span style=\"color: #008000; text-decoration-color: #008000\">'LR:'</span>, <span style=\"font-weight: bold\">[</span><span style=\"color: #008080; text-decoration-color: #008080; font-weight: bold\">0.0001</span><span style=\"font-weight: bold\">]</span>\n",
              "</pre>\n"
            ],
            "text/plain": [
              "Training Epoch: \u001b[1;36m25\u001b[0m, \u001b[32m'LR:'\u001b[0m, \u001b[1m[\u001b[0m\u001b[1;36m0.0001\u001b[0m\u001b[1m]\u001b[0m\n"
            ]
          },
          "metadata": {
            "tags": []
          }
        },
        {
          "output_type": "display_data",
          "data": {
            "text/html": [
              "<pre style=\"white-space:pre;overflow-x:auto;line-height:normal;font-family:Menlo,'DejaVu Sans Mono',consolas,'Courier New',monospace\">Train Losses: <span style=\"color: #008080; text-decoration-color: #008080; font-weight: bold\">0.33389569205396313</span>\n",
              "</pre>\n"
            ],
            "text/plain": [
              "Train Losses: \u001b[1;36m0.33389569205396313\u001b[0m\n"
            ]
          },
          "metadata": {
            "tags": []
          }
        },
        {
          "output_type": "display_data",
          "data": {
            "text/html": [
              "<pre style=\"white-space:pre;overflow-x:auto;line-height:normal;font-family:Menlo,'DejaVu Sans Mono',consolas,'Courier New',monospace\">Train Accuracy: <span style=\"color: #008080; text-decoration-color: #008080; font-weight: bold\">0.8602941176470589</span>\n",
              "</pre>\n"
            ],
            "text/plain": [
              "Train Accuracy: \u001b[1;36m0.8602941176470589\u001b[0m\n"
            ]
          },
          "metadata": {
            "tags": []
          }
        },
        {
          "output_type": "display_data",
          "data": {
            "text/html": [
              "<pre style=\"white-space:pre;overflow-x:auto;line-height:normal;font-family:Menlo,'DejaVu Sans Mono',consolas,'Courier New',monospace\">Val Losses: <span style=\"color: #008080; text-decoration-color: #008080; font-weight: bold\">0.3543577492237091</span>\n",
              "</pre>\n"
            ],
            "text/plain": [
              "Val Losses: \u001b[1;36m0.3543577492237091\u001b[0m\n"
            ]
          },
          "metadata": {
            "tags": []
          }
        },
        {
          "output_type": "display_data",
          "data": {
            "text/html": [
              "<pre style=\"white-space:pre;overflow-x:auto;line-height:normal;font-family:Menlo,'DejaVu Sans Mono',consolas,'Courier New',monospace\">Val Accuracy: <span style=\"color: #008080; text-decoration-color: #008080; font-weight: bold\">0.8035714285714286</span>\n",
              "</pre>\n"
            ],
            "text/plain": [
              "Val Accuracy: \u001b[1;36m0.8035714285714286\u001b[0m\n"
            ]
          },
          "metadata": {
            "tags": []
          }
        },
        {
          "output_type": "display_data",
          "data": {
            "text/html": [
              "<pre style=\"white-space:pre;overflow-x:auto;line-height:normal;font-family:Menlo,'DejaVu Sans Mono',consolas,'Courier New',monospace\">-------------------------------------------------------------\n",
              "</pre>\n"
            ],
            "text/plain": [
              "-------------------------------------------------------------\n"
            ]
          },
          "metadata": {
            "tags": []
          }
        },
        {
          "output_type": "display_data",
          "data": {
            "text/html": [
              "<pre style=\"white-space:pre;overflow-x:auto;line-height:normal;font-family:Menlo,'DejaVu Sans Mono',consolas,'Courier New',monospace\">Training Epoch: <span style=\"color: #008080; text-decoration-color: #008080; font-weight: bold\">26</span>, <span style=\"color: #008000; text-decoration-color: #008000\">'LR:'</span>, <span style=\"font-weight: bold\">[</span><span style=\"color: #008080; text-decoration-color: #008080; font-weight: bold\">0.0001</span><span style=\"font-weight: bold\">]</span>\n",
              "</pre>\n"
            ],
            "text/plain": [
              "Training Epoch: \u001b[1;36m26\u001b[0m, \u001b[32m'LR:'\u001b[0m, \u001b[1m[\u001b[0m\u001b[1;36m0.0001\u001b[0m\u001b[1m]\u001b[0m\n"
            ]
          },
          "metadata": {
            "tags": []
          }
        },
        {
          "output_type": "display_data",
          "data": {
            "text/html": [
              "<pre style=\"white-space:pre;overflow-x:auto;line-height:normal;font-family:Menlo,'DejaVu Sans Mono',consolas,'Courier New',monospace\">Train Losses: <span style=\"color: #008080; text-decoration-color: #008080; font-weight: bold\">0.34786050372263966</span>\n",
              "</pre>\n"
            ],
            "text/plain": [
              "Train Losses: \u001b[1;36m0.34786050372263966\u001b[0m\n"
            ]
          },
          "metadata": {
            "tags": []
          }
        },
        {
          "output_type": "display_data",
          "data": {
            "text/html": [
              "<pre style=\"white-space:pre;overflow-x:auto;line-height:normal;font-family:Menlo,'DejaVu Sans Mono',consolas,'Courier New',monospace\">Train Accuracy: <span style=\"color: #008080; text-decoration-color: #008080; font-weight: bold\">0.875</span>\n",
              "</pre>\n"
            ],
            "text/plain": [
              "Train Accuracy: \u001b[1;36m0.875\u001b[0m\n"
            ]
          },
          "metadata": {
            "tags": []
          }
        },
        {
          "output_type": "display_data",
          "data": {
            "text/html": [
              "<pre style=\"white-space:pre;overflow-x:auto;line-height:normal;font-family:Menlo,'DejaVu Sans Mono',consolas,'Courier New',monospace\">Val Losses: <span style=\"color: #008080; text-decoration-color: #008080; font-weight: bold\">0.35896530747413635</span>\n",
              "</pre>\n"
            ],
            "text/plain": [
              "Val Losses: \u001b[1;36m0.35896530747413635\u001b[0m\n"
            ]
          },
          "metadata": {
            "tags": []
          }
        },
        {
          "output_type": "display_data",
          "data": {
            "text/html": [
              "<pre style=\"white-space:pre;overflow-x:auto;line-height:normal;font-family:Menlo,'DejaVu Sans Mono',consolas,'Courier New',monospace\">Val Accuracy: <span style=\"color: #008080; text-decoration-color: #008080; font-weight: bold\">0.8035714285714286</span>\n",
              "</pre>\n"
            ],
            "text/plain": [
              "Val Accuracy: \u001b[1;36m0.8035714285714286\u001b[0m\n"
            ]
          },
          "metadata": {
            "tags": []
          }
        },
        {
          "output_type": "display_data",
          "data": {
            "text/html": [
              "<pre style=\"white-space:pre;overflow-x:auto;line-height:normal;font-family:Menlo,'DejaVu Sans Mono',consolas,'Courier New',monospace\">-------------------------------------------------------------\n",
              "</pre>\n"
            ],
            "text/plain": [
              "-------------------------------------------------------------\n"
            ]
          },
          "metadata": {
            "tags": []
          }
        },
        {
          "output_type": "display_data",
          "data": {
            "text/html": [
              "<pre style=\"white-space:pre;overflow-x:auto;line-height:normal;font-family:Menlo,'DejaVu Sans Mono',consolas,'Courier New',monospace\">Training Epoch: <span style=\"color: #008080; text-decoration-color: #008080; font-weight: bold\">27</span>, <span style=\"color: #008000; text-decoration-color: #008000\">'LR:'</span>, <span style=\"font-weight: bold\">[</span><span style=\"color: #008080; text-decoration-color: #008080; font-weight: bold\">0.0001</span><span style=\"font-weight: bold\">]</span>\n",
              "</pre>\n"
            ],
            "text/plain": [
              "Training Epoch: \u001b[1;36m27\u001b[0m, \u001b[32m'LR:'\u001b[0m, \u001b[1m[\u001b[0m\u001b[1;36m0.0001\u001b[0m\u001b[1m]\u001b[0m\n"
            ]
          },
          "metadata": {
            "tags": []
          }
        },
        {
          "output_type": "display_data",
          "data": {
            "text/html": [
              "<pre style=\"white-space:pre;overflow-x:auto;line-height:normal;font-family:Menlo,'DejaVu Sans Mono',consolas,'Courier New',monospace\">Train Losses: <span style=\"color: #008080; text-decoration-color: #008080; font-weight: bold\">0.33790604507221894</span>\n",
              "</pre>\n"
            ],
            "text/plain": [
              "Train Losses: \u001b[1;36m0.33790604507221894\u001b[0m\n"
            ]
          },
          "metadata": {
            "tags": []
          }
        },
        {
          "output_type": "display_data",
          "data": {
            "text/html": [
              "<pre style=\"white-space:pre;overflow-x:auto;line-height:normal;font-family:Menlo,'DejaVu Sans Mono',consolas,'Courier New',monospace\">Train Accuracy: <span style=\"color: #008080; text-decoration-color: #008080; font-weight: bold\">0.8602941176470589</span>\n",
              "</pre>\n"
            ],
            "text/plain": [
              "Train Accuracy: \u001b[1;36m0.8602941176470589\u001b[0m\n"
            ]
          },
          "metadata": {
            "tags": []
          }
        },
        {
          "output_type": "display_data",
          "data": {
            "text/html": [
              "<pre style=\"white-space:pre;overflow-x:auto;line-height:normal;font-family:Menlo,'DejaVu Sans Mono',consolas,'Courier New',monospace\">Val Losses: <span style=\"color: #008080; text-decoration-color: #008080; font-weight: bold\">0.3592638373374939</span>\n",
              "</pre>\n"
            ],
            "text/plain": [
              "Val Losses: \u001b[1;36m0.3592638373374939\u001b[0m\n"
            ]
          },
          "metadata": {
            "tags": []
          }
        },
        {
          "output_type": "display_data",
          "data": {
            "text/html": [
              "<pre style=\"white-space:pre;overflow-x:auto;line-height:normal;font-family:Menlo,'DejaVu Sans Mono',consolas,'Courier New',monospace\">Val Accuracy: <span style=\"color: #008080; text-decoration-color: #008080; font-weight: bold\">0.8035714285714286</span>\n",
              "</pre>\n"
            ],
            "text/plain": [
              "Val Accuracy: \u001b[1;36m0.8035714285714286\u001b[0m\n"
            ]
          },
          "metadata": {
            "tags": []
          }
        },
        {
          "output_type": "display_data",
          "data": {
            "text/html": [
              "<pre style=\"white-space:pre;overflow-x:auto;line-height:normal;font-family:Menlo,'DejaVu Sans Mono',consolas,'Courier New',monospace\">-------------------------------------------------------------\n",
              "</pre>\n"
            ],
            "text/plain": [
              "-------------------------------------------------------------\n"
            ]
          },
          "metadata": {
            "tags": []
          }
        },
        {
          "output_type": "display_data",
          "data": {
            "text/html": [
              "<pre style=\"white-space:pre;overflow-x:auto;line-height:normal;font-family:Menlo,'DejaVu Sans Mono',consolas,'Courier New',monospace\">Training Epoch: <span style=\"color: #008080; text-decoration-color: #008080; font-weight: bold\">28</span>, <span style=\"color: #008000; text-decoration-color: #008000\">'LR:'</span>, <span style=\"font-weight: bold\">[</span><span style=\"color: #008080; text-decoration-color: #008080; font-weight: bold\">0.0001</span><span style=\"font-weight: bold\">]</span>\n",
              "</pre>\n"
            ],
            "text/plain": [
              "Training Epoch: \u001b[1;36m28\u001b[0m, \u001b[32m'LR:'\u001b[0m, \u001b[1m[\u001b[0m\u001b[1;36m0.0001\u001b[0m\u001b[1m]\u001b[0m\n"
            ]
          },
          "metadata": {
            "tags": []
          }
        },
        {
          "output_type": "display_data",
          "data": {
            "text/html": [
              "<pre style=\"white-space:pre;overflow-x:auto;line-height:normal;font-family:Menlo,'DejaVu Sans Mono',consolas,'Courier New',monospace\">Train Losses: <span style=\"color: #008080; text-decoration-color: #008080; font-weight: bold\">0.34756145144210143</span>\n",
              "</pre>\n"
            ],
            "text/plain": [
              "Train Losses: \u001b[1;36m0.34756145144210143\u001b[0m\n"
            ]
          },
          "metadata": {
            "tags": []
          }
        },
        {
          "output_type": "display_data",
          "data": {
            "text/html": [
              "<pre style=\"white-space:pre;overflow-x:auto;line-height:normal;font-family:Menlo,'DejaVu Sans Mono',consolas,'Courier New',monospace\">Train Accuracy: <span style=\"color: #008080; text-decoration-color: #008080; font-weight: bold\">0.8823529411764706</span>\n",
              "</pre>\n"
            ],
            "text/plain": [
              "Train Accuracy: \u001b[1;36m0.8823529411764706\u001b[0m\n"
            ]
          },
          "metadata": {
            "tags": []
          }
        },
        {
          "output_type": "display_data",
          "data": {
            "text/html": [
              "<pre style=\"white-space:pre;overflow-x:auto;line-height:normal;font-family:Menlo,'DejaVu Sans Mono',consolas,'Courier New',monospace\">Val Losses: <span style=\"color: #008080; text-decoration-color: #008080; font-weight: bold\">0.3572181463241577</span>\n",
              "</pre>\n"
            ],
            "text/plain": [
              "Val Losses: \u001b[1;36m0.3572181463241577\u001b[0m\n"
            ]
          },
          "metadata": {
            "tags": []
          }
        },
        {
          "output_type": "display_data",
          "data": {
            "text/html": [
              "<pre style=\"white-space:pre;overflow-x:auto;line-height:normal;font-family:Menlo,'DejaVu Sans Mono',consolas,'Courier New',monospace\">Val Accuracy: <span style=\"color: #008080; text-decoration-color: #008080; font-weight: bold\">0.8035714285714286</span>\n",
              "</pre>\n"
            ],
            "text/plain": [
              "Val Accuracy: \u001b[1;36m0.8035714285714286\u001b[0m\n"
            ]
          },
          "metadata": {
            "tags": []
          }
        },
        {
          "output_type": "display_data",
          "data": {
            "text/html": [
              "<pre style=\"white-space:pre;overflow-x:auto;line-height:normal;font-family:Menlo,'DejaVu Sans Mono',consolas,'Courier New',monospace\">-------------------------------------------------------------\n",
              "</pre>\n"
            ],
            "text/plain": [
              "-------------------------------------------------------------\n"
            ]
          },
          "metadata": {
            "tags": []
          }
        },
        {
          "output_type": "display_data",
          "data": {
            "text/html": [
              "<pre style=\"white-space:pre;overflow-x:auto;line-height:normal;font-family:Menlo,'DejaVu Sans Mono',consolas,'Courier New',monospace\">Training Epoch: <span style=\"color: #008080; text-decoration-color: #008080; font-weight: bold\">29</span>, <span style=\"color: #008000; text-decoration-color: #008000\">'LR:'</span>, <span style=\"font-weight: bold\">[</span><span style=\"color: #008080; text-decoration-color: #008080; font-weight: bold\">0.0001</span><span style=\"font-weight: bold\">]</span>\n",
              "</pre>\n"
            ],
            "text/plain": [
              "Training Epoch: \u001b[1;36m29\u001b[0m, \u001b[32m'LR:'\u001b[0m, \u001b[1m[\u001b[0m\u001b[1;36m0.0001\u001b[0m\u001b[1m]\u001b[0m\n"
            ]
          },
          "metadata": {
            "tags": []
          }
        },
        {
          "output_type": "display_data",
          "data": {
            "text/html": [
              "<pre style=\"white-space:pre;overflow-x:auto;line-height:normal;font-family:Menlo,'DejaVu Sans Mono',consolas,'Courier New',monospace\">Train Losses: <span style=\"color: #008080; text-decoration-color: #008080; font-weight: bold\">0.36316175408223095</span>\n",
              "</pre>\n"
            ],
            "text/plain": [
              "Train Losses: \u001b[1;36m0.36316175408223095\u001b[0m\n"
            ]
          },
          "metadata": {
            "tags": []
          }
        },
        {
          "output_type": "display_data",
          "data": {
            "text/html": [
              "<pre style=\"white-space:pre;overflow-x:auto;line-height:normal;font-family:Menlo,'DejaVu Sans Mono',consolas,'Courier New',monospace\">Train Accuracy: <span style=\"color: #008080; text-decoration-color: #008080; font-weight: bold\">0.8897058823529411</span>\n",
              "</pre>\n"
            ],
            "text/plain": [
              "Train Accuracy: \u001b[1;36m0.8897058823529411\u001b[0m\n"
            ]
          },
          "metadata": {
            "tags": []
          }
        },
        {
          "output_type": "display_data",
          "data": {
            "text/html": [
              "<pre style=\"white-space:pre;overflow-x:auto;line-height:normal;font-family:Menlo,'DejaVu Sans Mono',consolas,'Courier New',monospace\">Val Losses: <span style=\"color: #008080; text-decoration-color: #008080; font-weight: bold\">0.3464565873146057</span>\n",
              "</pre>\n"
            ],
            "text/plain": [
              "Val Losses: \u001b[1;36m0.3464565873146057\u001b[0m\n"
            ]
          },
          "metadata": {
            "tags": []
          }
        },
        {
          "output_type": "display_data",
          "data": {
            "text/html": [
              "<pre style=\"white-space:pre;overflow-x:auto;line-height:normal;font-family:Menlo,'DejaVu Sans Mono',consolas,'Courier New',monospace\">Val Accuracy: <span style=\"color: #008080; text-decoration-color: #008080; font-weight: bold\">0.8035714285714286</span>\n",
              "</pre>\n"
            ],
            "text/plain": [
              "Val Accuracy: \u001b[1;36m0.8035714285714286\u001b[0m\n"
            ]
          },
          "metadata": {
            "tags": []
          }
        },
        {
          "output_type": "display_data",
          "data": {
            "text/html": [
              "<pre style=\"white-space:pre;overflow-x:auto;line-height:normal;font-family:Menlo,'DejaVu Sans Mono',consolas,'Courier New',monospace\">-------------------------------------------------------------\n",
              "</pre>\n"
            ],
            "text/plain": [
              "-------------------------------------------------------------\n"
            ]
          },
          "metadata": {
            "tags": []
          }
        },
        {
          "output_type": "display_data",
          "data": {
            "text/html": [
              "<pre style=\"white-space:pre;overflow-x:auto;line-height:normal;font-family:Menlo,'DejaVu Sans Mono',consolas,'Courier New',monospace\">Training Epoch: <span style=\"color: #008080; text-decoration-color: #008080; font-weight: bold\">30</span>, <span style=\"color: #008000; text-decoration-color: #008000\">'LR:'</span>, <span style=\"font-weight: bold\">[</span><span style=\"color: #008080; text-decoration-color: #008080; font-weight: bold\">1e-05</span><span style=\"font-weight: bold\">]</span>\n",
              "</pre>\n"
            ],
            "text/plain": [
              "Training Epoch: \u001b[1;36m30\u001b[0m, \u001b[32m'LR:'\u001b[0m, \u001b[1m[\u001b[0m\u001b[1;36m1e-05\u001b[0m\u001b[1m]\u001b[0m\n"
            ]
          },
          "metadata": {
            "tags": []
          }
        },
        {
          "output_type": "display_data",
          "data": {
            "text/html": [
              "<pre style=\"white-space:pre;overflow-x:auto;line-height:normal;font-family:Menlo,'DejaVu Sans Mono',consolas,'Courier New',monospace\">Train Losses: <span style=\"color: #008080; text-decoration-color: #008080; font-weight: bold\">0.3417227325194022</span>\n",
              "</pre>\n"
            ],
            "text/plain": [
              "Train Losses: \u001b[1;36m0.3417227325194022\u001b[0m\n"
            ]
          },
          "metadata": {
            "tags": []
          }
        },
        {
          "output_type": "display_data",
          "data": {
            "text/html": [
              "<pre style=\"white-space:pre;overflow-x:auto;line-height:normal;font-family:Menlo,'DejaVu Sans Mono',consolas,'Courier New',monospace\">Train Accuracy: <span style=\"color: #008080; text-decoration-color: #008080; font-weight: bold\">0.875</span>\n",
              "</pre>\n"
            ],
            "text/plain": [
              "Train Accuracy: \u001b[1;36m0.875\u001b[0m\n"
            ]
          },
          "metadata": {
            "tags": []
          }
        },
        {
          "output_type": "display_data",
          "data": {
            "text/html": [
              "<pre style=\"white-space:pre;overflow-x:auto;line-height:normal;font-family:Menlo,'DejaVu Sans Mono',consolas,'Courier New',monospace\">Val Losses: <span style=\"color: #008080; text-decoration-color: #008080; font-weight: bold\">0.3451078534126282</span>\n",
              "</pre>\n"
            ],
            "text/plain": [
              "Val Losses: \u001b[1;36m0.3451078534126282\u001b[0m\n"
            ]
          },
          "metadata": {
            "tags": []
          }
        },
        {
          "output_type": "display_data",
          "data": {
            "text/html": [
              "<pre style=\"white-space:pre;overflow-x:auto;line-height:normal;font-family:Menlo,'DejaVu Sans Mono',consolas,'Courier New',monospace\">Val Accuracy: <span style=\"color: #008080; text-decoration-color: #008080; font-weight: bold\">0.8035714285714286</span>\n",
              "</pre>\n"
            ],
            "text/plain": [
              "Val Accuracy: \u001b[1;36m0.8035714285714286\u001b[0m\n"
            ]
          },
          "metadata": {
            "tags": []
          }
        },
        {
          "output_type": "display_data",
          "data": {
            "text/html": [
              "<pre style=\"white-space:pre;overflow-x:auto;line-height:normal;font-family:Menlo,'DejaVu Sans Mono',consolas,'Courier New',monospace\">-------------------------------------------------------------\n",
              "</pre>\n"
            ],
            "text/plain": [
              "-------------------------------------------------------------\n"
            ]
          },
          "metadata": {
            "tags": []
          }
        },
        {
          "output_type": "display_data",
          "data": {
            "text/html": [
              "<pre style=\"white-space:pre;overflow-x:auto;line-height:normal;font-family:Menlo,'DejaVu Sans Mono',consolas,'Courier New',monospace\">Training Epoch: <span style=\"color: #008080; text-decoration-color: #008080; font-weight: bold\">31</span>, <span style=\"color: #008000; text-decoration-color: #008000\">'LR:'</span>, <span style=\"font-weight: bold\">[</span><span style=\"color: #008080; text-decoration-color: #008080; font-weight: bold\">1e-05</span><span style=\"font-weight: bold\">]</span>\n",
              "</pre>\n"
            ],
            "text/plain": [
              "Training Epoch: \u001b[1;36m31\u001b[0m, \u001b[32m'LR:'\u001b[0m, \u001b[1m[\u001b[0m\u001b[1;36m1e-05\u001b[0m\u001b[1m]\u001b[0m\n"
            ]
          },
          "metadata": {
            "tags": []
          }
        },
        {
          "output_type": "display_data",
          "data": {
            "text/html": [
              "<pre style=\"white-space:pre;overflow-x:auto;line-height:normal;font-family:Menlo,'DejaVu Sans Mono',consolas,'Courier New',monospace\">Train Losses: <span style=\"color: #008080; text-decoration-color: #008080; font-weight: bold\">0.344045024146052</span>\n",
              "</pre>\n"
            ],
            "text/plain": [
              "Train Losses: \u001b[1;36m0.344045024146052\u001b[0m\n"
            ]
          },
          "metadata": {
            "tags": []
          }
        },
        {
          "output_type": "display_data",
          "data": {
            "text/html": [
              "<pre style=\"white-space:pre;overflow-x:auto;line-height:normal;font-family:Menlo,'DejaVu Sans Mono',consolas,'Courier New',monospace\">Train Accuracy: <span style=\"color: #008080; text-decoration-color: #008080; font-weight: bold\">0.8382352941176471</span>\n",
              "</pre>\n"
            ],
            "text/plain": [
              "Train Accuracy: \u001b[1;36m0.8382352941176471\u001b[0m\n"
            ]
          },
          "metadata": {
            "tags": []
          }
        },
        {
          "output_type": "display_data",
          "data": {
            "text/html": [
              "<pre style=\"white-space:pre;overflow-x:auto;line-height:normal;font-family:Menlo,'DejaVu Sans Mono',consolas,'Courier New',monospace\">Val Losses: <span style=\"color: #008080; text-decoration-color: #008080; font-weight: bold\">0.34522464871406555</span>\n",
              "</pre>\n"
            ],
            "text/plain": [
              "Val Losses: \u001b[1;36m0.34522464871406555\u001b[0m\n"
            ]
          },
          "metadata": {
            "tags": []
          }
        },
        {
          "output_type": "display_data",
          "data": {
            "text/html": [
              "<pre style=\"white-space:pre;overflow-x:auto;line-height:normal;font-family:Menlo,'DejaVu Sans Mono',consolas,'Courier New',monospace\">Val Accuracy: <span style=\"color: #008080; text-decoration-color: #008080; font-weight: bold\">0.8035714285714286</span>\n",
              "</pre>\n"
            ],
            "text/plain": [
              "Val Accuracy: \u001b[1;36m0.8035714285714286\u001b[0m\n"
            ]
          },
          "metadata": {
            "tags": []
          }
        },
        {
          "output_type": "display_data",
          "data": {
            "text/html": [
              "<pre style=\"white-space:pre;overflow-x:auto;line-height:normal;font-family:Menlo,'DejaVu Sans Mono',consolas,'Courier New',monospace\">-------------------------------------------------------------\n",
              "</pre>\n"
            ],
            "text/plain": [
              "-------------------------------------------------------------\n"
            ]
          },
          "metadata": {
            "tags": []
          }
        },
        {
          "output_type": "display_data",
          "data": {
            "text/html": [
              "<pre style=\"white-space:pre;overflow-x:auto;line-height:normal;font-family:Menlo,'DejaVu Sans Mono',consolas,'Courier New',monospace\">Training Epoch: <span style=\"color: #008080; text-decoration-color: #008080; font-weight: bold\">32</span>, <span style=\"color: #008000; text-decoration-color: #008000\">'LR:'</span>, <span style=\"font-weight: bold\">[</span><span style=\"color: #008080; text-decoration-color: #008080; font-weight: bold\">1e-05</span><span style=\"font-weight: bold\">]</span>\n",
              "</pre>\n"
            ],
            "text/plain": [
              "Training Epoch: \u001b[1;36m32\u001b[0m, \u001b[32m'LR:'\u001b[0m, \u001b[1m[\u001b[0m\u001b[1;36m1e-05\u001b[0m\u001b[1m]\u001b[0m\n"
            ]
          },
          "metadata": {
            "tags": []
          }
        },
        {
          "output_type": "display_data",
          "data": {
            "text/html": [
              "<pre style=\"white-space:pre;overflow-x:auto;line-height:normal;font-family:Menlo,'DejaVu Sans Mono',consolas,'Courier New',monospace\">Train Losses: <span style=\"color: #008080; text-decoration-color: #008080; font-weight: bold\">0.38483743895502653</span>\n",
              "</pre>\n"
            ],
            "text/plain": [
              "Train Losses: \u001b[1;36m0.38483743895502653\u001b[0m\n"
            ]
          },
          "metadata": {
            "tags": []
          }
        },
        {
          "output_type": "display_data",
          "data": {
            "text/html": [
              "<pre style=\"white-space:pre;overflow-x:auto;line-height:normal;font-family:Menlo,'DejaVu Sans Mono',consolas,'Courier New',monospace\">Train Accuracy: <span style=\"color: #008080; text-decoration-color: #008080; font-weight: bold\">0.8308823529411765</span>\n",
              "</pre>\n"
            ],
            "text/plain": [
              "Train Accuracy: \u001b[1;36m0.8308823529411765\u001b[0m\n"
            ]
          },
          "metadata": {
            "tags": []
          }
        },
        {
          "output_type": "display_data",
          "data": {
            "text/html": [
              "<pre style=\"white-space:pre;overflow-x:auto;line-height:normal;font-family:Menlo,'DejaVu Sans Mono',consolas,'Courier New',monospace\">Val Losses: <span style=\"color: #008080; text-decoration-color: #008080; font-weight: bold\">0.3462633192539215</span>\n",
              "</pre>\n"
            ],
            "text/plain": [
              "Val Losses: \u001b[1;36m0.3462633192539215\u001b[0m\n"
            ]
          },
          "metadata": {
            "tags": []
          }
        },
        {
          "output_type": "display_data",
          "data": {
            "text/html": [
              "<pre style=\"white-space:pre;overflow-x:auto;line-height:normal;font-family:Menlo,'DejaVu Sans Mono',consolas,'Courier New',monospace\">Val Accuracy: <span style=\"color: #008080; text-decoration-color: #008080; font-weight: bold\">0.8035714285714286</span>\n",
              "</pre>\n"
            ],
            "text/plain": [
              "Val Accuracy: \u001b[1;36m0.8035714285714286\u001b[0m\n"
            ]
          },
          "metadata": {
            "tags": []
          }
        },
        {
          "output_type": "display_data",
          "data": {
            "text/html": [
              "<pre style=\"white-space:pre;overflow-x:auto;line-height:normal;font-family:Menlo,'DejaVu Sans Mono',consolas,'Courier New',monospace\">-------------------------------------------------------------\n",
              "</pre>\n"
            ],
            "text/plain": [
              "-------------------------------------------------------------\n"
            ]
          },
          "metadata": {
            "tags": []
          }
        },
        {
          "output_type": "display_data",
          "data": {
            "text/html": [
              "<pre style=\"white-space:pre;overflow-x:auto;line-height:normal;font-family:Menlo,'DejaVu Sans Mono',consolas,'Courier New',monospace\">Training Epoch: <span style=\"color: #008080; text-decoration-color: #008080; font-weight: bold\">33</span>, <span style=\"color: #008000; text-decoration-color: #008000\">'LR:'</span>, <span style=\"font-weight: bold\">[</span><span style=\"color: #008080; text-decoration-color: #008080; font-weight: bold\">1e-05</span><span style=\"font-weight: bold\">]</span>\n",
              "</pre>\n"
            ],
            "text/plain": [
              "Training Epoch: \u001b[1;36m33\u001b[0m, \u001b[32m'LR:'\u001b[0m, \u001b[1m[\u001b[0m\u001b[1;36m1e-05\u001b[0m\u001b[1m]\u001b[0m\n"
            ]
          },
          "metadata": {
            "tags": []
          }
        },
        {
          "output_type": "display_data",
          "data": {
            "text/html": [
              "<pre style=\"white-space:pre;overflow-x:auto;line-height:normal;font-family:Menlo,'DejaVu Sans Mono',consolas,'Courier New',monospace\">Train Losses: <span style=\"color: #008080; text-decoration-color: #008080; font-weight: bold\">0.31452053653843265</span>\n",
              "</pre>\n"
            ],
            "text/plain": [
              "Train Losses: \u001b[1;36m0.31452053653843265\u001b[0m\n"
            ]
          },
          "metadata": {
            "tags": []
          }
        },
        {
          "output_type": "display_data",
          "data": {
            "text/html": [
              "<pre style=\"white-space:pre;overflow-x:auto;line-height:normal;font-family:Menlo,'DejaVu Sans Mono',consolas,'Courier New',monospace\">Train Accuracy: <span style=\"color: #008080; text-decoration-color: #008080; font-weight: bold\">0.8897058823529411</span>\n",
              "</pre>\n"
            ],
            "text/plain": [
              "Train Accuracy: \u001b[1;36m0.8897058823529411\u001b[0m\n"
            ]
          },
          "metadata": {
            "tags": []
          }
        },
        {
          "output_type": "display_data",
          "data": {
            "text/html": [
              "<pre style=\"white-space:pre;overflow-x:auto;line-height:normal;font-family:Menlo,'DejaVu Sans Mono',consolas,'Courier New',monospace\">Val Losses: <span style=\"color: #008080; text-decoration-color: #008080; font-weight: bold\">0.34630319476127625</span>\n",
              "</pre>\n"
            ],
            "text/plain": [
              "Val Losses: \u001b[1;36m0.34630319476127625\u001b[0m\n"
            ]
          },
          "metadata": {
            "tags": []
          }
        },
        {
          "output_type": "display_data",
          "data": {
            "text/html": [
              "<pre style=\"white-space:pre;overflow-x:auto;line-height:normal;font-family:Menlo,'DejaVu Sans Mono',consolas,'Courier New',monospace\">Val Accuracy: <span style=\"color: #008080; text-decoration-color: #008080; font-weight: bold\">0.8035714285714286</span>\n",
              "</pre>\n"
            ],
            "text/plain": [
              "Val Accuracy: \u001b[1;36m0.8035714285714286\u001b[0m\n"
            ]
          },
          "metadata": {
            "tags": []
          }
        },
        {
          "output_type": "display_data",
          "data": {
            "text/html": [
              "<pre style=\"white-space:pre;overflow-x:auto;line-height:normal;font-family:Menlo,'DejaVu Sans Mono',consolas,'Courier New',monospace\">-------------------------------------------------------------\n",
              "</pre>\n"
            ],
            "text/plain": [
              "-------------------------------------------------------------\n"
            ]
          },
          "metadata": {
            "tags": []
          }
        },
        {
          "output_type": "display_data",
          "data": {
            "text/html": [
              "<pre style=\"white-space:pre;overflow-x:auto;line-height:normal;font-family:Menlo,'DejaVu Sans Mono',consolas,'Courier New',monospace\">Training Epoch: <span style=\"color: #008080; text-decoration-color: #008080; font-weight: bold\">34</span>, <span style=\"color: #008000; text-decoration-color: #008000\">'LR:'</span>, <span style=\"font-weight: bold\">[</span><span style=\"color: #008080; text-decoration-color: #008080; font-weight: bold\">1e-05</span><span style=\"font-weight: bold\">]</span>\n",
              "</pre>\n"
            ],
            "text/plain": [
              "Training Epoch: \u001b[1;36m34\u001b[0m, \u001b[32m'LR:'\u001b[0m, \u001b[1m[\u001b[0m\u001b[1;36m1e-05\u001b[0m\u001b[1m]\u001b[0m\n"
            ]
          },
          "metadata": {
            "tags": []
          }
        },
        {
          "output_type": "display_data",
          "data": {
            "text/html": [
              "<pre style=\"white-space:pre;overflow-x:auto;line-height:normal;font-family:Menlo,'DejaVu Sans Mono',consolas,'Courier New',monospace\">Train Losses: <span style=\"color: #008080; text-decoration-color: #008080; font-weight: bold\">0.3908589394653545</span>\n",
              "</pre>\n"
            ],
            "text/plain": [
              "Train Losses: \u001b[1;36m0.3908589394653545\u001b[0m\n"
            ]
          },
          "metadata": {
            "tags": []
          }
        },
        {
          "output_type": "display_data",
          "data": {
            "text/html": [
              "<pre style=\"white-space:pre;overflow-x:auto;line-height:normal;font-family:Menlo,'DejaVu Sans Mono',consolas,'Courier New',monospace\">Train Accuracy: <span style=\"color: #008080; text-decoration-color: #008080; font-weight: bold\">0.8676470588235294</span>\n",
              "</pre>\n"
            ],
            "text/plain": [
              "Train Accuracy: \u001b[1;36m0.8676470588235294\u001b[0m\n"
            ]
          },
          "metadata": {
            "tags": []
          }
        },
        {
          "output_type": "display_data",
          "data": {
            "text/html": [
              "<pre style=\"white-space:pre;overflow-x:auto;line-height:normal;font-family:Menlo,'DejaVu Sans Mono',consolas,'Courier New',monospace\">Val Losses: <span style=\"color: #008080; text-decoration-color: #008080; font-weight: bold\">0.34690165519714355</span>\n",
              "</pre>\n"
            ],
            "text/plain": [
              "Val Losses: \u001b[1;36m0.34690165519714355\u001b[0m\n"
            ]
          },
          "metadata": {
            "tags": []
          }
        },
        {
          "output_type": "display_data",
          "data": {
            "text/html": [
              "<pre style=\"white-space:pre;overflow-x:auto;line-height:normal;font-family:Menlo,'DejaVu Sans Mono',consolas,'Courier New',monospace\">Val Accuracy: <span style=\"color: #008080; text-decoration-color: #008080; font-weight: bold\">0.8035714285714286</span>\n",
              "</pre>\n"
            ],
            "text/plain": [
              "Val Accuracy: \u001b[1;36m0.8035714285714286\u001b[0m\n"
            ]
          },
          "metadata": {
            "tags": []
          }
        },
        {
          "output_type": "display_data",
          "data": {
            "text/html": [
              "<pre style=\"white-space:pre;overflow-x:auto;line-height:normal;font-family:Menlo,'DejaVu Sans Mono',consolas,'Courier New',monospace\">-------------------------------------------------------------\n",
              "</pre>\n"
            ],
            "text/plain": [
              "-------------------------------------------------------------\n"
            ]
          },
          "metadata": {
            "tags": []
          }
        },
        {
          "output_type": "display_data",
          "data": {
            "text/html": [
              "<pre style=\"white-space:pre;overflow-x:auto;line-height:normal;font-family:Menlo,'DejaVu Sans Mono',consolas,'Courier New',monospace\">Training Epoch: <span style=\"color: #008080; text-decoration-color: #008080; font-weight: bold\">35</span>, <span style=\"color: #008000; text-decoration-color: #008000\">'LR:'</span>, <span style=\"font-weight: bold\">[</span><span style=\"color: #008080; text-decoration-color: #008080; font-weight: bold\">1e-05</span><span style=\"font-weight: bold\">]</span>\n",
              "</pre>\n"
            ],
            "text/plain": [
              "Training Epoch: \u001b[1;36m35\u001b[0m, \u001b[32m'LR:'\u001b[0m, \u001b[1m[\u001b[0m\u001b[1;36m1e-05\u001b[0m\u001b[1m]\u001b[0m\n"
            ]
          },
          "metadata": {
            "tags": []
          }
        },
        {
          "output_type": "display_data",
          "data": {
            "text/html": [
              "<pre style=\"white-space:pre;overflow-x:auto;line-height:normal;font-family:Menlo,'DejaVu Sans Mono',consolas,'Courier New',monospace\">Train Losses: <span style=\"color: #008080; text-decoration-color: #008080; font-weight: bold\">0.34060562796452465</span>\n",
              "</pre>\n"
            ],
            "text/plain": [
              "Train Losses: \u001b[1;36m0.34060562796452465\u001b[0m\n"
            ]
          },
          "metadata": {
            "tags": []
          }
        },
        {
          "output_type": "display_data",
          "data": {
            "text/html": [
              "<pre style=\"white-space:pre;overflow-x:auto;line-height:normal;font-family:Menlo,'DejaVu Sans Mono',consolas,'Courier New',monospace\">Train Accuracy: <span style=\"color: #008080; text-decoration-color: #008080; font-weight: bold\">0.875</span>\n",
              "</pre>\n"
            ],
            "text/plain": [
              "Train Accuracy: \u001b[1;36m0.875\u001b[0m\n"
            ]
          },
          "metadata": {
            "tags": []
          }
        },
        {
          "output_type": "display_data",
          "data": {
            "text/html": [
              "<pre style=\"white-space:pre;overflow-x:auto;line-height:normal;font-family:Menlo,'DejaVu Sans Mono',consolas,'Courier New',monospace\">Val Losses: <span style=\"color: #008080; text-decoration-color: #008080; font-weight: bold\">0.34691521525382996</span>\n",
              "</pre>\n"
            ],
            "text/plain": [
              "Val Losses: \u001b[1;36m0.34691521525382996\u001b[0m\n"
            ]
          },
          "metadata": {
            "tags": []
          }
        },
        {
          "output_type": "display_data",
          "data": {
            "text/html": [
              "<pre style=\"white-space:pre;overflow-x:auto;line-height:normal;font-family:Menlo,'DejaVu Sans Mono',consolas,'Courier New',monospace\">Val Accuracy: <span style=\"color: #008080; text-decoration-color: #008080; font-weight: bold\">0.8035714285714286</span>\n",
              "</pre>\n"
            ],
            "text/plain": [
              "Val Accuracy: \u001b[1;36m0.8035714285714286\u001b[0m\n"
            ]
          },
          "metadata": {
            "tags": []
          }
        },
        {
          "output_type": "display_data",
          "data": {
            "text/html": [
              "<pre style=\"white-space:pre;overflow-x:auto;line-height:normal;font-family:Menlo,'DejaVu Sans Mono',consolas,'Courier New',monospace\">-------------------------------------------------------------\n",
              "</pre>\n"
            ],
            "text/plain": [
              "-------------------------------------------------------------\n"
            ]
          },
          "metadata": {
            "tags": []
          }
        },
        {
          "output_type": "display_data",
          "data": {
            "text/html": [
              "<pre style=\"white-space:pre;overflow-x:auto;line-height:normal;font-family:Menlo,'DejaVu Sans Mono',consolas,'Courier New',monospace\">Training Epoch: <span style=\"color: #008080; text-decoration-color: #008080; font-weight: bold\">36</span>, <span style=\"color: #008000; text-decoration-color: #008000\">'LR:'</span>, <span style=\"font-weight: bold\">[</span><span style=\"color: #008080; text-decoration-color: #008080; font-weight: bold\">1e-05</span><span style=\"font-weight: bold\">]</span>\n",
              "</pre>\n"
            ],
            "text/plain": [
              "Training Epoch: \u001b[1;36m36\u001b[0m, \u001b[32m'LR:'\u001b[0m, \u001b[1m[\u001b[0m\u001b[1;36m1e-05\u001b[0m\u001b[1m]\u001b[0m\n"
            ]
          },
          "metadata": {
            "tags": []
          }
        },
        {
          "output_type": "display_data",
          "data": {
            "text/html": [
              "<pre style=\"white-space:pre;overflow-x:auto;line-height:normal;font-family:Menlo,'DejaVu Sans Mono',consolas,'Courier New',monospace\">Train Losses: <span style=\"color: #008080; text-decoration-color: #008080; font-weight: bold\">0.3272092298549764</span>\n",
              "</pre>\n"
            ],
            "text/plain": [
              "Train Losses: \u001b[1;36m0.3272092298549764\u001b[0m\n"
            ]
          },
          "metadata": {
            "tags": []
          }
        },
        {
          "output_type": "display_data",
          "data": {
            "text/html": [
              "<pre style=\"white-space:pre;overflow-x:auto;line-height:normal;font-family:Menlo,'DejaVu Sans Mono',consolas,'Courier New',monospace\">Train Accuracy: <span style=\"color: #008080; text-decoration-color: #008080; font-weight: bold\">0.9044117647058824</span>\n",
              "</pre>\n"
            ],
            "text/plain": [
              "Train Accuracy: \u001b[1;36m0.9044117647058824\u001b[0m\n"
            ]
          },
          "metadata": {
            "tags": []
          }
        },
        {
          "output_type": "display_data",
          "data": {
            "text/html": [
              "<pre style=\"white-space:pre;overflow-x:auto;line-height:normal;font-family:Menlo,'DejaVu Sans Mono',consolas,'Courier New',monospace\">Val Losses: <span style=\"color: #008080; text-decoration-color: #008080; font-weight: bold\">0.3475087285041809</span>\n",
              "</pre>\n"
            ],
            "text/plain": [
              "Val Losses: \u001b[1;36m0.3475087285041809\u001b[0m\n"
            ]
          },
          "metadata": {
            "tags": []
          }
        },
        {
          "output_type": "display_data",
          "data": {
            "text/html": [
              "<pre style=\"white-space:pre;overflow-x:auto;line-height:normal;font-family:Menlo,'DejaVu Sans Mono',consolas,'Courier New',monospace\">Val Accuracy: <span style=\"color: #008080; text-decoration-color: #008080; font-weight: bold\">0.8035714285714286</span>\n",
              "</pre>\n"
            ],
            "text/plain": [
              "Val Accuracy: \u001b[1;36m0.8035714285714286\u001b[0m\n"
            ]
          },
          "metadata": {
            "tags": []
          }
        },
        {
          "output_type": "display_data",
          "data": {
            "text/html": [
              "<pre style=\"white-space:pre;overflow-x:auto;line-height:normal;font-family:Menlo,'DejaVu Sans Mono',consolas,'Courier New',monospace\">-------------------------------------------------------------\n",
              "</pre>\n"
            ],
            "text/plain": [
              "-------------------------------------------------------------\n"
            ]
          },
          "metadata": {
            "tags": []
          }
        },
        {
          "output_type": "display_data",
          "data": {
            "text/html": [
              "<pre style=\"white-space:pre;overflow-x:auto;line-height:normal;font-family:Menlo,'DejaVu Sans Mono',consolas,'Courier New',monospace\">Training Epoch: <span style=\"color: #008080; text-decoration-color: #008080; font-weight: bold\">37</span>, <span style=\"color: #008000; text-decoration-color: #008000\">'LR:'</span>, <span style=\"font-weight: bold\">[</span><span style=\"color: #008080; text-decoration-color: #008080; font-weight: bold\">1e-05</span><span style=\"font-weight: bold\">]</span>\n",
              "</pre>\n"
            ],
            "text/plain": [
              "Training Epoch: \u001b[1;36m37\u001b[0m, \u001b[32m'LR:'\u001b[0m, \u001b[1m[\u001b[0m\u001b[1;36m1e-05\u001b[0m\u001b[1m]\u001b[0m\n"
            ]
          },
          "metadata": {
            "tags": []
          }
        },
        {
          "output_type": "display_data",
          "data": {
            "text/html": [
              "<pre style=\"white-space:pre;overflow-x:auto;line-height:normal;font-family:Menlo,'DejaVu Sans Mono',consolas,'Courier New',monospace\">Train Losses: <span style=\"color: #008080; text-decoration-color: #008080; font-weight: bold\">0.3196482982705621</span>\n",
              "</pre>\n"
            ],
            "text/plain": [
              "Train Losses: \u001b[1;36m0.3196482982705621\u001b[0m\n"
            ]
          },
          "metadata": {
            "tags": []
          }
        },
        {
          "output_type": "display_data",
          "data": {
            "text/html": [
              "<pre style=\"white-space:pre;overflow-x:auto;line-height:normal;font-family:Menlo,'DejaVu Sans Mono',consolas,'Courier New',monospace\">Train Accuracy: <span style=\"color: #008080; text-decoration-color: #008080; font-weight: bold\">0.8823529411764706</span>\n",
              "</pre>\n"
            ],
            "text/plain": [
              "Train Accuracy: \u001b[1;36m0.8823529411764706\u001b[0m\n"
            ]
          },
          "metadata": {
            "tags": []
          }
        },
        {
          "output_type": "display_data",
          "data": {
            "text/html": [
              "<pre style=\"white-space:pre;overflow-x:auto;line-height:normal;font-family:Menlo,'DejaVu Sans Mono',consolas,'Courier New',monospace\">Val Losses: <span style=\"color: #008080; text-decoration-color: #008080; font-weight: bold\">0.34824448823928833</span>\n",
              "</pre>\n"
            ],
            "text/plain": [
              "Val Losses: \u001b[1;36m0.34824448823928833\u001b[0m\n"
            ]
          },
          "metadata": {
            "tags": []
          }
        },
        {
          "output_type": "display_data",
          "data": {
            "text/html": [
              "<pre style=\"white-space:pre;overflow-x:auto;line-height:normal;font-family:Menlo,'DejaVu Sans Mono',consolas,'Courier New',monospace\">Val Accuracy: <span style=\"color: #008080; text-decoration-color: #008080; font-weight: bold\">0.8035714285714286</span>\n",
              "</pre>\n"
            ],
            "text/plain": [
              "Val Accuracy: \u001b[1;36m0.8035714285714286\u001b[0m\n"
            ]
          },
          "metadata": {
            "tags": []
          }
        },
        {
          "output_type": "display_data",
          "data": {
            "text/html": [
              "<pre style=\"white-space:pre;overflow-x:auto;line-height:normal;font-family:Menlo,'DejaVu Sans Mono',consolas,'Courier New',monospace\">-------------------------------------------------------------\n",
              "</pre>\n"
            ],
            "text/plain": [
              "-------------------------------------------------------------\n"
            ]
          },
          "metadata": {
            "tags": []
          }
        },
        {
          "output_type": "display_data",
          "data": {
            "text/html": [
              "<pre style=\"white-space:pre;overflow-x:auto;line-height:normal;font-family:Menlo,'DejaVu Sans Mono',consolas,'Courier New',monospace\">Training Epoch: <span style=\"color: #008080; text-decoration-color: #008080; font-weight: bold\">38</span>, <span style=\"color: #008000; text-decoration-color: #008000\">'LR:'</span>, <span style=\"font-weight: bold\">[</span><span style=\"color: #008080; text-decoration-color: #008080; font-weight: bold\">1e-05</span><span style=\"font-weight: bold\">]</span>\n",
              "</pre>\n"
            ],
            "text/plain": [
              "Training Epoch: \u001b[1;36m38\u001b[0m, \u001b[32m'LR:'\u001b[0m, \u001b[1m[\u001b[0m\u001b[1;36m1e-05\u001b[0m\u001b[1m]\u001b[0m\n"
            ]
          },
          "metadata": {
            "tags": []
          }
        },
        {
          "output_type": "display_data",
          "data": {
            "text/html": [
              "<pre style=\"white-space:pre;overflow-x:auto;line-height:normal;font-family:Menlo,'DejaVu Sans Mono',consolas,'Courier New',monospace\">Train Losses: <span style=\"color: #008080; text-decoration-color: #008080; font-weight: bold\">0.3568284827120164</span>\n",
              "</pre>\n"
            ],
            "text/plain": [
              "Train Losses: \u001b[1;36m0.3568284827120164\u001b[0m\n"
            ]
          },
          "metadata": {
            "tags": []
          }
        },
        {
          "output_type": "display_data",
          "data": {
            "text/html": [
              "<pre style=\"white-space:pre;overflow-x:auto;line-height:normal;font-family:Menlo,'DejaVu Sans Mono',consolas,'Courier New',monospace\">Train Accuracy: <span style=\"color: #008080; text-decoration-color: #008080; font-weight: bold\">0.8676470588235294</span>\n",
              "</pre>\n"
            ],
            "text/plain": [
              "Train Accuracy: \u001b[1;36m0.8676470588235294\u001b[0m\n"
            ]
          },
          "metadata": {
            "tags": []
          }
        },
        {
          "output_type": "display_data",
          "data": {
            "text/html": [
              "<pre style=\"white-space:pre;overflow-x:auto;line-height:normal;font-family:Menlo,'DejaVu Sans Mono',consolas,'Courier New',monospace\">Val Losses: <span style=\"color: #008080; text-decoration-color: #008080; font-weight: bold\">0.3492223024368286</span>\n",
              "</pre>\n"
            ],
            "text/plain": [
              "Val Losses: \u001b[1;36m0.3492223024368286\u001b[0m\n"
            ]
          },
          "metadata": {
            "tags": []
          }
        },
        {
          "output_type": "display_data",
          "data": {
            "text/html": [
              "<pre style=\"white-space:pre;overflow-x:auto;line-height:normal;font-family:Menlo,'DejaVu Sans Mono',consolas,'Courier New',monospace\">Val Accuracy: <span style=\"color: #008080; text-decoration-color: #008080; font-weight: bold\">0.8035714285714286</span>\n",
              "</pre>\n"
            ],
            "text/plain": [
              "Val Accuracy: \u001b[1;36m0.8035714285714286\u001b[0m\n"
            ]
          },
          "metadata": {
            "tags": []
          }
        },
        {
          "output_type": "display_data",
          "data": {
            "text/html": [
              "<pre style=\"white-space:pre;overflow-x:auto;line-height:normal;font-family:Menlo,'DejaVu Sans Mono',consolas,'Courier New',monospace\">-------------------------------------------------------------\n",
              "</pre>\n"
            ],
            "text/plain": [
              "-------------------------------------------------------------\n"
            ]
          },
          "metadata": {
            "tags": []
          }
        },
        {
          "output_type": "display_data",
          "data": {
            "text/html": [
              "<pre style=\"white-space:pre;overflow-x:auto;line-height:normal;font-family:Menlo,'DejaVu Sans Mono',consolas,'Courier New',monospace\">Training Epoch: <span style=\"color: #008080; text-decoration-color: #008080; font-weight: bold\">39</span>, <span style=\"color: #008000; text-decoration-color: #008000\">'LR:'</span>, <span style=\"font-weight: bold\">[</span><span style=\"color: #008080; text-decoration-color: #008080; font-weight: bold\">1e-05</span><span style=\"font-weight: bold\">]</span>\n",
              "</pre>\n"
            ],
            "text/plain": [
              "Training Epoch: \u001b[1;36m39\u001b[0m, \u001b[32m'LR:'\u001b[0m, \u001b[1m[\u001b[0m\u001b[1;36m1e-05\u001b[0m\u001b[1m]\u001b[0m\n"
            ]
          },
          "metadata": {
            "tags": []
          }
        },
        {
          "output_type": "display_data",
          "data": {
            "text/html": [
              "<pre style=\"white-space:pre;overflow-x:auto;line-height:normal;font-family:Menlo,'DejaVu Sans Mono',consolas,'Courier New',monospace\">Train Losses: <span style=\"color: #008080; text-decoration-color: #008080; font-weight: bold\">0.3843451628790182</span>\n",
              "</pre>\n"
            ],
            "text/plain": [
              "Train Losses: \u001b[1;36m0.3843451628790182\u001b[0m\n"
            ]
          },
          "metadata": {
            "tags": []
          }
        },
        {
          "output_type": "display_data",
          "data": {
            "text/html": [
              "<pre style=\"white-space:pre;overflow-x:auto;line-height:normal;font-family:Menlo,'DejaVu Sans Mono',consolas,'Courier New',monospace\">Train Accuracy: <span style=\"color: #008080; text-decoration-color: #008080; font-weight: bold\">0.8382352941176471</span>\n",
              "</pre>\n"
            ],
            "text/plain": [
              "Train Accuracy: \u001b[1;36m0.8382352941176471\u001b[0m\n"
            ]
          },
          "metadata": {
            "tags": []
          }
        },
        {
          "output_type": "display_data",
          "data": {
            "text/html": [
              "<pre style=\"white-space:pre;overflow-x:auto;line-height:normal;font-family:Menlo,'DejaVu Sans Mono',consolas,'Courier New',monospace\">Val Losses: <span style=\"color: #008080; text-decoration-color: #008080; font-weight: bold\">0.34983348846435547</span>\n",
              "</pre>\n"
            ],
            "text/plain": [
              "Val Losses: \u001b[1;36m0.34983348846435547\u001b[0m\n"
            ]
          },
          "metadata": {
            "tags": []
          }
        },
        {
          "output_type": "display_data",
          "data": {
            "text/html": [
              "<pre style=\"white-space:pre;overflow-x:auto;line-height:normal;font-family:Menlo,'DejaVu Sans Mono',consolas,'Courier New',monospace\">Val Accuracy: <span style=\"color: #008080; text-decoration-color: #008080; font-weight: bold\">0.8214285714285714</span>\n",
              "</pre>\n"
            ],
            "text/plain": [
              "Val Accuracy: \u001b[1;36m0.8214285714285714\u001b[0m\n"
            ]
          },
          "metadata": {
            "tags": []
          }
        },
        {
          "output_type": "display_data",
          "data": {
            "text/html": [
              "<pre style=\"white-space:pre;overflow-x:auto;line-height:normal;font-family:Menlo,'DejaVu Sans Mono',consolas,'Courier New',monospace\">-------------------------------------------------------------\n",
              "</pre>\n"
            ],
            "text/plain": [
              "-------------------------------------------------------------\n"
            ]
          },
          "metadata": {
            "tags": []
          }
        },
        {
          "output_type": "display_data",
          "data": {
            "text/html": [
              "<pre style=\"white-space:pre;overflow-x:auto;line-height:normal;font-family:Menlo,'DejaVu Sans Mono',consolas,'Courier New',monospace\">Training Epoch: <span style=\"color: #008080; text-decoration-color: #008080; font-weight: bold\">40</span>, <span style=\"color: #008000; text-decoration-color: #008000\">'LR:'</span>, <span style=\"font-weight: bold\">[</span><span style=\"color: #008080; text-decoration-color: #008080; font-weight: bold\">1.0000000000000002e-06</span><span style=\"font-weight: bold\">]</span>\n",
              "</pre>\n"
            ],
            "text/plain": [
              "Training Epoch: \u001b[1;36m40\u001b[0m, \u001b[32m'LR:'\u001b[0m, \u001b[1m[\u001b[0m\u001b[1;36m1.0000000000000002e-06\u001b[0m\u001b[1m]\u001b[0m\n"
            ]
          },
          "metadata": {
            "tags": []
          }
        },
        {
          "output_type": "display_data",
          "data": {
            "text/html": [
              "<pre style=\"white-space:pre;overflow-x:auto;line-height:normal;font-family:Menlo,'DejaVu Sans Mono',consolas,'Courier New',monospace\">Train Losses: <span style=\"color: #008080; text-decoration-color: #008080; font-weight: bold\">0.3270830433158314</span>\n",
              "</pre>\n"
            ],
            "text/plain": [
              "Train Losses: \u001b[1;36m0.3270830433158314\u001b[0m\n"
            ]
          },
          "metadata": {
            "tags": []
          }
        },
        {
          "output_type": "display_data",
          "data": {
            "text/html": [
              "<pre style=\"white-space:pre;overflow-x:auto;line-height:normal;font-family:Menlo,'DejaVu Sans Mono',consolas,'Courier New',monospace\">Train Accuracy: <span style=\"color: #008080; text-decoration-color: #008080; font-weight: bold\">0.8676470588235294</span>\n",
              "</pre>\n"
            ],
            "text/plain": [
              "Train Accuracy: \u001b[1;36m0.8676470588235294\u001b[0m\n"
            ]
          },
          "metadata": {
            "tags": []
          }
        },
        {
          "output_type": "display_data",
          "data": {
            "text/html": [
              "<pre style=\"white-space:pre;overflow-x:auto;line-height:normal;font-family:Menlo,'DejaVu Sans Mono',consolas,'Courier New',monospace\">Val Losses: <span style=\"color: #008080; text-decoration-color: #008080; font-weight: bold\">0.3500281572341919</span>\n",
              "</pre>\n"
            ],
            "text/plain": [
              "Val Losses: \u001b[1;36m0.3500281572341919\u001b[0m\n"
            ]
          },
          "metadata": {
            "tags": []
          }
        },
        {
          "output_type": "display_data",
          "data": {
            "text/html": [
              "<pre style=\"white-space:pre;overflow-x:auto;line-height:normal;font-family:Menlo,'DejaVu Sans Mono',consolas,'Courier New',monospace\">Val Accuracy: <span style=\"color: #008080; text-decoration-color: #008080; font-weight: bold\">0.8214285714285714</span>\n",
              "</pre>\n"
            ],
            "text/plain": [
              "Val Accuracy: \u001b[1;36m0.8214285714285714\u001b[0m\n"
            ]
          },
          "metadata": {
            "tags": []
          }
        },
        {
          "output_type": "display_data",
          "data": {
            "text/html": [
              "<pre style=\"white-space:pre;overflow-x:auto;line-height:normal;font-family:Menlo,'DejaVu Sans Mono',consolas,'Courier New',monospace\">-------------------------------------------------------------\n",
              "</pre>\n"
            ],
            "text/plain": [
              "-------------------------------------------------------------\n"
            ]
          },
          "metadata": {
            "tags": []
          }
        },
        {
          "output_type": "display_data",
          "data": {
            "text/html": [
              "<pre style=\"white-space:pre;overflow-x:auto;line-height:normal;font-family:Menlo,'DejaVu Sans Mono',consolas,'Courier New',monospace\">Training Epoch: <span style=\"color: #008080; text-decoration-color: #008080; font-weight: bold\">41</span>, <span style=\"color: #008000; text-decoration-color: #008000\">'LR:'</span>, <span style=\"font-weight: bold\">[</span><span style=\"color: #008080; text-decoration-color: #008080; font-weight: bold\">1.0000000000000002e-06</span><span style=\"font-weight: bold\">]</span>\n",
              "</pre>\n"
            ],
            "text/plain": [
              "Training Epoch: \u001b[1;36m41\u001b[0m, \u001b[32m'LR:'\u001b[0m, \u001b[1m[\u001b[0m\u001b[1;36m1.0000000000000002e-06\u001b[0m\u001b[1m]\u001b[0m\n"
            ]
          },
          "metadata": {
            "tags": []
          }
        },
        {
          "output_type": "display_data",
          "data": {
            "text/html": [
              "<pre style=\"white-space:pre;overflow-x:auto;line-height:normal;font-family:Menlo,'DejaVu Sans Mono',consolas,'Courier New',monospace\">Train Losses: <span style=\"color: #008080; text-decoration-color: #008080; font-weight: bold\">0.33871641316834616</span>\n",
              "</pre>\n"
            ],
            "text/plain": [
              "Train Losses: \u001b[1;36m0.33871641316834616\u001b[0m\n"
            ]
          },
          "metadata": {
            "tags": []
          }
        },
        {
          "output_type": "display_data",
          "data": {
            "text/html": [
              "<pre style=\"white-space:pre;overflow-x:auto;line-height:normal;font-family:Menlo,'DejaVu Sans Mono',consolas,'Courier New',monospace\">Train Accuracy: <span style=\"color: #008080; text-decoration-color: #008080; font-weight: bold\">0.8455882352941176</span>\n",
              "</pre>\n"
            ],
            "text/plain": [
              "Train Accuracy: \u001b[1;36m0.8455882352941176\u001b[0m\n"
            ]
          },
          "metadata": {
            "tags": []
          }
        },
        {
          "output_type": "display_data",
          "data": {
            "text/html": [
              "<pre style=\"white-space:pre;overflow-x:auto;line-height:normal;font-family:Menlo,'DejaVu Sans Mono',consolas,'Courier New',monospace\">Val Losses: <span style=\"color: #008080; text-decoration-color: #008080; font-weight: bold\">0.35017675161361694</span>\n",
              "</pre>\n"
            ],
            "text/plain": [
              "Val Losses: \u001b[1;36m0.35017675161361694\u001b[0m\n"
            ]
          },
          "metadata": {
            "tags": []
          }
        },
        {
          "output_type": "display_data",
          "data": {
            "text/html": [
              "<pre style=\"white-space:pre;overflow-x:auto;line-height:normal;font-family:Menlo,'DejaVu Sans Mono',consolas,'Courier New',monospace\">Val Accuracy: <span style=\"color: #008080; text-decoration-color: #008080; font-weight: bold\">0.8214285714285714</span>\n",
              "</pre>\n"
            ],
            "text/plain": [
              "Val Accuracy: \u001b[1;36m0.8214285714285714\u001b[0m\n"
            ]
          },
          "metadata": {
            "tags": []
          }
        },
        {
          "output_type": "display_data",
          "data": {
            "text/html": [
              "<pre style=\"white-space:pre;overflow-x:auto;line-height:normal;font-family:Menlo,'DejaVu Sans Mono',consolas,'Courier New',monospace\">-------------------------------------------------------------\n",
              "</pre>\n"
            ],
            "text/plain": [
              "-------------------------------------------------------------\n"
            ]
          },
          "metadata": {
            "tags": []
          }
        },
        {
          "output_type": "display_data",
          "data": {
            "text/html": [
              "<pre style=\"white-space:pre;overflow-x:auto;line-height:normal;font-family:Menlo,'DejaVu Sans Mono',consolas,'Courier New',monospace\">Training Epoch: <span style=\"color: #008080; text-decoration-color: #008080; font-weight: bold\">42</span>, <span style=\"color: #008000; text-decoration-color: #008000\">'LR:'</span>, <span style=\"font-weight: bold\">[</span><span style=\"color: #008080; text-decoration-color: #008080; font-weight: bold\">1.0000000000000002e-06</span><span style=\"font-weight: bold\">]</span>\n",
              "</pre>\n"
            ],
            "text/plain": [
              "Training Epoch: \u001b[1;36m42\u001b[0m, \u001b[32m'LR:'\u001b[0m, \u001b[1m[\u001b[0m\u001b[1;36m1.0000000000000002e-06\u001b[0m\u001b[1m]\u001b[0m\n"
            ]
          },
          "metadata": {
            "tags": []
          }
        },
        {
          "output_type": "display_data",
          "data": {
            "text/html": [
              "<pre style=\"white-space:pre;overflow-x:auto;line-height:normal;font-family:Menlo,'DejaVu Sans Mono',consolas,'Courier New',monospace\">Train Losses: <span style=\"color: #008080; text-decoration-color: #008080; font-weight: bold\">0.3329591260236852</span>\n",
              "</pre>\n"
            ],
            "text/plain": [
              "Train Losses: \u001b[1;36m0.3329591260236852\u001b[0m\n"
            ]
          },
          "metadata": {
            "tags": []
          }
        },
        {
          "output_type": "display_data",
          "data": {
            "text/html": [
              "<pre style=\"white-space:pre;overflow-x:auto;line-height:normal;font-family:Menlo,'DejaVu Sans Mono',consolas,'Courier New',monospace\">Train Accuracy: <span style=\"color: #008080; text-decoration-color: #008080; font-weight: bold\">0.8970588235294118</span>\n",
              "</pre>\n"
            ],
            "text/plain": [
              "Train Accuracy: \u001b[1;36m0.8970588235294118\u001b[0m\n"
            ]
          },
          "metadata": {
            "tags": []
          }
        },
        {
          "output_type": "display_data",
          "data": {
            "text/html": [
              "<pre style=\"white-space:pre;overflow-x:auto;line-height:normal;font-family:Menlo,'DejaVu Sans Mono',consolas,'Courier New',monospace\">Val Losses: <span style=\"color: #008080; text-decoration-color: #008080; font-weight: bold\">0.35026416182518005</span>\n",
              "</pre>\n"
            ],
            "text/plain": [
              "Val Losses: \u001b[1;36m0.35026416182518005\u001b[0m\n"
            ]
          },
          "metadata": {
            "tags": []
          }
        },
        {
          "output_type": "display_data",
          "data": {
            "text/html": [
              "<pre style=\"white-space:pre;overflow-x:auto;line-height:normal;font-family:Menlo,'DejaVu Sans Mono',consolas,'Courier New',monospace\">Val Accuracy: <span style=\"color: #008080; text-decoration-color: #008080; font-weight: bold\">0.8214285714285714</span>\n",
              "</pre>\n"
            ],
            "text/plain": [
              "Val Accuracy: \u001b[1;36m0.8214285714285714\u001b[0m\n"
            ]
          },
          "metadata": {
            "tags": []
          }
        },
        {
          "output_type": "display_data",
          "data": {
            "text/html": [
              "<pre style=\"white-space:pre;overflow-x:auto;line-height:normal;font-family:Menlo,'DejaVu Sans Mono',consolas,'Courier New',monospace\">-------------------------------------------------------------\n",
              "</pre>\n"
            ],
            "text/plain": [
              "-------------------------------------------------------------\n"
            ]
          },
          "metadata": {
            "tags": []
          }
        },
        {
          "output_type": "display_data",
          "data": {
            "text/html": [
              "<pre style=\"white-space:pre;overflow-x:auto;line-height:normal;font-family:Menlo,'DejaVu Sans Mono',consolas,'Courier New',monospace\">Training Epoch: <span style=\"color: #008080; text-decoration-color: #008080; font-weight: bold\">43</span>, <span style=\"color: #008000; text-decoration-color: #008000\">'LR:'</span>, <span style=\"font-weight: bold\">[</span><span style=\"color: #008080; text-decoration-color: #008080; font-weight: bold\">1.0000000000000002e-06</span><span style=\"font-weight: bold\">]</span>\n",
              "</pre>\n"
            ],
            "text/plain": [
              "Training Epoch: \u001b[1;36m43\u001b[0m, \u001b[32m'LR:'\u001b[0m, \u001b[1m[\u001b[0m\u001b[1;36m1.0000000000000002e-06\u001b[0m\u001b[1m]\u001b[0m\n"
            ]
          },
          "metadata": {
            "tags": []
          }
        },
        {
          "output_type": "display_data",
          "data": {
            "text/html": [
              "<pre style=\"white-space:pre;overflow-x:auto;line-height:normal;font-family:Menlo,'DejaVu Sans Mono',consolas,'Courier New',monospace\">Train Losses: <span style=\"color: #008080; text-decoration-color: #008080; font-weight: bold\">0.3531329202301362</span>\n",
              "</pre>\n"
            ],
            "text/plain": [
              "Train Losses: \u001b[1;36m0.3531329202301362\u001b[0m\n"
            ]
          },
          "metadata": {
            "tags": []
          }
        },
        {
          "output_type": "display_data",
          "data": {
            "text/html": [
              "<pre style=\"white-space:pre;overflow-x:auto;line-height:normal;font-family:Menlo,'DejaVu Sans Mono',consolas,'Courier New',monospace\">Train Accuracy: <span style=\"color: #008080; text-decoration-color: #008080; font-weight: bold\">0.8676470588235294</span>\n",
              "</pre>\n"
            ],
            "text/plain": [
              "Train Accuracy: \u001b[1;36m0.8676470588235294\u001b[0m\n"
            ]
          },
          "metadata": {
            "tags": []
          }
        },
        {
          "output_type": "display_data",
          "data": {
            "text/html": [
              "<pre style=\"white-space:pre;overflow-x:auto;line-height:normal;font-family:Menlo,'DejaVu Sans Mono',consolas,'Courier New',monospace\">Val Losses: <span style=\"color: #008080; text-decoration-color: #008080; font-weight: bold\">0.3502872586250305</span>\n",
              "</pre>\n"
            ],
            "text/plain": [
              "Val Losses: \u001b[1;36m0.3502872586250305\u001b[0m\n"
            ]
          },
          "metadata": {
            "tags": []
          }
        },
        {
          "output_type": "display_data",
          "data": {
            "text/html": [
              "<pre style=\"white-space:pre;overflow-x:auto;line-height:normal;font-family:Menlo,'DejaVu Sans Mono',consolas,'Courier New',monospace\">Val Accuracy: <span style=\"color: #008080; text-decoration-color: #008080; font-weight: bold\">0.8214285714285714</span>\n",
              "</pre>\n"
            ],
            "text/plain": [
              "Val Accuracy: \u001b[1;36m0.8214285714285714\u001b[0m\n"
            ]
          },
          "metadata": {
            "tags": []
          }
        },
        {
          "output_type": "display_data",
          "data": {
            "text/html": [
              "<pre style=\"white-space:pre;overflow-x:auto;line-height:normal;font-family:Menlo,'DejaVu Sans Mono',consolas,'Courier New',monospace\">-------------------------------------------------------------\n",
              "</pre>\n"
            ],
            "text/plain": [
              "-------------------------------------------------------------\n"
            ]
          },
          "metadata": {
            "tags": []
          }
        },
        {
          "output_type": "display_data",
          "data": {
            "text/html": [
              "<pre style=\"white-space:pre;overflow-x:auto;line-height:normal;font-family:Menlo,'DejaVu Sans Mono',consolas,'Courier New',monospace\">Training Epoch: <span style=\"color: #008080; text-decoration-color: #008080; font-weight: bold\">44</span>, <span style=\"color: #008000; text-decoration-color: #008000\">'LR:'</span>, <span style=\"font-weight: bold\">[</span><span style=\"color: #008080; text-decoration-color: #008080; font-weight: bold\">1.0000000000000002e-06</span><span style=\"font-weight: bold\">]</span>\n",
              "</pre>\n"
            ],
            "text/plain": [
              "Training Epoch: \u001b[1;36m44\u001b[0m, \u001b[32m'LR:'\u001b[0m, \u001b[1m[\u001b[0m\u001b[1;36m1.0000000000000002e-06\u001b[0m\u001b[1m]\u001b[0m\n"
            ]
          },
          "metadata": {
            "tags": []
          }
        },
        {
          "output_type": "display_data",
          "data": {
            "text/html": [
              "<pre style=\"white-space:pre;overflow-x:auto;line-height:normal;font-family:Menlo,'DejaVu Sans Mono',consolas,'Courier New',monospace\">Train Losses: <span style=\"color: #008080; text-decoration-color: #008080; font-weight: bold\">0.35805752522805157</span>\n",
              "</pre>\n"
            ],
            "text/plain": [
              "Train Losses: \u001b[1;36m0.35805752522805157\u001b[0m\n"
            ]
          },
          "metadata": {
            "tags": []
          }
        },
        {
          "output_type": "display_data",
          "data": {
            "text/html": [
              "<pre style=\"white-space:pre;overflow-x:auto;line-height:normal;font-family:Menlo,'DejaVu Sans Mono',consolas,'Courier New',monospace\">Train Accuracy: <span style=\"color: #008080; text-decoration-color: #008080; font-weight: bold\">0.8676470588235294</span>\n",
              "</pre>\n"
            ],
            "text/plain": [
              "Train Accuracy: \u001b[1;36m0.8676470588235294\u001b[0m\n"
            ]
          },
          "metadata": {
            "tags": []
          }
        },
        {
          "output_type": "display_data",
          "data": {
            "text/html": [
              "<pre style=\"white-space:pre;overflow-x:auto;line-height:normal;font-family:Menlo,'DejaVu Sans Mono',consolas,'Courier New',monospace\">Val Losses: <span style=\"color: #008080; text-decoration-color: #008080; font-weight: bold\">0.3503054678440094</span>\n",
              "</pre>\n"
            ],
            "text/plain": [
              "Val Losses: \u001b[1;36m0.3503054678440094\u001b[0m\n"
            ]
          },
          "metadata": {
            "tags": []
          }
        },
        {
          "output_type": "display_data",
          "data": {
            "text/html": [
              "<pre style=\"white-space:pre;overflow-x:auto;line-height:normal;font-family:Menlo,'DejaVu Sans Mono',consolas,'Courier New',monospace\">Val Accuracy: <span style=\"color: #008080; text-decoration-color: #008080; font-weight: bold\">0.8214285714285714</span>\n",
              "</pre>\n"
            ],
            "text/plain": [
              "Val Accuracy: \u001b[1;36m0.8214285714285714\u001b[0m\n"
            ]
          },
          "metadata": {
            "tags": []
          }
        },
        {
          "output_type": "display_data",
          "data": {
            "text/html": [
              "<pre style=\"white-space:pre;overflow-x:auto;line-height:normal;font-family:Menlo,'DejaVu Sans Mono',consolas,'Courier New',monospace\">-------------------------------------------------------------\n",
              "</pre>\n"
            ],
            "text/plain": [
              "-------------------------------------------------------------\n"
            ]
          },
          "metadata": {
            "tags": []
          }
        },
        {
          "output_type": "display_data",
          "data": {
            "text/html": [
              "<pre style=\"white-space:pre;overflow-x:auto;line-height:normal;font-family:Menlo,'DejaVu Sans Mono',consolas,'Courier New',monospace\">Training Epoch: <span style=\"color: #008080; text-decoration-color: #008080; font-weight: bold\">45</span>, <span style=\"color: #008000; text-decoration-color: #008000\">'LR:'</span>, <span style=\"font-weight: bold\">[</span><span style=\"color: #008080; text-decoration-color: #008080; font-weight: bold\">1.0000000000000002e-06</span><span style=\"font-weight: bold\">]</span>\n",
              "</pre>\n"
            ],
            "text/plain": [
              "Training Epoch: \u001b[1;36m45\u001b[0m, \u001b[32m'LR:'\u001b[0m, \u001b[1m[\u001b[0m\u001b[1;36m1.0000000000000002e-06\u001b[0m\u001b[1m]\u001b[0m\n"
            ]
          },
          "metadata": {
            "tags": []
          }
        },
        {
          "output_type": "display_data",
          "data": {
            "text/html": [
              "<pre style=\"white-space:pre;overflow-x:auto;line-height:normal;font-family:Menlo,'DejaVu Sans Mono',consolas,'Courier New',monospace\">Train Losses: <span style=\"color: #008080; text-decoration-color: #008080; font-weight: bold\">0.3325767977272763</span>\n",
              "</pre>\n"
            ],
            "text/plain": [
              "Train Losses: \u001b[1;36m0.3325767977272763\u001b[0m\n"
            ]
          },
          "metadata": {
            "tags": []
          }
        },
        {
          "output_type": "display_data",
          "data": {
            "text/html": [
              "<pre style=\"white-space:pre;overflow-x:auto;line-height:normal;font-family:Menlo,'DejaVu Sans Mono',consolas,'Courier New',monospace\">Train Accuracy: <span style=\"color: #008080; text-decoration-color: #008080; font-weight: bold\">0.8382352941176471</span>\n",
              "</pre>\n"
            ],
            "text/plain": [
              "Train Accuracy: \u001b[1;36m0.8382352941176471\u001b[0m\n"
            ]
          },
          "metadata": {
            "tags": []
          }
        },
        {
          "output_type": "display_data",
          "data": {
            "text/html": [
              "<pre style=\"white-space:pre;overflow-x:auto;line-height:normal;font-family:Menlo,'DejaVu Sans Mono',consolas,'Courier New',monospace\">Val Losses: <span style=\"color: #008080; text-decoration-color: #008080; font-weight: bold\">0.3503492474555969</span>\n",
              "</pre>\n"
            ],
            "text/plain": [
              "Val Losses: \u001b[1;36m0.3503492474555969\u001b[0m\n"
            ]
          },
          "metadata": {
            "tags": []
          }
        },
        {
          "output_type": "display_data",
          "data": {
            "text/html": [
              "<pre style=\"white-space:pre;overflow-x:auto;line-height:normal;font-family:Menlo,'DejaVu Sans Mono',consolas,'Courier New',monospace\">Val Accuracy: <span style=\"color: #008080; text-decoration-color: #008080; font-weight: bold\">0.8214285714285714</span>\n",
              "</pre>\n"
            ],
            "text/plain": [
              "Val Accuracy: \u001b[1;36m0.8214285714285714\u001b[0m\n"
            ]
          },
          "metadata": {
            "tags": []
          }
        },
        {
          "output_type": "display_data",
          "data": {
            "text/html": [
              "<pre style=\"white-space:pre;overflow-x:auto;line-height:normal;font-family:Menlo,'DejaVu Sans Mono',consolas,'Courier New',monospace\">-------------------------------------------------------------\n",
              "</pre>\n"
            ],
            "text/plain": [
              "-------------------------------------------------------------\n"
            ]
          },
          "metadata": {
            "tags": []
          }
        },
        {
          "output_type": "display_data",
          "data": {
            "text/html": [
              "<pre style=\"white-space:pre;overflow-x:auto;line-height:normal;font-family:Menlo,'DejaVu Sans Mono',consolas,'Courier New',monospace\">Training Epoch: <span style=\"color: #008080; text-decoration-color: #008080; font-weight: bold\">46</span>, <span style=\"color: #008000; text-decoration-color: #008000\">'LR:'</span>, <span style=\"font-weight: bold\">[</span><span style=\"color: #008080; text-decoration-color: #008080; font-weight: bold\">1.0000000000000002e-06</span><span style=\"font-weight: bold\">]</span>\n",
              "</pre>\n"
            ],
            "text/plain": [
              "Training Epoch: \u001b[1;36m46\u001b[0m, \u001b[32m'LR:'\u001b[0m, \u001b[1m[\u001b[0m\u001b[1;36m1.0000000000000002e-06\u001b[0m\u001b[1m]\u001b[0m\n"
            ]
          },
          "metadata": {
            "tags": []
          }
        },
        {
          "output_type": "display_data",
          "data": {
            "text/html": [
              "<pre style=\"white-space:pre;overflow-x:auto;line-height:normal;font-family:Menlo,'DejaVu Sans Mono',consolas,'Courier New',monospace\">Train Losses: <span style=\"color: #008080; text-decoration-color: #008080; font-weight: bold\">0.3891728301258648</span>\n",
              "</pre>\n"
            ],
            "text/plain": [
              "Train Losses: \u001b[1;36m0.3891728301258648\u001b[0m\n"
            ]
          },
          "metadata": {
            "tags": []
          }
        },
        {
          "output_type": "display_data",
          "data": {
            "text/html": [
              "<pre style=\"white-space:pre;overflow-x:auto;line-height:normal;font-family:Menlo,'DejaVu Sans Mono',consolas,'Courier New',monospace\">Train Accuracy: <span style=\"color: #008080; text-decoration-color: #008080; font-weight: bold\">0.8823529411764706</span>\n",
              "</pre>\n"
            ],
            "text/plain": [
              "Train Accuracy: \u001b[1;36m0.8823529411764706\u001b[0m\n"
            ]
          },
          "metadata": {
            "tags": []
          }
        },
        {
          "output_type": "display_data",
          "data": {
            "text/html": [
              "<pre style=\"white-space:pre;overflow-x:auto;line-height:normal;font-family:Menlo,'DejaVu Sans Mono',consolas,'Courier New',monospace\">Val Losses: <span style=\"color: #008080; text-decoration-color: #008080; font-weight: bold\">0.3504311442375183</span>\n",
              "</pre>\n"
            ],
            "text/plain": [
              "Val Losses: \u001b[1;36m0.3504311442375183\u001b[0m\n"
            ]
          },
          "metadata": {
            "tags": []
          }
        },
        {
          "output_type": "display_data",
          "data": {
            "text/html": [
              "<pre style=\"white-space:pre;overflow-x:auto;line-height:normal;font-family:Menlo,'DejaVu Sans Mono',consolas,'Courier New',monospace\">Val Accuracy: <span style=\"color: #008080; text-decoration-color: #008080; font-weight: bold\">0.8214285714285714</span>\n",
              "</pre>\n"
            ],
            "text/plain": [
              "Val Accuracy: \u001b[1;36m0.8214285714285714\u001b[0m\n"
            ]
          },
          "metadata": {
            "tags": []
          }
        },
        {
          "output_type": "display_data",
          "data": {
            "text/html": [
              "<pre style=\"white-space:pre;overflow-x:auto;line-height:normal;font-family:Menlo,'DejaVu Sans Mono',consolas,'Courier New',monospace\">-------------------------------------------------------------\n",
              "</pre>\n"
            ],
            "text/plain": [
              "-------------------------------------------------------------\n"
            ]
          },
          "metadata": {
            "tags": []
          }
        },
        {
          "output_type": "display_data",
          "data": {
            "text/html": [
              "<pre style=\"white-space:pre;overflow-x:auto;line-height:normal;font-family:Menlo,'DejaVu Sans Mono',consolas,'Courier New',monospace\">Training Epoch: <span style=\"color: #008080; text-decoration-color: #008080; font-weight: bold\">47</span>, <span style=\"color: #008000; text-decoration-color: #008000\">'LR:'</span>, <span style=\"font-weight: bold\">[</span><span style=\"color: #008080; text-decoration-color: #008080; font-weight: bold\">1.0000000000000002e-06</span><span style=\"font-weight: bold\">]</span>\n",
              "</pre>\n"
            ],
            "text/plain": [
              "Training Epoch: \u001b[1;36m47\u001b[0m, \u001b[32m'LR:'\u001b[0m, \u001b[1m[\u001b[0m\u001b[1;36m1.0000000000000002e-06\u001b[0m\u001b[1m]\u001b[0m\n"
            ]
          },
          "metadata": {
            "tags": []
          }
        },
        {
          "output_type": "display_data",
          "data": {
            "text/html": [
              "<pre style=\"white-space:pre;overflow-x:auto;line-height:normal;font-family:Menlo,'DejaVu Sans Mono',consolas,'Courier New',monospace\">Train Losses: <span style=\"color: #008080; text-decoration-color: #008080; font-weight: bold\">0.3415691913927303</span>\n",
              "</pre>\n"
            ],
            "text/plain": [
              "Train Losses: \u001b[1;36m0.3415691913927303\u001b[0m\n"
            ]
          },
          "metadata": {
            "tags": []
          }
        },
        {
          "output_type": "display_data",
          "data": {
            "text/html": [
              "<pre style=\"white-space:pre;overflow-x:auto;line-height:normal;font-family:Menlo,'DejaVu Sans Mono',consolas,'Courier New',monospace\">Train Accuracy: <span style=\"color: #008080; text-decoration-color: #008080; font-weight: bold\">0.8308823529411765</span>\n",
              "</pre>\n"
            ],
            "text/plain": [
              "Train Accuracy: \u001b[1;36m0.8308823529411765\u001b[0m\n"
            ]
          },
          "metadata": {
            "tags": []
          }
        },
        {
          "output_type": "display_data",
          "data": {
            "text/html": [
              "<pre style=\"white-space:pre;overflow-x:auto;line-height:normal;font-family:Menlo,'DejaVu Sans Mono',consolas,'Courier New',monospace\">Val Losses: <span style=\"color: #008080; text-decoration-color: #008080; font-weight: bold\">0.35049256682395935</span>\n",
              "</pre>\n"
            ],
            "text/plain": [
              "Val Losses: \u001b[1;36m0.35049256682395935\u001b[0m\n"
            ]
          },
          "metadata": {
            "tags": []
          }
        },
        {
          "output_type": "display_data",
          "data": {
            "text/html": [
              "<pre style=\"white-space:pre;overflow-x:auto;line-height:normal;font-family:Menlo,'DejaVu Sans Mono',consolas,'Courier New',monospace\">Val Accuracy: <span style=\"color: #008080; text-decoration-color: #008080; font-weight: bold\">0.8214285714285714</span>\n",
              "</pre>\n"
            ],
            "text/plain": [
              "Val Accuracy: \u001b[1;36m0.8214285714285714\u001b[0m\n"
            ]
          },
          "metadata": {
            "tags": []
          }
        },
        {
          "output_type": "display_data",
          "data": {
            "text/html": [
              "<pre style=\"white-space:pre;overflow-x:auto;line-height:normal;font-family:Menlo,'DejaVu Sans Mono',consolas,'Courier New',monospace\">-------------------------------------------------------------\n",
              "</pre>\n"
            ],
            "text/plain": [
              "-------------------------------------------------------------\n"
            ]
          },
          "metadata": {
            "tags": []
          }
        },
        {
          "output_type": "display_data",
          "data": {
            "text/html": [
              "<pre style=\"white-space:pre;overflow-x:auto;line-height:normal;font-family:Menlo,'DejaVu Sans Mono',consolas,'Courier New',monospace\">Training Epoch: <span style=\"color: #008080; text-decoration-color: #008080; font-weight: bold\">48</span>, <span style=\"color: #008000; text-decoration-color: #008000\">'LR:'</span>, <span style=\"font-weight: bold\">[</span><span style=\"color: #008080; text-decoration-color: #008080; font-weight: bold\">1.0000000000000002e-06</span><span style=\"font-weight: bold\">]</span>\n",
              "</pre>\n"
            ],
            "text/plain": [
              "Training Epoch: \u001b[1;36m48\u001b[0m, \u001b[32m'LR:'\u001b[0m, \u001b[1m[\u001b[0m\u001b[1;36m1.0000000000000002e-06\u001b[0m\u001b[1m]\u001b[0m\n"
            ]
          },
          "metadata": {
            "tags": []
          }
        },
        {
          "output_type": "display_data",
          "data": {
            "text/html": [
              "<pre style=\"white-space:pre;overflow-x:auto;line-height:normal;font-family:Menlo,'DejaVu Sans Mono',consolas,'Courier New',monospace\">Train Losses: <span style=\"color: #008080; text-decoration-color: #008080; font-weight: bold\">0.3315191593240289</span>\n",
              "</pre>\n"
            ],
            "text/plain": [
              "Train Losses: \u001b[1;36m0.3315191593240289\u001b[0m\n"
            ]
          },
          "metadata": {
            "tags": []
          }
        },
        {
          "output_type": "display_data",
          "data": {
            "text/html": [
              "<pre style=\"white-space:pre;overflow-x:auto;line-height:normal;font-family:Menlo,'DejaVu Sans Mono',consolas,'Courier New',monospace\">Train Accuracy: <span style=\"color: #008080; text-decoration-color: #008080; font-weight: bold\">0.8676470588235294</span>\n",
              "</pre>\n"
            ],
            "text/plain": [
              "Train Accuracy: \u001b[1;36m0.8676470588235294\u001b[0m\n"
            ]
          },
          "metadata": {
            "tags": []
          }
        },
        {
          "output_type": "display_data",
          "data": {
            "text/html": [
              "<pre style=\"white-space:pre;overflow-x:auto;line-height:normal;font-family:Menlo,'DejaVu Sans Mono',consolas,'Courier New',monospace\">Val Losses: <span style=\"color: #008080; text-decoration-color: #008080; font-weight: bold\">0.35048121213912964</span>\n",
              "</pre>\n"
            ],
            "text/plain": [
              "Val Losses: \u001b[1;36m0.35048121213912964\u001b[0m\n"
            ]
          },
          "metadata": {
            "tags": []
          }
        },
        {
          "output_type": "display_data",
          "data": {
            "text/html": [
              "<pre style=\"white-space:pre;overflow-x:auto;line-height:normal;font-family:Menlo,'DejaVu Sans Mono',consolas,'Courier New',monospace\">Val Accuracy: <span style=\"color: #008080; text-decoration-color: #008080; font-weight: bold\">0.8214285714285714</span>\n",
              "</pre>\n"
            ],
            "text/plain": [
              "Val Accuracy: \u001b[1;36m0.8214285714285714\u001b[0m\n"
            ]
          },
          "metadata": {
            "tags": []
          }
        },
        {
          "output_type": "display_data",
          "data": {
            "text/html": [
              "<pre style=\"white-space:pre;overflow-x:auto;line-height:normal;font-family:Menlo,'DejaVu Sans Mono',consolas,'Courier New',monospace\">-------------------------------------------------------------\n",
              "</pre>\n"
            ],
            "text/plain": [
              "-------------------------------------------------------------\n"
            ]
          },
          "metadata": {
            "tags": []
          }
        },
        {
          "output_type": "display_data",
          "data": {
            "text/html": [
              "<pre style=\"white-space:pre;overflow-x:auto;line-height:normal;font-family:Menlo,'DejaVu Sans Mono',consolas,'Courier New',monospace\">Training Epoch: <span style=\"color: #008080; text-decoration-color: #008080; font-weight: bold\">49</span>, <span style=\"color: #008000; text-decoration-color: #008000\">'LR:'</span>, <span style=\"font-weight: bold\">[</span><span style=\"color: #008080; text-decoration-color: #008080; font-weight: bold\">1.0000000000000002e-06</span><span style=\"font-weight: bold\">]</span>\n",
              "</pre>\n"
            ],
            "text/plain": [
              "Training Epoch: \u001b[1;36m49\u001b[0m, \u001b[32m'LR:'\u001b[0m, \u001b[1m[\u001b[0m\u001b[1;36m1.0000000000000002e-06\u001b[0m\u001b[1m]\u001b[0m\n"
            ]
          },
          "metadata": {
            "tags": []
          }
        },
        {
          "output_type": "display_data",
          "data": {
            "text/html": [
              "<pre style=\"white-space:pre;overflow-x:auto;line-height:normal;font-family:Menlo,'DejaVu Sans Mono',consolas,'Courier New',monospace\">Train Losses: <span style=\"color: #008080; text-decoration-color: #008080; font-weight: bold\">0.35350725317702575</span>\n",
              "</pre>\n"
            ],
            "text/plain": [
              "Train Losses: \u001b[1;36m0.35350725317702575\u001b[0m\n"
            ]
          },
          "metadata": {
            "tags": []
          }
        },
        {
          "output_type": "display_data",
          "data": {
            "text/html": [
              "<pre style=\"white-space:pre;overflow-x:auto;line-height:normal;font-family:Menlo,'DejaVu Sans Mono',consolas,'Courier New',monospace\">Train Accuracy: <span style=\"color: #008080; text-decoration-color: #008080; font-weight: bold\">0.9044117647058824</span>\n",
              "</pre>\n"
            ],
            "text/plain": [
              "Train Accuracy: \u001b[1;36m0.9044117647058824\u001b[0m\n"
            ]
          },
          "metadata": {
            "tags": []
          }
        },
        {
          "output_type": "display_data",
          "data": {
            "text/html": [
              "<pre style=\"white-space:pre;overflow-x:auto;line-height:normal;font-family:Menlo,'DejaVu Sans Mono',consolas,'Courier New',monospace\">Val Losses: <span style=\"color: #008080; text-decoration-color: #008080; font-weight: bold\">0.350422739982605</span>\n",
              "</pre>\n"
            ],
            "text/plain": [
              "Val Losses: \u001b[1;36m0.350422739982605\u001b[0m\n"
            ]
          },
          "metadata": {
            "tags": []
          }
        },
        {
          "output_type": "display_data",
          "data": {
            "text/html": [
              "<pre style=\"white-space:pre;overflow-x:auto;line-height:normal;font-family:Menlo,'DejaVu Sans Mono',consolas,'Courier New',monospace\">Val Accuracy: <span style=\"color: #008080; text-decoration-color: #008080; font-weight: bold\">0.8214285714285714</span>\n",
              "</pre>\n"
            ],
            "text/plain": [
              "Val Accuracy: \u001b[1;36m0.8214285714285714\u001b[0m\n"
            ]
          },
          "metadata": {
            "tags": []
          }
        },
        {
          "output_type": "display_data",
          "data": {
            "text/html": [
              "<pre style=\"white-space:pre;overflow-x:auto;line-height:normal;font-family:Menlo,'DejaVu Sans Mono',consolas,'Courier New',monospace\">-------------------------------------------------------------\n",
              "</pre>\n"
            ],
            "text/plain": [
              "-------------------------------------------------------------\n"
            ]
          },
          "metadata": {
            "tags": []
          }
        }
      ]
    },
    {
      "cell_type": "code",
      "metadata": {
        "id": "2W0C9zdsqIf7"
      },
      "source": [
        ""
      ],
      "execution_count": null,
      "outputs": []
    }
  ]
}